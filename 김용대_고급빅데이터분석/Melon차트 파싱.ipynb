{
 "cells": [
  {
   "cell_type": "code",
   "execution_count": 25,
   "metadata": {},
   "outputs": [],
   "source": [
    "#출처 : http://leechoong.com/posts/2018/python_webcrawling01/"
   ]
  },
  {
   "cell_type": "code",
   "execution_count": 2,
   "metadata": {},
   "outputs": [],
   "source": [
    "from IPython.core.interactiveshell import InteractiveShell\n",
    "InteractiveShell.ast_node_interactivity = \"all\""
   ]
  },
  {
   "cell_type": "code",
   "execution_count": 3,
   "metadata": {},
   "outputs": [],
   "source": [
    "import bs4\n",
    "import requests\n",
    "from bs4 import BeautifulSoup"
   ]
  },
  {
   "cell_type": "code",
   "execution_count": 59,
   "metadata": {
    "scrolled": true
   },
   "outputs": [],
   "source": [
    "header = {'User-Agent': 'Mozilla/5.0 (Windows NT 6.3; Trident/7.0; rv:11.0) like Gecko'}\n",
    "melon = requests.get('https://www.melon.com/chart/search/index.htm', headers = header) # 멜론차트 웹사이트\n",
    "melon_html = melon.text\n",
    "melon_parse= BeautifulSoup(melon_html, 'html.parser')"
   ]
  },
  {
   "cell_type": "code",
   "execution_count": 60,
   "metadata": {},
   "outputs": [],
   "source": [
    "title = melon_parse.select('#lst50 > td > div > div > div.ellipsis.rank01 > span > a')\n",
    "artist = melon_parse.select('#lst50 > td > div > div > div.ellipsis.rank02 > span')"
   ]
  },
  {
   "cell_type": "code",
   "execution_count": null,
   "metadata": {},
   "outputs": [],
   "source": []
  },
  {
   "cell_type": "code",
   "execution_count": 39,
   "metadata": {},
   "outputs": [
    {
     "name": "stdout",
     "output_type": "stream",
     "text": [
      "하루도 그대를 사랑하지 않은 적이 없었다 - 임창정\n",
      "우리 그만하자 - 로이킴\n",
      "사이렌 (Siren) - 선미\n",
      "헤어지는 중 - 펀치 (Punch)\n",
      "Way Back Home - 숀 (SHAUN)\n",
      "IDOL - 방탄소년단\n",
      "모든 날, 모든 순간 (Every day, Every Moment) - 폴킴\n",
      "열애중 - 벤\n",
      "flex (Prod. By 기리보이) - 기리보이, Kid Milli, NO:EL, 스윙스\n",
      "I`m Fine - 방탄소년단\n"
     ]
    }
   ],
   "source": [
    "rank = 10\n",
    "for r in range(rank):\n",
    "    print(title[r].text + \" - \" + artist[r].text)"
   ]
  },
  {
   "cell_type": "markdown",
   "metadata": {},
   "source": [
    "# 2018년 9월 28일 인기가요"
   ]
  },
  {
   "cell_type": "code",
   "execution_count": 49,
   "metadata": {
    "scrolled": true
   },
   "outputs": [
    {
     "name": "stdout",
     "output_type": "stream",
     "text": [
      "  1위: 하루도 그대를 사랑하지 않은 적이 없었다 - 임창정\n",
      "  2위: 우리 그만하자 - 로이킴\n",
      "  3위: 사이렌 (Siren) - 선미\n",
      "  4위: 헤어지는 중 - 펀치 (Punch)\n",
      "  5위: Way Back Home - 숀 (SHAUN)\n",
      "  6위: IDOL - 방탄소년단\n",
      "  7위: 모든 날, 모든 순간 (Every day, Every Moment) - 폴킴\n",
      "  8위: 열애중 - 벤\n",
      "  9위: flex (Prod. By 기리보이) - 기리보이, Kid Milli, NO:EL, 스윙스\n",
      " 10위: 뚜두뚜두 (DDU-DU DDU-DU) - BLACKPINK\n"
     ]
    }
   ],
   "source": [
    "if __name__ == \"__main__\":  # 이거 쓰는 이유가뭐지?\n",
    "    RANK = 10\n",
    " \n",
    "    header = {'User-Agent': 'Mozilla/5.0 (Windows NT 6.3; Trident/7.0; rv:11.0) like Gecko'}\n",
    "    req = requests.get('https://www.melon.com/chart/index.htm', headers = header)\n",
    "    html = req.text\n",
    "    parse = BeautifulSoup(html, 'html.parser')\n",
    " \n",
    "    titles = parse.find_all(\"div\", {\"class\": \"ellipsis rank01\"})\n",
    "    songs = parse.find_all(\"div\", {\"class\": \"ellipsis rank02\"})\n",
    " \n",
    "    title = []\n",
    "    song = []\n",
    " \n",
    "    for t in titles:\n",
    "        title.append(t.find('a').text)\n",
    " \n",
    "    for s in songs:\n",
    "        song.append(s.find('span', {\"class\": \"checkEllipsis\"}).text)\n",
    " \n",
    "    for i in range(RANK):\n",
    "        print('%3d위: %s - %s'%(i+1, title[i], song[i]))"
   ]
  },
  {
   "cell_type": "code",
   "execution_count": 48,
   "metadata": {},
   "outputs": [
    {
     "data": {
      "text/plain": [
       "[]"
      ]
     },
     "execution_count": 48,
     "metadata": {},
     "output_type": "execute_result"
    }
   ],
   "source": []
  },
  {
   "cell_type": "markdown",
   "metadata": {},
   "source": [
    "# 2010년대 인기가요 # 시대별 차트는 header걸어줘도 406 거부나옴"
   ]
  },
  {
   "cell_type": "code",
   "execution_count": 72,
   "metadata": {},
   "outputs": [],
   "source": [
    "header = {'User-Agent': 'Mozilla/5.0 (Windows NT 6.3; Trident/7.0; rv:11.0) like Gecko'}\n",
    "melon = requests.get('https://www.melon.com/chart/search/index.htm', headers = header) # 멜론차트 웹사이트\n",
    "melon_html = melon.text\n",
    "melon_parse= BeautifulSoup(melon_html, 'html.parser')"
   ]
  },
  {
   "cell_type": "code",
   "execution_count": 73,
   "metadata": {},
   "outputs": [],
   "source": [
    "title = melon_parse.select('#lst50 > td > div > div > div.ellipsis.rank01 > span > a')\n",
    "artist = melon_parse.select('#lst50 > td > div > div > div.ellipsis.rank02 > span')"
   ]
  },
  {
   "cell_type": "code",
   "execution_count": 75,
   "metadata": {},
   "outputs": [
    {
     "data": {
      "text/plain": [
       "<Response [406]>"
      ]
     },
     "execution_count": 75,
     "metadata": {},
     "output_type": "execute_result"
    }
   ],
   "source": [
    "melon"
   ]
  },
  {
   "cell_type": "code",
   "execution_count": null,
   "metadata": {},
   "outputs": [],
   "source": []
  }
 ],
 "metadata": {
  "kernelspec": {
   "display_name": "Python 3",
   "language": "python",
   "name": "python3"
  },
  "language_info": {
   "codemirror_mode": {
    "name": "ipython",
    "version": 3
   },
   "file_extension": ".py",
   "mimetype": "text/x-python",
   "name": "python",
   "nbconvert_exporter": "python",
   "pygments_lexer": "ipython3",
   "version": "3.6.4"
  }
 },
 "nbformat": 4,
 "nbformat_minor": 2
}
