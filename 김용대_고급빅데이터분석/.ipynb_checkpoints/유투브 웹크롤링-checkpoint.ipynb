{
 "cells": [
  {
   "cell_type": "code",
   "execution_count": 2,
   "metadata": {},
   "outputs": [],
   "source": [
    "from IPython.core.interactiveshell import InteractiveShell\n",
    "InteractiveShell.ast_node_interactivity = \"all\""
   ]
  },
  {
   "cell_type": "code",
   "execution_count": 3,
   "metadata": {},
   "outputs": [],
   "source": [
    "from bs4 import BeautifulSoup\n",
    "import lxml\n",
    "import requests\n",
    "\n",
    "#크롤링 하려는 정보 dict 처리\n",
    "eminem_video_info = {'title':'', 'video_link':'', 'img_link':'', 'play_time':'',\n",
    "'hits' : '', 'updated_time':'' }"
   ]
  },
  {
   "cell_type": "code",
   "execution_count": 14,
   "metadata": {
    "scrolled": true
   },
   "outputs": [
    {
     "name": "stdout",
     "output_type": "stream",
     "text": [
      "{'title': '[소란] ASMR LIVE 가수는 노래 제목 따라간다던데...', 'video_link': 'https://www.youtube.com/watch?v=-Ibg7BuVrUg', 'img_link': 'https://i.ytimg.com/vi/-Ibg7BuVrUg/hqdefault.jpg?sqp=-oaymwEiCMQBEG5IWvKriqkDFQgBFQAAAAAYASUAAMhCPQCAokN4AQ==&rs=AOn4CLAFg9eJcRwVLv0jYW2X6stdylYWKA', 'play_time': '1:01', 'hits': '조회수 45회', 'updated_time': '36분 전'}\n",
      "{'title': '[ORORA] 리모델링2', 'video_link': 'https://www.youtube.com/watch?v=ps9VTyCFAKE', 'img_link': 'https://i.ytimg.com/vi/ps9VTyCFAKE/hqdefault.jpg?sqp=-oaymwEiCMQBEG5IWvKriqkDFQgBFQAAAAAYASUAAMhCPQCAokN4AQ==&rs=AOn4CLBryGfxLbXGHQxYPfBlq4B71QH9Yg', 'play_time': '1:01', 'hits': '조회수 11회', 'updated_time': '36분 전'}\n",
      "{'title': \"[빈센트] Live '잊혀지는게' (루프스테이션)\", 'video_link': 'https://www.youtube.com/watch?v=GrQF4CfEMqI', 'img_link': 'https://i.ytimg.com/vi/GrQF4CfEMqI/hqdefault.jpg?sqp=-oaymwEiCMQBEG5IWvKriqkDFQgBFQAAAAAYASUAAMhCPQCAokN4AQ==&rs=AOn4CLBbbC3QlLd3PObchJm2ik5oiSNdSQ', 'play_time': '7:17', 'hits': '조회수 9회', 'updated_time': '36분 전'}\n",
      "{'title': \"[PS영준] '우리 마지막 날' 레코딩 스케치 영상입니다.\", 'video_link': 'https://www.youtube.com/watch?v=9U3MRXABIME', 'img_link': 'https://i.ytimg.com/vi/9U3MRXABIME/hqdefault.jpg?sqp=-oaymwEiCMQBEG5IWvKriqkDFQgBFQAAAAAYASUAAMhCPQCAokN4AQ==&rs=AOn4CLA-wF72YRhMWV3QePfUeTPC9RS5wA', 'play_time': '3:44', 'hits': '조회수 27회', 'updated_time': '36분 전'}\n",
      "{'title': '[Chihiro Yamazaki+Route 14 Band] 2018 치히로 야마자키+루트14밴드 내한공연 - 밤하늘의 트럼펫', 'video_link': 'https://www.youtube.com/watch?v=pzVc4aI-9iU', 'img_link': 'https://i.ytimg.com/vi/pzVc4aI-9iU/hqdefault.jpg?sqp=-oaymwEiCMQBEG5IWvKriqkDFQgBFQAAAAAYASUAAMhCPQCAokN4AQ==&rs=AOn4CLCS9il9q1Aw13lzRKmWEdrEsqnT0g', 'play_time': '0:16', 'hits': '조회수 15회', 'updated_time': '36분 전'}\n",
      "{'title': '[Teaser] Epitone Project(에피톤 프로젝트) _ Words in the mind(마음속의 단어들) Preview', 'video_link': 'https://www.youtube.com/watch?v=y9ObJjDHudU', 'img_link': 'https://i.ytimg.com/vi/y9ObJjDHudU/hqdefault.jpg?sqp=-oaymwEiCMQBEG5IWvKriqkDFQgBFQAAAAAYASUAAMhCPQCAokN4AQ==&rs=AOn4CLALVuYSe9Yzoec-tKIFEixRxp2Uug', 'play_time': '4:01', 'hits': '조회수 8,242회', 'updated_time': '18시간 전'}\n",
      "{'title': '[Teaser] CHEEZE(치즈) _ Everything to', 'video_link': 'https://www.youtube.com/watch?v=ZYu9guNGyZc', 'img_link': 'https://i.ytimg.com/vi/ZYu9guNGyZc/hqdefault.jpg?sqp=-oaymwEiCMQBEG5IWvKriqkDFQgBFQAAAAAYASUAAMhCPQCAokN4AQ==&rs=AOn4CLC18LAvr_QnSIFj12LopcxTc20wDg', 'play_time': '0:52', 'hits': '조회수 10,438회', 'updated_time': '18시간 전'}\n",
      "{'title': '[MV] Park Won(박원) _ rudderless(나)', 'video_link': 'https://www.youtube.com/watch?v=WZrLs9hto04', 'img_link': 'https://i.ytimg.com/vi/WZrLs9hto04/hqdefault.jpg?sqp=-oaymwEiCMQBEG5IWvKriqkDFQgBFQAAAAAYASUAAMhCPQCAokN4AQ==&rs=AOn4CLDxvZIBx2o5KurLUxAH9ZfDlZmIhQ', 'play_time': '4:44', 'hits': '조회수 48,239회', 'updated_time': '18시간 전'}\n",
      "{'title': '[MV] youra(유라) _ my', 'video_link': 'https://www.youtube.com/watch?v=AOXWZOougFQ', 'img_link': 'https://i.ytimg.com/vi/AOXWZOougFQ/hqdefault.jpg?sqp=-oaymwEiCMQBEG5IWvKriqkDFQgBFQAAAAAYASUAAMhCPQCAokN4AQ==&rs=AOn4CLBCyaGdX3V9Dbrgu9Dmgg8maa35MQ', 'play_time': '3:05', 'hits': '조회수 26,707회', 'updated_time': '18시간 전'}\n",
      "{'title': '[NANA] NANA의 자급자족 flamingo홍보_Q&A with ENG sub', 'video_link': 'https://www.youtube.com/watch?v=0aoaF3i8xqg', 'img_link': 'https://i.ytimg.com/vi/0aoaF3i8xqg/hqdefault.jpg?sqp=-oaymwEiCMQBEG5IWvKriqkDFQgBFQAAAAAYASUAAMhCPQCAokN4AQ==&rs=AOn4CLAAAlD5qwJs_cBcro-pQ2cNIFEzRA', 'play_time': '8:34', 'hits': '조회수 1,151회', 'updated_time': '1일 전'}\n",
      "{'title': '[라팡] #retrobrighterday#everyday feat 이각경#우주버전', 'video_link': 'https://www.youtube.com/watch?v=XovCxRZTiRQ', 'img_link': 'https://i.ytimg.com/vi/XovCxRZTiRQ/hqdefault.jpg?sqp=-oaymwEiCMQBEG5IWvKriqkDFQgBFQAAAAAYASUAAMhCPQCAokN4AQ==&rs=AOn4CLC9v4Vb_xhGKcTQNjL2i0HKFg8ovA', 'play_time': '3:20', 'hits': '조회수 438회', 'updated_time': '1일 전'}\n",
      "{'title': \"[로이킴] '우리 그만하자' M/V Making Film #day1\", 'video_link': 'https://www.youtube.com/watch?v=4mpqmFp9jIA', 'img_link': 'https://i.ytimg.com/vi/4mpqmFp9jIA/hqdefault.jpg?sqp=-oaymwEiCMQBEG5IWvKriqkDFQgBFQAAAAAYASUAAMhCPQCAokN4AQ==&rs=AOn4CLDeRvIfNalLYBKaxQ6E356xTD1i9w', 'play_time': '4:16', 'hits': '조회수 625회', 'updated_time': '1일 전'}\n",
      "{'title': '[ORORA] 리모델링1', 'video_link': 'https://www.youtube.com/watch?v=uTXVy5igC8E', 'img_link': 'https://i.ytimg.com/vi/uTXVy5igC8E/hqdefault.jpg?sqp=-oaymwEiCMQBEG5IWvKriqkDFQgBFQAAAAAYASUAAMhCPQCAokN4AQ==&rs=AOn4CLBjiZHIqihnUH6oasK6ZEMwmooIdg', 'play_time': '0:50', 'hits': '조회수 273회', 'updated_time': '1일 전'}\n",
      "{'title': \"[로이킴] ROY KIM '우리 그만하자' M/V Making Film #day2\", 'video_link': 'https://www.youtube.com/watch?v=1JCkDZSzIco', 'img_link': 'https://i.ytimg.com/vi/1JCkDZSzIco/hqdefault.jpg?sqp=-oaymwEiCMQBEG5IWvKriqkDFQgBFQAAAAAYASUAAMhCPQCAokN4AQ==&rs=AOn4CLDYAGx6CqMiZ-9f_27Pu1f_xE3sxw', 'play_time': '3:12', 'hits': '조회수 396회', 'updated_time': '1일 전'}\n",
      "{'title': \"[케이시] Kassy '손을 잡아줘'\", 'video_link': 'https://www.youtube.com/watch?v=6Q7YMB3lL-4', 'img_link': 'https://i.ytimg.com/vi/6Q7YMB3lL-4/hqdefault.jpg?sqp=-oaymwEiCMQBEG5IWvKriqkDFQgBFQAAAAAYASUAAMhCPQCAokN4AQ==&rs=AOn4CLDAgT56SfSt-wjWQemczX2_y73gpw', 'play_time': '3:40', 'hits': '조회수 674회', 'updated_time': '1일 전'}\n",
      "{'title': '[권영찬] 협업 희망1위 뮤지션!! 권영찬_라이브 영상', 'video_link': 'https://www.youtube.com/watch?v=aOw6q7Iyxuc', 'img_link': 'https://i.ytimg.com/vi/aOw6q7Iyxuc/hqdefault.jpg?sqp=-oaymwEiCMQBEG5IWvKriqkDFQgBFQAAAAAYASUAAMhCPQCAokN4AQ==&rs=AOn4CLBusiqU-z1zLRHj9TIzv7YcEKI0qg', 'play_time': '4:06', 'hits': '조회수 284회', 'updated_time': '1일 전'}\n",
      "{'title': \"[임재현] '사랑에 연습이 있었다면' (라이브 목푸는 중 삑사리 영상)\", 'video_link': 'https://www.youtube.com/watch?v=aGd7BmlO6sQ', 'img_link': 'https://i.ytimg.com/vi/aGd7BmlO6sQ/hqdefault.jpg?sqp=-oaymwEiCMQBEG5IWvKriqkDFQgBFQAAAAAYASUAAMhCPQCAokN4AQ==&rs=AOn4CLA4aN8lXrkYyGUoMu0GofZ0uc6pmA', 'play_time': '1:39', 'hits': '조회수 296회', 'updated_time': '1일 전'}\n",
      "{'title': '[낭만유랑악단] 낭만극장365일 ep76 소야곡MV 뒷얘기(낭만유랑악단/인간극장)', 'video_link': 'https://www.youtube.com/watch?v=yVBlZ7ZxCVE', 'img_link': 'https://i.ytimg.com/vi/yVBlZ7ZxCVE/hqdefault.jpg?sqp=-oaymwEiCMQBEG5IWvKriqkDFQgBFQAAAAAYASUAAMhCPQCAokN4AQ==&rs=AOn4CLBfHDP7UlqYwT6WIXnyR2k4UCI4Uw', 'play_time': '1:35', 'hits': '조회수 201회', 'updated_time': '1일 전'}\n",
      "{'title': '[Chihiro Yamazaki+Route 14 Band] 2018 치히로 야마자키+루트14밴드 내한공연 - 밤하늘의 트럼펫', 'video_link': 'https://www.youtube.com/watch?v=ir8HWFCjBFA', 'img_link': 'https://i.ytimg.com/vi/ir8HWFCjBFA/hqdefault.jpg?sqp=-oaymwEiCMQBEG5IWvKriqkDFQgBFQAAAAAYASUAAMhCPQCAokN4AQ==&rs=AOn4CLDdZ35kz3gfPJtXAxWqsML0BuOfhw', 'play_time': '0:30', 'hits': '조회수 238회', 'updated_time': '1일 전'}\n",
      "{'title': '[Teaser] Park Won(박원) _ rudderless(나)', 'video_link': 'https://www.youtube.com/watch?v=_3YXYOeS4yk', 'img_link': 'https://i.ytimg.com/vi/_3YXYOeS4yk/hqdefault.jpg?sqp=-oaymwEiCMQBEG5IWvKriqkDFQgBFQAAAAAYASUAAMhCPQCAokN4AQ==&rs=AOn4CLAvxqI-4g01P7Juf7ciStq3T9Nslw', 'play_time': '0:28', 'hits': '조회수 26,889회', 'updated_time': '1일 전'}\n",
      "{'title': '권정열이 진짜 10cm가 된다면? [Perfect] 미니미 라이브 ㅡ 10cm X 연플리3', 'video_link': 'https://www.youtube.com/watch?v=PS0w8OL82KY', 'img_link': 'https://i.ytimg.com/vi/PS0w8OL82KY/hqdefault.jpg?sqp=-oaymwEiCMQBEG5IWvKriqkDFQgBFQAAAAAYASUAAMhCPQCAokN4AQ==&rs=AOn4CLBNHdeewOD05F-D1CWhHrMyDbHLxA', 'play_time': '4:00', 'hits': '조회수 44,320회', 'updated_time': '1일 전'}\n",
      "{'title': '[MV] KISSES(키세스) _ 24hr Store(편의점)', 'video_link': 'https://www.youtube.com/watch?v=7aSN1IUH_Gc', 'img_link': 'https://i.ytimg.com/vi/7aSN1IUH_Gc/hqdefault.jpg?sqp=-oaymwEiCMQBEG5IWvKriqkDFQgBFQAAAAAYASUAAMhCPQCAokN4AQ==&rs=AOn4CLAvfGuyJ2nimGD0xDmNCwneSRU-Cw', 'play_time': '4:24', 'hits': '조회수 59,621회', 'updated_time': '2일 전'}\n",
      "{'title': 'DANCE WAR(댄스워): Teaser', 'video_link': 'https://www.youtube.com/watch?v=hhISDX729LM', 'img_link': 'https://i.ytimg.com/vi/hhISDX729LM/hqdefault.jpg?sqp=-oaymwEiCMQBEG5IWvKriqkDFQgBFQAAAAAYASUAAMhCPQCAokN4AQ==&rs=AOn4CLBZxGTox3sFc4X9XXJ3QlAmQDATVA', 'play_time': '1:01', 'hits': '조회수 78,111회', 'updated_time': '3일 전'}\n",
      "{'title': '[MV] 10cm _ Perfect (Love Playlist3(연애플레이리스트3) Part.1)', 'video_link': 'https://www.youtube.com/watch?v=ApyPa5k1jT0', 'img_link': 'https://i.ytimg.com/vi/ApyPa5k1jT0/hqdefault.jpg?sqp=-oaymwEiCMQBEG5IWvKriqkDFQgBFQAAAAAYASUAAMhCPQCAokN4AQ==&rs=AOn4CLAmFYfLrU7-q8-TpE3kvh3_NP1Aew', 'play_time': '4:23', 'hits': '조회수 105,425회', 'updated_time': '4일 전'}\n",
      "{'title': \"[레코드벨] 가사와 함께! '내가 나와 친해지기 위해서'\", 'video_link': 'https://www.youtube.com/watch?v=Typ0U08qJQI', 'img_link': 'https://i.ytimg.com/vi/Typ0U08qJQI/hqdefault.jpg?sqp=-oaymwEiCMQBEG5IWvKriqkDFQgBFQAAAAAYASUAAMhCPQCAokN4AQ==&rs=AOn4CLA1iR8fiX5o8u7fLoKZ7fHsqbI0Hw', 'play_time': '3:36', 'hits': '조회수 1,952회', 'updated_time': '4일 전'}\n",
      "{'title': '[김청일] Lit.G ‘이제, 우리’ Studio Ver.', 'video_link': 'https://www.youtube.com/watch?v=3Z09jQl2J0s', 'img_link': 'https://i.ytimg.com/vi/3Z09jQl2J0s/hqdefault.jpg?sqp=-oaymwEiCMQBEG5IWvKriqkDFQgBFQAAAAAYASUAAMhCPQCAokN4AQ==&rs=AOn4CLDjTxSieM6JeM3kmsmSHxDXe0qyjA', 'play_time': '3:13', 'hits': '조회수 1,982회', 'updated_time': '4일 전'}\n",
      "{'title': \"[김청일] Lit.G '흔한 가사' 세로라이브\", 'video_link': 'https://www.youtube.com/watch?v=iVcUhVFO_mU', 'img_link': 'https://i.ytimg.com/vi/iVcUhVFO_mU/hqdefault.jpg?sqp=-oaymwEiCMQBEG5IWvKriqkDFQgBFQAAAAAYASUAAMhCPQCAokN4AQ==&rs=AOn4CLCmxMGaHx_Sd0Cxs6vjH-xzVvxYaA', 'play_time': '5:00', 'hits': '조회수 1,732회', 'updated_time': '4일 전'}\n",
      "{'title': \"[HIZY] LIVE 'Cliche'\", 'video_link': 'https://www.youtube.com/watch?v=_SYstojGLv0', 'img_link': 'https://i.ytimg.com/vi/_SYstojGLv0/hqdefault.jpg?sqp=-oaymwEiCMQBEG5IWvKriqkDFQgBFQAAAAAYASUAAMhCPQCAokN4AQ==&rs=AOn4CLDpBzmR2043o_yeCvvrjAGx1OTL2A', 'play_time': '3:10', 'hits': '조회수 1,375회', 'updated_time': '4일 전'}\n",
      "{'title': '[좋아서하는밴드] 좋아밴은 10살!', 'video_link': 'https://www.youtube.com/watch?v=t7Lz_LQagEo', 'img_link': 'https://i.ytimg.com/vi/t7Lz_LQagEo/hqdefault.jpg?sqp=-oaymwEiCMQBEG5IWvKriqkDFQgBFQAAAAAYASUAAMhCPQCAokN4AQ==&rs=AOn4CLAR8Ss8UYyqXR257szY-0r0U7btow', 'play_time': '2:36', 'hits': '조회수 1,056회', 'updated_time': '4일 전'}\n",
      "{'title': \"[우주히피] 'Daydream' (live clip)\", 'video_link': 'https://www.youtube.com/watch?v=r0Uw7nx5APA', 'img_link': 'https://i.ytimg.com/vi/r0Uw7nx5APA/hqdefault.jpg?sqp=-oaymwEiCMQBEG5IWvKriqkDFQgBFQAAAAAYASUAAMhCPQCAokN4AQ==&rs=AOn4CLCrQ9NyzuYXBmBHEaR1qQZOngvhMg', 'play_time': '2:35', 'hits': '조회수 1,152회', 'updated_time': '4일 전'}\n"
     ]
    },
    {
     "data": {
      "text/plain": [
       "{'title': \"[우주히피] 'Daydream' (live clip)\",\n",
       " 'video_link': 'https://www.youtube.com/watch?v=r0Uw7nx5APA',\n",
       " 'img_link': 'https://i.ytimg.com/vi/r0Uw7nx5APA/hqdefault.jpg?sqp=-oaymwEiCMQBEG5IWvKriqkDFQgBFQAAAAAYASUAAMhCPQCAokN4AQ==&rs=AOn4CLCrQ9NyzuYXBmBHEaR1qQZOngvhMg',\n",
       " 'play_time': '2:35',\n",
       " 'hits': '조회수 1,152회',\n",
       " 'updated_time': '4일 전'}"
      ]
     },
     "execution_count": 14,
     "metadata": {},
     "output_type": "execute_result"
    }
   ],
   "source": [
    "def get_eminem_video_link(target_url):\n",
    "    response = requests.get(target_url)\n",
    "    soup = BeautifulSoup(response.text, \"lxml\")\n",
    "    lis = soup.find_all('li', {'class' : 'channels-content-item yt-shelf-grid-item'})\n",
    "    for li in lis :\n",
    "        #<a class=\"yt-uix-sessionlink yt-uix-tile-link spf-link yt-ui-ellipsis yt-ui-ellipsis-2\" dir=\"ltr\" title=\"Eminem - Phenomenal (Behind The Scenes)\" href=\"/watch?v=NEGjmd_RzLU\">Eminem - Phenomenal (Behind The Scenes)</a>\n",
    "        title = li.find('a', {'title' : True})['title']\n",
    "        video_link = 'https://www.youtube.com' + li.find('a', {'href' : True})['href']\n",
    "        img_link = li.find('img', {'src' : True})['src']\n",
    "        #<span class=\"video-time\" aria-hidden=\"true\"><span aria-label=\"8분, 55초\">8:55</span></span>\n",
    "        play_time = li.find('span', {'class' : 'video-time'}).text\n",
    "        #<ul class=\"yt-lockup-meta-info\"><li>조회수 2,902,617회</li><li>6개월 전</li></ul>\n",
    "        #hits_and_updated_time = li.find('ul', {'class' : 'yt-lockup-meta-info'})\n",
    "        hits = li.find_all('li')[2].text\n",
    "        updated_time = li.find_all('li')[3].text\n",
    "        eminem_video_info = { \n",
    "            'title' : title, 'video_link' : video_link, 'img_link' : img_link, 'play_time' : play_time, 'hits' : hits, 'updated_time' : updated_time } \n",
    "        print(eminem_video_info)\n",
    "    return eminem_video_info\n",
    "\n",
    "        \n",
    "target_url = 'https://www.youtube.com/user/LOENENT/videos'\n",
    "get_eminem_video_link(target_url)"
   ]
  },
  {
   "cell_type": "code",
   "execution_count": null,
   "metadata": {},
   "outputs": [],
   "source": []
  },
  {
   "cell_type": "markdown",
   "metadata": {},
   "source": [
    "# Youtube API 공통 코드"
   ]
  },
  {
   "cell_type": "code",
   "execution_count": 21,
   "metadata": {},
   "outputs": [
    {
     "data": {
      "text/plain": [
       "'\\nYoutube data API 공통 코드 시작\\n원본: https://developers.google.com/youtube/v3/docs/commentThreads/list\\n\\nsoma0sd가 변경한 이 소스코드의 라이선스는 원본의 라이선스를 따릅니다.\\n'"
      ]
     },
     "execution_count": 21,
     "metadata": {},
     "output_type": "execute_result"
    },
    {
     "name": "stderr",
     "output_type": "stream",
     "text": [
      "usage: ipykernel_launcher.py [--auth_host_name AUTH_HOST_NAME]\n",
      "                             [--noauth_local_webserver]\n",
      "                             [--auth_host_port [AUTH_HOST_PORT [AUTH_HOST_PORT ...]]]\n",
      "                             [--logging_level {DEBUG,INFO,WARNING,ERROR,CRITICAL}]\n",
      "ipykernel_launcher.py: error: unrecognized arguments: -f C:\\Users\\jayjunglim\\AppData\\Roaming\\jupyter\\runtime\\kernel-67430c57-2358-43be-8968-8e831a9a7223.json\n"
     ]
    },
    {
     "ename": "SystemExit",
     "evalue": "2",
     "output_type": "error",
     "traceback": [
      "An exception has occurred, use %tb to see the full traceback.\n",
      "\u001b[1;31mSystemExit\u001b[0m\u001b[1;31m:\u001b[0m 2\n"
     ]
    },
    {
     "name": "stderr",
     "output_type": "stream",
     "text": [
      "C:\\ProgramData\\Anaconda3\\lib\\site-packages\\IPython\\core\\interactiveshell.py:2971: UserWarning: To exit: use 'exit', 'quit', or Ctrl-D.\n",
      "  warn(\"To exit: use 'exit', 'quit', or Ctrl-D.\", stacklevel=1)\n"
     ]
    }
   ],
   "source": [
    "#-*-coding:utf-8\n",
    "\"\"\"\n",
    "Youtube data API 공통 코드 시작\n",
    "원본: https://developers.google.com/youtube/v3/docs/commentThreads/list\n",
    "\n",
    "soma0sd가 변경한 이 소스코드의 라이선스는 원본의 라이선스를 따릅니다.\n",
    "\"\"\"\n",
    "import httplib2\n",
    "import os\n",
    "import sys\n",
    "\n",
    "from apiclient.discovery import build\n",
    "from apiclient.errors import HttpError\n",
    "from oauth2client.client import flow_from_clientsecrets\n",
    "from oauth2client.file import Storage\n",
    "from oauth2client.tools import argparser, run_flow\n",
    "\n",
    "CLIENT_SECRETS_FILE = \"client_secret.json\"\n",
    "\n",
    "YOUTUBE_READ_WRITE_SSL_SCOPE = \"https://www.googleapis.com/auth/youtube.force-ssl\"\n",
    "API_SERVICE_NAME = \"youtube\"\n",
    "API_VERSION = \"v3\"\n",
    "\n",
    "MISSING_CLIENT_SECRETS_MESSAGE = \"WARNING: Please configure OAuth 2.0\"\n",
    "\n",
    "\n",
    "def get_authenticated_service(args):\n",
    "    flow = flow_from_clientsecrets(\n",
    "        CLIENT_SECRETS_FILE,\n",
    "        scope=YOUTUBE_READ_WRITE_SSL_SCOPE,\n",
    "        message=MISSING_CLIENT_SECRETS_MESSAGE)\n",
    "\n",
    "    storage = Storage(\"youtube-api-snippets-oauth2.json\")\n",
    "    credentials = storage.get()\n",
    "\n",
    "    if credentials is None or credentials.invalid:\n",
    "        credentials = run_flow(flow, storage, args)\n",
    "    return build(\n",
    "        API_SERVICE_NAME,\n",
    "        API_VERSION,\n",
    "        http=credentials.authorize(httplib2.Http()))\n",
    "\n",
    "\n",
    "args = argparser.parse_args()\n",
    "service = get_authenticated_service(args)\n",
    "\n",
    "\n",
    "def print_results(results):\n",
    "    print(results)\n",
    "\n",
    "\n",
    "def build_resource(properties):\n",
    "    resource = {}\n",
    "    for p in properties:\n",
    "        prop_array = p.split('.')\n",
    "        ref = resource\n",
    "        for pa in range(0, len(prop_array)):\n",
    "            is_array = False\n",
    "            key = prop_array[pa]\n",
    "            if key[-2:] == '[]':\n",
    "                key = key[0:len(key) - 2:]\n",
    "                is_array = True\n",
    "            if pa == (len(prop_array) - 1):\n",
    "                if properties[p]:\n",
    "                    if is_array:\n",
    "                        ref[key] = properties[p].split(',')\n",
    "                    else:\n",
    "                        ref[key] = properties[p]\n",
    "            elif key not in ref:\n",
    "                ref[key] = {}\n",
    "                ref = ref[key]\n",
    "            else:\n",
    "\n",
    "                ref = ref[key]\n",
    "    return resource\n",
    "\n",
    "\n",
    "def remove_empty_kwargs(**kwargs):\n",
    "    good_kwargs = {}\n",
    "    if kwargs is not None:\n",
    "        for key, value in kwargs.items():\n",
    "            if value:\n",
    "                good_kwargs[key] = value\n",
    "    return good_kwargs\n",
    "\"\"\"\n",
    "Youtube data API 공통 코드 끝\n",
    "이 아래에 사용할 기능을 코딩합니다.\n",
    "\"\"\""
   ]
  },
  {
   "cell_type": "code",
   "execution_count": 16,
   "metadata": {},
   "outputs": [
    {
     "ename": "SystemExit",
     "evalue": "2",
     "output_type": "error",
     "traceback": [
      "\u001b[1;31m---------------------------------------------------------------------------\u001b[0m",
      "\u001b[1;31mSystemExit\u001b[0m                                Traceback (most recent call last)",
      "\u001b[1;32m<ipython-input-15-3d81f91b7f4d>\u001b[0m in \u001b[0;36m<module>\u001b[1;34m()\u001b[0m\n\u001b[0;32m     42\u001b[0m \u001b[1;33m\u001b[0m\u001b[0m\n\u001b[0;32m     43\u001b[0m \u001b[1;33m\u001b[0m\u001b[0m\n\u001b[1;32m---> 44\u001b[1;33m \u001b[0margs\u001b[0m \u001b[1;33m=\u001b[0m \u001b[0margparser\u001b[0m\u001b[1;33m.\u001b[0m\u001b[0mparse_args\u001b[0m\u001b[1;33m(\u001b[0m\u001b[1;33m)\u001b[0m\u001b[1;33m\u001b[0m\u001b[0m\n\u001b[0m\u001b[0;32m     45\u001b[0m \u001b[0mservice\u001b[0m \u001b[1;33m=\u001b[0m \u001b[0mget_authenticated_service\u001b[0m\u001b[1;33m(\u001b[0m\u001b[0margs\u001b[0m\u001b[1;33m)\u001b[0m\u001b[1;33m\u001b[0m\u001b[0m\n\u001b[0;32m     46\u001b[0m \u001b[1;33m\u001b[0m\u001b[0m\n",
      "\u001b[1;32mC:\\ProgramData\\Anaconda3\\lib\\argparse.py\u001b[0m in \u001b[0;36mparse_args\u001b[1;34m(self, args, namespace)\u001b[0m\n\u001b[0;32m   1731\u001b[0m         \u001b[1;32mif\u001b[0m \u001b[0margv\u001b[0m\u001b[1;33m:\u001b[0m\u001b[1;33m\u001b[0m\u001b[0m\n\u001b[0;32m   1732\u001b[0m             \u001b[0mmsg\u001b[0m \u001b[1;33m=\u001b[0m \u001b[0m_\u001b[0m\u001b[1;33m(\u001b[0m\u001b[1;34m'unrecognized arguments: %s'\u001b[0m\u001b[1;33m)\u001b[0m\u001b[1;33m\u001b[0m\u001b[0m\n\u001b[1;32m-> 1733\u001b[1;33m             \u001b[0mself\u001b[0m\u001b[1;33m.\u001b[0m\u001b[0merror\u001b[0m\u001b[1;33m(\u001b[0m\u001b[0mmsg\u001b[0m \u001b[1;33m%\u001b[0m \u001b[1;34m' '\u001b[0m\u001b[1;33m.\u001b[0m\u001b[0mjoin\u001b[0m\u001b[1;33m(\u001b[0m\u001b[0margv\u001b[0m\u001b[1;33m)\u001b[0m\u001b[1;33m)\u001b[0m\u001b[1;33m\u001b[0m\u001b[0m\n\u001b[0m\u001b[0;32m   1734\u001b[0m         \u001b[1;32mreturn\u001b[0m \u001b[0margs\u001b[0m\u001b[1;33m\u001b[0m\u001b[0m\n\u001b[0;32m   1735\u001b[0m \u001b[1;33m\u001b[0m\u001b[0m\n",
      "\u001b[1;32mC:\\ProgramData\\Anaconda3\\lib\\argparse.py\u001b[0m in \u001b[0;36merror\u001b[1;34m(self, message)\u001b[0m\n\u001b[0;32m   2387\u001b[0m         \u001b[0mself\u001b[0m\u001b[1;33m.\u001b[0m\u001b[0mprint_usage\u001b[0m\u001b[1;33m(\u001b[0m\u001b[0m_sys\u001b[0m\u001b[1;33m.\u001b[0m\u001b[0mstderr\u001b[0m\u001b[1;33m)\u001b[0m\u001b[1;33m\u001b[0m\u001b[0m\n\u001b[0;32m   2388\u001b[0m         \u001b[0margs\u001b[0m \u001b[1;33m=\u001b[0m \u001b[1;33m{\u001b[0m\u001b[1;34m'prog'\u001b[0m\u001b[1;33m:\u001b[0m \u001b[0mself\u001b[0m\u001b[1;33m.\u001b[0m\u001b[0mprog\u001b[0m\u001b[1;33m,\u001b[0m \u001b[1;34m'message'\u001b[0m\u001b[1;33m:\u001b[0m \u001b[0mmessage\u001b[0m\u001b[1;33m}\u001b[0m\u001b[1;33m\u001b[0m\u001b[0m\n\u001b[1;32m-> 2389\u001b[1;33m         \u001b[0mself\u001b[0m\u001b[1;33m.\u001b[0m\u001b[0mexit\u001b[0m\u001b[1;33m(\u001b[0m\u001b[1;36m2\u001b[0m\u001b[1;33m,\u001b[0m \u001b[0m_\u001b[0m\u001b[1;33m(\u001b[0m\u001b[1;34m'%(prog)s: error: %(message)s\\n'\u001b[0m\u001b[1;33m)\u001b[0m \u001b[1;33m%\u001b[0m \u001b[0margs\u001b[0m\u001b[1;33m)\u001b[0m\u001b[1;33m\u001b[0m\u001b[0m\n\u001b[0m",
      "\u001b[1;32mC:\\ProgramData\\Anaconda3\\lib\\argparse.py\u001b[0m in \u001b[0;36mexit\u001b[1;34m(self, status, message)\u001b[0m\n\u001b[0;32m   2374\u001b[0m         \u001b[1;32mif\u001b[0m \u001b[0mmessage\u001b[0m\u001b[1;33m:\u001b[0m\u001b[1;33m\u001b[0m\u001b[0m\n\u001b[0;32m   2375\u001b[0m             \u001b[0mself\u001b[0m\u001b[1;33m.\u001b[0m\u001b[0m_print_message\u001b[0m\u001b[1;33m(\u001b[0m\u001b[0mmessage\u001b[0m\u001b[1;33m,\u001b[0m \u001b[0m_sys\u001b[0m\u001b[1;33m.\u001b[0m\u001b[0mstderr\u001b[0m\u001b[1;33m)\u001b[0m\u001b[1;33m\u001b[0m\u001b[0m\n\u001b[1;32m-> 2376\u001b[1;33m         \u001b[0m_sys\u001b[0m\u001b[1;33m.\u001b[0m\u001b[0mexit\u001b[0m\u001b[1;33m(\u001b[0m\u001b[0mstatus\u001b[0m\u001b[1;33m)\u001b[0m\u001b[1;33m\u001b[0m\u001b[0m\n\u001b[0m\u001b[0;32m   2377\u001b[0m \u001b[1;33m\u001b[0m\u001b[0m\n\u001b[0;32m   2378\u001b[0m     \u001b[1;32mdef\u001b[0m \u001b[0merror\u001b[0m\u001b[1;33m(\u001b[0m\u001b[0mself\u001b[0m\u001b[1;33m,\u001b[0m \u001b[0mmessage\u001b[0m\u001b[1;33m)\u001b[0m\u001b[1;33m:\u001b[0m\u001b[1;33m\u001b[0m\u001b[0m\n",
      "\u001b[1;31mSystemExit\u001b[0m: 2"
     ]
    }
   ],
   "source": [
    "%tb"
   ]
  },
  {
   "cell_type": "code",
   "execution_count": 18,
   "metadata": {},
   "outputs": [
    {
     "data": {
      "text/plain": [
       "'C:\\\\Users\\\\jayjunglim\\\\Documents\\\\GitHub\\\\김용대_고급빅데이터분석'"
      ]
     },
     "execution_count": 18,
     "metadata": {},
     "output_type": "execute_result"
    }
   ],
   "source": [
    "import os\n",
    "os.getcwd()"
   ]
  },
  {
   "cell_type": "code",
   "execution_count": null,
   "metadata": {},
   "outputs": [],
   "source": []
  }
 ],
 "metadata": {
  "kernelspec": {
   "display_name": "Python 3",
   "language": "python",
   "name": "python3"
  },
  "language_info": {
   "codemirror_mode": {
    "name": "ipython",
    "version": 3
   },
   "file_extension": ".py",
   "mimetype": "text/x-python",
   "name": "python",
   "nbconvert_exporter": "python",
   "pygments_lexer": "ipython3",
   "version": "3.6.5"
  }
 },
 "nbformat": 4,
 "nbformat_minor": 2
}
