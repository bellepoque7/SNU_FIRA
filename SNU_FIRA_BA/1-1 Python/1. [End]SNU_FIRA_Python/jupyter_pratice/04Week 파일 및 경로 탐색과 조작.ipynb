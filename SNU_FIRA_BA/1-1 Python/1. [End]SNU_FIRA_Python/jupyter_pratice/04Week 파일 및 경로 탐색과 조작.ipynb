{
 "cells": [
  {
   "cell_type": "code",
   "execution_count": 1,
   "metadata": {},
   "outputs": [],
   "source": [
    "from IPython.core.interactiveshell import InteractiveShell\n",
    "InteractiveShell.ast_node_interactivity = \"all\""
   ]
  },
  {
   "cell_type": "code",
   "execution_count": 2,
   "metadata": {},
   "outputs": [
    {
     "data": {
      "text/plain": [
       "'C:\\\\Users\\\\renz\\\\Documents\\\\GitHub\\\\python_intro\\\\SNU_BDI\\\\jupyter_pratice'"
      ]
     },
     "execution_count": 2,
     "metadata": {},
     "output_type": "execute_result"
    }
   ],
   "source": [
    "import os\n",
    "os.getcwd()"
   ]
  },
  {
   "cell_type": "code",
   "execution_count": 5,
   "metadata": {},
   "outputs": [
    {
     "data": {
      "text/plain": [
       "'C:\\\\Users\\\\renz\\\\Documents\\\\GitHub'"
      ]
     },
     "execution_count": 5,
     "metadata": {},
     "output_type": "execute_result"
    }
   ],
   "source": [
    "os.chdir('..')\n",
    "os.getcwd()"
   ]
  },
  {
   "cell_type": "code",
   "execution_count": 17,
   "metadata": {},
   "outputs": [
    {
     "data": {
      "text/plain": [
       "'C:\\\\Users\\\\renz\\\\Documents\\\\GitHub\\\\python_intro'"
      ]
     },
     "execution_count": 17,
     "metadata": {},
     "output_type": "execute_result"
    }
   ],
   "source": [
    "os.getcwd()\n",
    "os.chdir('SNU_BDI\\\\04Week')"
   ]
  },
  {
   "cell_type": "code",
   "execution_count": 18,
   "metadata": {},
   "outputs": [
    {
     "data": {
      "text/plain": [
       "'C:\\\\Users\\\\renz\\\\Documents\\\\GitHub\\\\python_intro\\\\SNU_BDI\\\\04Week'"
      ]
     },
     "execution_count": 18,
     "metadata": {},
     "output_type": "execute_result"
    }
   ],
   "source": [
    "os.getcwd()"
   ]
  },
  {
   "cell_type": "code",
   "execution_count": 32,
   "metadata": {},
   "outputs": [
    {
     "data": {
      "text/plain": [
       "'C:\\\\Users\\\\renz\\\\Documents\\\\GitHub\\\\python_intro\\\\SNU_BDI'"
      ]
     },
     "execution_count": 32,
     "metadata": {},
     "output_type": "execute_result"
    }
   ],
   "source": [
    "os.getcwd()\n",
    "os.chdir('jupyter_pratice')"
   ]
  },
  {
   "cell_type": "code",
   "execution_count": 36,
   "metadata": {},
   "outputs": [
    {
     "name": "stdout",
     "output_type": "stream",
     "text": [
      "'Let It Be' by Beatles\n",
      "Let it be -- -\n",
      "Let it be -- -\n",
      "Let it be - Let it be Let it be - Let it be -\n"
     ]
    }
   ],
   "source": [
    "import re\n",
    "lines = open('beatles.txt').readlines()\n",
    "for line in lines:\n",
    "    if re.search(r'let', line, re.IGNORECASE):\n",
    "        print(line.rstrip())"
   ]
  },
  {
   "cell_type": "code",
   "execution_count": null,
   "metadata": {},
   "outputs": [],
   "source": []
  },
  {
   "cell_type": "code",
   "execution_count": 37,
   "metadata": {},
   "outputs": [
    {
     "name": "stdout",
     "output_type": "stream",
     "text": [
      "'LET It Be' by Beatles\n",
      "\n",
      "When I find myself in times of trouble\n",
      "Mother Mary come to me\n",
      "Speaking words of wisdom\n",
      "LET it be -- -\n",
      "And in my hours darkness She is standing bright in front of me\n",
      "Speaking words of wisdom\n",
      "LET it be -- -\n",
      "LET it be - LET it be LET it be - LET it be -\n"
     ]
    }
   ],
   "source": [
    "import re\n",
    "lines = open('beatles.txt').readlines()\n",
    "for line in lines:\n",
    "    line = re.sub(r'Let', 'LET', line)\n",
    "    print(line.rstrip())"
   ]
  },
  {
   "cell_type": "code",
   "execution_count": null,
   "metadata": {},
   "outputs": [],
   "source": []
  },
  {
   "cell_type": "code",
   "execution_count": null,
   "metadata": {},
   "outputs": [],
   "source": []
  }
 ],
 "metadata": {
  "kernelspec": {
   "display_name": "Python 3",
   "language": "python",
   "name": "python3"
  },
  "language_info": {
   "codemirror_mode": {
    "name": "ipython",
    "version": 3
   },
   "file_extension": ".py",
   "mimetype": "text/x-python",
   "name": "python",
   "nbconvert_exporter": "python",
   "pygments_lexer": "ipython3",
   "version": "3.6.5"
  }
 },
 "nbformat": 4,
 "nbformat_minor": 2
}
