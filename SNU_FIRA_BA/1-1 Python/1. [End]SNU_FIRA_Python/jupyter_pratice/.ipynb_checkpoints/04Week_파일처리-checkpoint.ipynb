{
 "cells": [
  {
   "cell_type": "code",
   "execution_count": 65,
   "metadata": {},
   "outputs": [],
   "source": [
    "from IPython.core.interactiveshell import InteractiveShell\n",
    "InteractiveShell.ast_node_interactivity = \"all\"\n",
    "# read realine readlines"
   ]
  },
  {
   "cell_type": "code",
   "execution_count": 2,
   "metadata": {},
   "outputs": [
    {
     "ename": "FileNotFoundError",
     "evalue": "[Errno 2] No such file or directory: '고향의 봄.txt'",
     "output_type": "error",
     "traceback": [
      "\u001b[1;31m---------------------------------------------------------------------------\u001b[0m",
      "\u001b[1;31mFileNotFoundError\u001b[0m                         Traceback (most recent call last)",
      "\u001b[1;32m<ipython-input-2-b4ceacf210bc>\u001b[0m in \u001b[0;36m<module>\u001b[1;34m()\u001b[0m\n\u001b[1;32m----> 1\u001b[1;33m \u001b[0mmy_file\u001b[0m \u001b[1;33m=\u001b[0m \u001b[0mopen\u001b[0m\u001b[1;33m(\u001b[0m\u001b[1;34m'고향의 봄.txt'\u001b[0m\u001b[1;33m,\u001b[0m\u001b[1;34m'r'\u001b[0m\u001b[1;33m)\u001b[0m\u001b[1;33m\u001b[0m\u001b[0m\n\u001b[0m\u001b[0;32m      2\u001b[0m \u001b[0mline\u001b[0m \u001b[1;33m=\u001b[0m \u001b[0mmy_file\u001b[0m\u001b[1;33m.\u001b[0m\u001b[0mrealine\u001b[0m\u001b[1;33m(\u001b[0m\u001b[1;33m)\u001b[0m\u001b[1;33m\u001b[0m\u001b[0m\n\u001b[0;32m      3\u001b[0m \u001b[0mprint\u001b[0m\u001b[1;33m(\u001b[0m\u001b[0mline\u001b[0m\u001b[1;33m)\u001b[0m\u001b[1;33m\u001b[0m\u001b[0m\n",
      "\u001b[1;31mFileNotFoundError\u001b[0m: [Errno 2] No such file or directory: '고향의 봄.txt'"
     ]
    }
   ],
   "source": [
    "my_file = open('고향의 봄.txt','r')\n",
    "line = my_file.realine()\n",
    "print(line)"
   ]
  },
  {
   "cell_type": "code",
   "execution_count": 10,
   "metadata": {},
   "outputs": [
    {
     "data": {
      "text/plain": [
       "21"
      ]
     },
     "execution_count": 10,
     "metadata": {},
     "output_type": "execute_result"
    }
   ],
   "source": [
    "file = open('song.txt', mode = 'w', encoding='utf-8')\n",
    "file.write('======= 고향의 봄 =======')"
   ]
  },
  {
   "cell_type": "code",
   "execution_count": 11,
   "metadata": {},
   "outputs": [
    {
     "data": {
      "text/plain": [
       "18"
      ]
     },
     "execution_count": 11,
     "metadata": {},
     "output_type": "execute_result"
    }
   ],
   "source": [
    "file.write('나의 살-던 고향은 꽃피는-산골-')"
   ]
  },
  {
   "cell_type": "code",
   "execution_count": 17,
   "metadata": {},
   "outputs": [
    {
     "data": {
      "text/plain": [
       "<_io.TextIOWrapper name='song.txt' mode='w' encoding='utf-8'>"
      ]
     },
     "execution_count": 17,
     "metadata": {},
     "output_type": "execute_result"
    }
   ],
   "source": [
    "file"
   ]
  },
  {
   "cell_type": "code",
   "execution_count": 23,
   "metadata": {},
   "outputs": [
    {
     "data": {
      "text/plain": [
       "'song.txt'"
      ]
     },
     "execution_count": 23,
     "metadata": {},
     "output_type": "execute_result"
    },
    {
     "data": {
      "text/plain": [
       "'r'"
      ]
     },
     "execution_count": 23,
     "metadata": {},
     "output_type": "execute_result"
    },
    {
     "data": {
      "text/plain": [
       "False"
      ]
     },
     "execution_count": 23,
     "metadata": {},
     "output_type": "execute_result"
    }
   ],
   "source": [
    "file = open('song.txt')\n",
    "file.name\n",
    "file.mode\n",
    "file.closed   # 상태들을 변수들이 저장하고 있다."
   ]
  },
  {
   "cell_type": "code",
   "execution_count": 27,
   "metadata": {},
   "outputs": [
    {
     "data": {
      "text/plain": [
       "'======= 고향의 봄 =======나의 살-던 고향은 꽃피는-산골-'"
      ]
     },
     "execution_count": 27,
     "metadata": {},
     "output_type": "execute_result"
    }
   ],
   "source": [
    "file = open('song.txt', mode = 'r', encoding = 'utf-8')\n",
    "file.read()\n"
   ]
  },
  {
   "cell_type": "code",
   "execution_count": 28,
   "metadata": {},
   "outputs": [],
   "source": [
    "file = open('고향의 봄.txt', 'w', encoding ='utf-8')"
   ]
  },
  {
   "cell_type": "code",
   "execution_count": 31,
   "metadata": {},
   "outputs": [
    {
     "data": {
      "text/plain": [
       "101"
      ]
     },
     "execution_count": 31,
     "metadata": {},
     "output_type": "execute_result"
    }
   ],
   "source": [
    "file.write('====== 고향의 봄 ====== \\n\\n'\n",
    "'나의 살-던 고향은 꽃피는-산골-\\n'\n",
    "'복숭아-꽃 살-구 꽃 아-기 진-달래-\\n'\n",
    "'울긋불-긋 꽃 대궐 차리인-동네-\\n'\n",
    "'그 속에 놀던 때가 그립습니다.-\\n')"
   ]
  },
  {
   "cell_type": "code",
   "execution_count": 32,
   "metadata": {},
   "outputs": [],
   "source": [
    "file.close()"
   ]
  },
  {
   "cell_type": "code",
   "execution_count": 37,
   "metadata": {},
   "outputs": [],
   "source": [
    "file = open('고향의 봄.txt', encoding='utf-8')"
   ]
  },
  {
   "cell_type": "code",
   "execution_count": 38,
   "metadata": {},
   "outputs": [
    {
     "name": "stdout",
     "output_type": "stream",
     "text": [
      "====== 고향의 봄 ====== \n",
      "\n",
      "나의 살-던 고향은 꽃피는-산골-\n",
      "복숭아-꽃 살-구 꽃 아-기 진-달래-\n",
      "울긋불-긋 꽃 대궐 차리인-동네-\n",
      "그 속에 놀던 때가 그립습니다.-\n",
      "\n"
     ]
    }
   ],
   "source": [
    "print(file.read())"
   ]
  },
  {
   "cell_type": "code",
   "execution_count": 39,
   "metadata": {},
   "outputs": [
    {
     "data": {
      "text/plain": [
       "76"
      ]
     },
     "execution_count": 39,
     "metadata": {},
     "output_type": "execute_result"
    }
   ],
   "source": [
    "file = open('고향의 봄.txt', 'a', encoding='utf-8')\n",
    "file.write('\\n 꽃-동-네 새 동네 나의 옛-고향\\n'\n",
    "'파-란-들 남쪽에서 바-람이-불면-\\n냇-가에 수양버들 춤추는-동네\\n'\n",
    "'그 속에 놀던 때가 그립습니다.-')"
   ]
  },
  {
   "cell_type": "code",
   "execution_count": 40,
   "metadata": {},
   "outputs": [],
   "source": [
    "file.close()"
   ]
  },
  {
   "cell_type": "code",
   "execution_count": 42,
   "metadata": {},
   "outputs": [
    {
     "name": "stdout",
     "output_type": "stream",
     "text": [
      "====== 고향의 봄 ====== \n",
      "\n",
      "나의 살-던 고향은 꽃피는-산골-\n",
      "복숭아-꽃 살-구 꽃 아-기 진-달래-\n",
      "울긋불-긋 꽃 대궐 차리인-동네-\n",
      "그 속에 놀던 때가 그립습니다.-\n",
      "\n",
      " 꽃-동-네 새 동네 나의 옛-고향\n",
      "파-란-들 남쪽에서 바-람이-불면-\n",
      "냇-가에 수양버들 춤추는-동네\n",
      "그 속에 놀던 때가 그립습니다.-\n"
     ]
    }
   ],
   "source": [
    "file = open('고향의 봄.txt', encoding='utf-8')\n",
    "print(file.read())"
   ]
  },
  {
   "cell_type": "code",
   "execution_count": 27,
   "metadata": {},
   "outputs": [],
   "source": [
    "alist = ['to','be', 'or', 'not', 'to', 'be']"
   ]
  },
  {
   "cell_type": "code",
   "execution_count": 30,
   "metadata": {},
   "outputs": [
    {
     "data": {
      "text/plain": [
       "['to', 'be', 'or', 'not', 'to', 'be']"
      ]
     },
     "execution_count": 30,
     "metadata": {},
     "output_type": "execute_result"
    }
   ],
   "source": [
    "alist"
   ]
  },
  {
   "cell_type": "code",
   "execution_count": 33,
   "metadata": {},
   "outputs": [],
   "source": [
    "file = open('list_newline_line.txt', mode = 'w', encoding='utf-8')\n",
    "for word in alist:\n",
    "    file.write(word+ ' ')\n",
    "file.close()"
   ]
  },
  {
   "cell_type": "code",
   "execution_count": 35,
   "metadata": {},
   "outputs": [
    {
     "data": {
      "text/plain": [
       "'to be or not to be '"
      ]
     },
     "execution_count": 35,
     "metadata": {},
     "output_type": "execute_result"
    }
   ],
   "source": [
    "file = open('list_newline_line.txt.', mode = 'r', encoding = 'utf-8')\n",
    "file.read()"
   ]
  },
  {
   "cell_type": "code",
   "execution_count": null,
   "metadata": {},
   "outputs": [],
   "source": []
  },
  {
   "cell_type": "code",
   "execution_count": 44,
   "metadata": {},
   "outputs": [],
   "source": [
    "alist = [2, 3.1, -7, -1.4, 5]\n",
    "file = open('numbers.txt', mode = 'w', encoding = 'utf-8')\n",
    "for number in alist:\n",
    "    file.write(str(number) + '\\n')\n",
    "file.close()"
   ]
  },
  {
   "cell_type": "code",
   "execution_count": 51,
   "metadata": {},
   "outputs": [
    {
     "name": "stdout",
     "output_type": "stream",
     "text": [
      "2\n",
      "3.1\n",
      "-7\n",
      "-1.4\n",
      "5\n",
      "a\n",
      "b\n",
      "ㄱ\n",
      "ㄴ\n",
      "다\n",
      "\n"
     ]
    },
    {
     "data": {
      "text/plain": [
       "''"
      ]
     },
     "execution_count": 51,
     "metadata": {},
     "output_type": "execute_result"
    }
   ],
   "source": [
    "file = open('numbers.txt', mode = 'r', encoding = 'utf-8')\n",
    "print(file.read())\n"
   ]
  },
  {
   "cell_type": "code",
   "execution_count": 50,
   "metadata": {},
   "outputs": [],
   "source": [
    "blist = ['a', 'b', 'ㄱ', 'ㄴ', '다']\n",
    "file = open('numbers.txt', mode = 'a', encoding ='utf-8')\n",
    "\n",
    "for item in blist:\n",
    "    file.write(item + '\\n')\n",
    "file.close()"
   ]
  },
  {
   "cell_type": "code",
   "execution_count": 53,
   "metadata": {},
   "outputs": [
    {
     "data": {
      "text/plain": [
       "'2\\n3.1\\n-7\\n-1.4\\n5\\na\\nb\\nㄱ\\nㄴ\\n다\\n'"
      ]
     },
     "execution_count": 53,
     "metadata": {},
     "output_type": "execute_result"
    }
   ],
   "source": [
    "file = open('numbers.txt', mode = 'r', encoding ='utf-8')\n",
    "file.read()"
   ]
  },
  {
   "cell_type": "code",
   "execution_count": null,
   "metadata": {},
   "outputs": [],
   "source": []
  },
  {
   "cell_type": "code",
   "execution_count": 58,
   "metadata": {},
   "outputs": [
    {
     "name": "stdout",
     "output_type": "stream",
     "text": [
      "<_io.TextIOWrapper name='고향의 봄.txt' mode='r' encoding='utf-8'>\n",
      "====== 고향의 봄 ====== \n",
      "\n",
      "나의 살-던 고향은 꽃피는-산골-\n",
      "복숭아-꽃 살-구 꽃 아-기 진-달래-\n",
      "울긋불-긋 꽃 대궐 차리인-동네-\n",
      "그 속에 놀던 때가 그립습니다.-\n",
      "\n",
      " 꽃-동-네 새 동네 나의 옛-고향\n",
      "파-란-들 남쪽에서 바-람이-불면-\n",
      "냇-가에 수양버들 춤추는-동네\n",
      "그 속에 놀던 때가 그립습니다.-\n"
     ]
    }
   ],
   "source": [
    "file = open('고향의 봄.txt', mode = 'r', encoding='utf-8')\n",
    "file\n",
    "print(file)\n",
    "print(file.read())\n",
    "data = file.read()\n",
    "file.close()"
   ]
  },
  {
   "cell_type": "code",
   "execution_count": 62,
   "metadata": {},
   "outputs": [
    {
     "data": {
      "text/plain": [
       "str"
      ]
     },
     "execution_count": 62,
     "metadata": {},
     "output_type": "execute_result"
    }
   ],
   "source": [
    "type(data)"
   ]
  },
  {
   "cell_type": "code",
   "execution_count": 63,
   "metadata": {},
   "outputs": [
    {
     "data": {
      "text/plain": [
       "''"
      ]
     },
     "execution_count": 63,
     "metadata": {},
     "output_type": "execute_result"
    }
   ],
   "source": [
    "data"
   ]
  },
  {
   "cell_type": "code",
   "execution_count": 64,
   "metadata": {},
   "outputs": [
    {
     "name": "stdout",
     "output_type": "stream",
     "text": [
      "\n"
     ]
    }
   ],
   "source": [
    "print(data)"
   ]
  },
  {
   "cell_type": "code",
   "execution_count": 71,
   "metadata": {},
   "outputs": [
    {
     "data": {
      "text/plain": [
       "str"
      ]
     },
     "execution_count": 71,
     "metadata": {},
     "output_type": "execute_result"
    },
    {
     "data": {
      "text/plain": [
       "''"
      ]
     },
     "execution_count": 71,
     "metadata": {},
     "output_type": "execute_result"
    },
    {
     "name": "stdout",
     "output_type": "stream",
     "text": [
      "\n"
     ]
    }
   ],
   "source": [
    "file = open('고향의 봄.txt', mode = 'r', encoding='utf-8')\n",
    "date = file.readline()\n",
    "file.close()\n",
    "\n",
    "type(data)\n",
    "data\n",
    "print(data)"
   ]
  },
  {
   "cell_type": "code",
   "execution_count": 67,
   "metadata": {},
   "outputs": [
    {
     "data": {
      "text/plain": [
       "''"
      ]
     },
     "execution_count": 67,
     "metadata": {},
     "output_type": "execute_result"
    }
   ],
   "source": [
    "data"
   ]
  },
  {
   "cell_type": "code",
   "execution_count": 68,
   "metadata": {},
   "outputs": [
    {
     "name": "stdout",
     "output_type": "stream",
     "text": [
      "\n"
     ]
    }
   ],
   "source": [
    "print(data)"
   ]
  },
  {
   "cell_type": "code",
   "execution_count": 76,
   "metadata": {},
   "outputs": [
    {
     "name": "stdout",
     "output_type": "stream",
     "text": [
      "====== 고향의 봄 ====== \n",
      "\n",
      "\n",
      "\n",
      "나의 살-던 고향은 꽃피는-산골-\n",
      "\n",
      "복숭아-꽃 살-구 꽃 아-기 진-달래-\n",
      "\n",
      "울긋불-긋 꽃 대궐 차리인-동네-\n",
      "\n",
      "그 속에 놀던 때가 그립습니다.-\n",
      "\n",
      "\n",
      "\n",
      " 꽃-동-네 새 동네 나의 옛-고향\n",
      "\n",
      "파-란-들 남쪽에서 바-람이-불면-\n",
      "\n",
      "냇-가에 수양버들 춤추는-동네\n",
      "\n",
      "그 속에 놀던 때가 그립습니다.-\n"
     ]
    }
   ],
   "source": [
    "file = open('고향의 봄.txt', mode = 'r', encoding='utf-8')\n",
    "while True:\n",
    "    line = file.readline()\n",
    "    if not line:\n",
    "        break\n",
    "    print(line)"
   ]
  },
  {
   "cell_type": "code",
   "execution_count": 77,
   "metadata": {},
   "outputs": [
    {
     "data": {
      "text/plain": [
       "''"
      ]
     },
     "execution_count": 77,
     "metadata": {},
     "output_type": "execute_result"
    }
   ],
   "source": [
    "file.readline()"
   ]
  },
  {
   "cell_type": "code",
   "execution_count": 78,
   "metadata": {},
   "outputs": [],
   "source": [
    "file.close()"
   ]
  },
  {
   "cell_type": "code",
   "execution_count": 94,
   "metadata": {},
   "outputs": [
    {
     "name": "stdout",
     "output_type": "stream",
     "text": [
      "====== 고향의 봄 ====== \n",
      "\n",
      "나의 살-던 고향은 꽃피는-산골-\n",
      "복숭아-꽃 살-구 꽃 아-기 진-달래-\n",
      "울긋불-긋 꽃 대궐 차리인-동네-\n",
      "그 속에 놀던 때가 그립습니다.-\n",
      "\n",
      " 꽃-동-네 새 동네 나의 옛-고향\n",
      "파-란-들 남쪽에서 바-람이-불면-\n",
      "냇-가에 수양버들 춤추는-동네\n",
      "그 속에 놀던 때가 그립습니다.-"
     ]
    }
   ],
   "source": [
    "file = open('고향의 봄.txt', mode = 'r', encoding='utf-8')\n",
    "for chr in file.read():             # 한문자씩을 읽어나간다!\n",
    "    print(chr, end = '')\n",
    "file.close()"
   ]
  },
  {
   "cell_type": "markdown",
   "metadata": {},
   "source": [
    "## With 문으로 전체 읽기"
   ]
  },
  {
   "cell_type": "code",
   "execution_count": 100,
   "metadata": {},
   "outputs": [
    {
     "name": "stdout",
     "output_type": "stream",
     "text": [
      "====== 고향의 봄 ====== \n",
      "@\n",
      "@나의 살-던 고향은 꽃피는-산골-\n",
      "@복숭아-꽃 살-구 꽃 아-기 진-달래-\n",
      "@울긋불-긋 꽃 대궐 차리인-동네-\n",
      "@그 속에 놀던 때가 그립습니다.-\n",
      "@\n",
      "@ 꽃-동-네 새 동네 나의 옛-고향\n",
      "@파-란-들 남쪽에서 바-람이-불면-\n",
      "@냇-가에 수양버들 춤추는-동네\n",
      "@그 속에 놀던 때가 그립습니다.-@"
     ]
    }
   ],
   "source": [
    "with open('고향의 봄.txt', encoding ='utf-8') as file:\n",
    "    for line in file:                         # 왜 라인바이 라인으로 읽는가? \n",
    "        print(line, end = '@')                # fill.close할 필요가없다는것이다!."
   ]
  },
  {
   "cell_type": "code",
   "execution_count": 105,
   "metadata": {},
   "outputs": [],
   "source": [
    "file = open('고향의 봄.txt', encoding = 'utf-8')\n",
    "sentence = []\n",
    "for line in file:                              # 한 문장씩 가져간다.. 흐음...그렇군? 이해 잘안감...\n",
    "    sentence.append(line)\n"
   ]
  },
  {
   "cell_type": "code",
   "execution_count": 102,
   "metadata": {},
   "outputs": [
    {
     "data": {
      "text/plain": [
       "['====== 고향의 봄 ====== \\n',\n",
       " '\\n',\n",
       " '나의 살-던 고향은 꽃피는-산골-\\n',\n",
       " '복숭아-꽃 살-구 꽃 아-기 진-달래-\\n',\n",
       " '울긋불-긋 꽃 대궐 차리인-동네-\\n',\n",
       " '그 속에 놀던 때가 그립습니다.-\\n',\n",
       " '\\n',\n",
       " ' 꽃-동-네 새 동네 나의 옛-고향\\n',\n",
       " '파-란-들 남쪽에서 바-람이-불면-\\n',\n",
       " '냇-가에 수양버들 춤추는-동네\\n',\n",
       " '그 속에 놀던 때가 그립습니다.-']"
      ]
     },
     "execution_count": 102,
     "metadata": {},
     "output_type": "execute_result"
    }
   ],
   "source": [
    "sentence"
   ]
  },
  {
   "cell_type": "code",
   "execution_count": 106,
   "metadata": {},
   "outputs": [
    {
     "data": {
      "text/plain": [
       "'나의 살-던 고향은 꽃피는-산골-\\n'"
      ]
     },
     "execution_count": 106,
     "metadata": {},
     "output_type": "execute_result"
    }
   ],
   "source": [
    "sentence[2]"
   ]
  },
  {
   "cell_type": "code",
   "execution_count": 107,
   "metadata": {},
   "outputs": [
    {
     "name": "stdout",
     "output_type": "stream",
     "text": [
      "['복숭아-꽃 살-구 꽃 아-기 진-달래-\\n']\n"
     ]
    }
   ],
   "source": [
    "print([sentence[3]])"
   ]
  },
  {
   "cell_type": "code",
   "execution_count": 110,
   "metadata": {},
   "outputs": [
    {
     "data": {
      "text/plain": [
       "'복숭아-꽃 살-구 꽃 아-기 진-달래-'"
      ]
     },
     "execution_count": 110,
     "metadata": {},
     "output_type": "execute_result"
    }
   ],
   "source": [
    "sentence[3].rstrip()                 #뒤에 white space 바꿀 수있다."
   ]
  },
  {
   "cell_type": "code",
   "execution_count": 116,
   "metadata": {},
   "outputs": [
    {
     "data": {
      "text/plain": [
       "list"
      ]
     },
     "execution_count": 116,
     "metadata": {},
     "output_type": "execute_result"
    },
    {
     "name": "stdout",
     "output_type": "stream",
     "text": [
      "['====== 고향의 봄 ====== \\n', '\\n', '나의 살-던 고향은 꽃피는-산골-\\n', '복숭아-꽃 살-구 꽃 아-기 진-달래-\\n', '울긋불-긋 꽃 대궐 차리인-동네-\\n', '그 속에 놀던 때가 그립습니다.-\\n', '\\n', ' 꽃-동-네 새 동네 나의 옛-고향\\n', '파-란-들 남쪽에서 바-람이-불면-\\n', '냇-가에 수양버들 춤추는-동네\\n', '그 속에 놀던 때가 그립습니다.-']\n"
     ]
    },
    {
     "data": {
      "text/plain": [
       "['====== 고향의 봄 ====== \\n',\n",
       " '\\n',\n",
       " '나의 살-던 고향은 꽃피는-산골-\\n',\n",
       " '복숭아-꽃 살-구 꽃 아-기 진-달래-\\n',\n",
       " '울긋불-긋 꽃 대궐 차리인-동네-\\n',\n",
       " '그 속에 놀던 때가 그립습니다.-\\n',\n",
       " '\\n',\n",
       " ' 꽃-동-네 새 동네 나의 옛-고향\\n',\n",
       " '파-란-들 남쪽에서 바-람이-불면-\\n',\n",
       " '냇-가에 수양버들 춤추는-동네\\n',\n",
       " '그 속에 놀던 때가 그립습니다.-']"
      ]
     },
     "execution_count": 116,
     "metadata": {},
     "output_type": "execute_result"
    }
   ],
   "source": [
    "file = open('고향의 봄.txt', mode = 'r', encoding='utf-8')\n",
    "data = file.readlines()  #리스트 형태\n",
    "file.close()\n",
    "\n",
    "type(data)\n",
    "print(data)\n",
    "data"
   ]
  },
  {
   "cell_type": "code",
   "execution_count": 118,
   "metadata": {},
   "outputs": [
    {
     "data": {
      "text/plain": [
       "list"
      ]
     },
     "execution_count": 118,
     "metadata": {},
     "output_type": "execute_result"
    },
    {
     "name": "stdout",
     "output_type": "stream",
     "text": [
      "['====== 고향의 봄 ====== ', '', '나의 살-던 고향은 꽃피는-산골-', '복숭아-꽃 살-구 꽃 아-기 진-달래-', '울긋불-긋 꽃 대궐 차리인-동네-', '그 속에 놀던 때가 그립습니다.-', '', ' 꽃-동-네 새 동네 나의 옛-고향', '파-란-들 남쪽에서 바-람이-불면-', '냇-가에 수양버들 춤추는-동네', '그 속에 놀던 때가 그립습니다.-']\n"
     ]
    },
    {
     "data": {
      "text/plain": [
       "['====== 고향의 봄 ====== ',\n",
       " '',\n",
       " '나의 살-던 고향은 꽃피는-산골-',\n",
       " '복숭아-꽃 살-구 꽃 아-기 진-달래-',\n",
       " '울긋불-긋 꽃 대궐 차리인-동네-',\n",
       " '그 속에 놀던 때가 그립습니다.-',\n",
       " '',\n",
       " ' 꽃-동-네 새 동네 나의 옛-고향',\n",
       " '파-란-들 남쪽에서 바-람이-불면-',\n",
       " '냇-가에 수양버들 춤추는-동네',\n",
       " '그 속에 놀던 때가 그립습니다.-']"
      ]
     },
     "execution_count": 118,
     "metadata": {},
     "output_type": "execute_result"
    }
   ],
   "source": [
    "file = open('고향의 봄.txt', mode = 'r', encoding='utf-8')\n",
    "data = file.read().split('\\n')  # split도 리스트 형태 반환. \\n 필요없으니 빼자.\n",
    "file.close()\n",
    "\n",
    "type(data)\n",
    "print(data)\n",
    "data"
   ]
  },
  {
   "cell_type": "markdown",
   "metadata": {},
   "source": [
    "## Splitlines를 사용하라."
   ]
  },
  {
   "cell_type": "code",
   "execution_count": 120,
   "metadata": {},
   "outputs": [
    {
     "data": {
      "text/plain": [
       "list"
      ]
     },
     "execution_count": 120,
     "metadata": {},
     "output_type": "execute_result"
    },
    {
     "name": "stdout",
     "output_type": "stream",
     "text": [
      "['====== 고향의 봄 ====== ', '', '나의 살-던 고향은 꽃피는-산골-', '복숭아-꽃 살-구 꽃 아-기 진-달래-', '울긋불-긋 꽃 대궐 차리인-동네-', '그 속에 놀던 때가 그립습니다.-', '', ' 꽃-동-네 새 동네 나의 옛-고향', '파-란-들 남쪽에서 바-람이-불면-', '냇-가에 수양버들 춤추는-동네', '그 속에 놀던 때가 그립습니다.-']\n"
     ]
    },
    {
     "data": {
      "text/plain": [
       "['====== 고향의 봄 ====== ',\n",
       " '',\n",
       " '나의 살-던 고향은 꽃피는-산골-',\n",
       " '복숭아-꽃 살-구 꽃 아-기 진-달래-',\n",
       " '울긋불-긋 꽃 대궐 차리인-동네-',\n",
       " '그 속에 놀던 때가 그립습니다.-',\n",
       " '',\n",
       " ' 꽃-동-네 새 동네 나의 옛-고향',\n",
       " '파-란-들 남쪽에서 바-람이-불면-',\n",
       " '냇-가에 수양버들 춤추는-동네',\n",
       " '그 속에 놀던 때가 그립습니다.-']"
      ]
     },
     "execution_count": 120,
     "metadata": {},
     "output_type": "execute_result"
    }
   ],
   "source": [
    "file = open('고향의 봄.txt', mode = 'r', encoding='utf-8')\n",
    "data = file.read().splitlines()  # splitlines\n",
    "file.close()\n",
    "\n",
    "type(data)\n",
    "print(data)\n",
    "data"
   ]
  },
  {
   "cell_type": "code",
   "execution_count": null,
   "metadata": {},
   "outputs": [],
   "source": []
  }
 ],
 "metadata": {
  "kernelspec": {
   "display_name": "Python 3",
   "language": "python",
   "name": "python3"
  },
  "language_info": {
   "codemirror_mode": {
    "name": "ipython",
    "version": 3
   },
   "file_extension": ".py",
   "mimetype": "text/x-python",
   "name": "python",
   "nbconvert_exporter": "python",
   "pygments_lexer": "ipython3",
   "version": "3.6.5"
  }
 },
 "nbformat": 4,
 "nbformat_minor": 2
}
