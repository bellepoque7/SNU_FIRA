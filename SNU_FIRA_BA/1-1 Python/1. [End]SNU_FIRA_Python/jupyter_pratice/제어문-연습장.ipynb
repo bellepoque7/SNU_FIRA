{
 "cells": [
  {
   "cell_type": "code",
   "execution_count": 3,
   "metadata": {},
   "outputs": [
    {
     "name": "stdout",
     "output_type": "stream",
     "text": [
      "첫 번째 숫자(정수)를 입력하세요: 3\n",
      "두 번째 숫자(정수)를 입력하세요: 4\n",
      "둘 중 더 큰 수는 4 입니다.\n"
     ]
    }
   ],
   "source": [
    "prompt= '{} 숫자(정수)를 입력하세요: '\n",
    "result = '둘 중 더 큰 수는 {} 입니다.'\n",
    "\n",
    "x = input(prompt.format('첫 번째'))\n",
    "y = input(prompt.format('두 번째'))\n",
    "\n",
    "if x > y:\n",
    "    print(result.format(x))\n",
    "elif x < y:\n",
    "    print(result.format(y))\n",
    "else:\n",
    "    print('둘은 같은 수입니다.')"
   ]
  },
  {
   "cell_type": "code",
   "execution_count": 28,
   "metadata": {},
   "outputs": [],
   "source": [
    "from IPython.core.interactiveshell import InteractiveShell\n",
    "InteractiveShell.ast_node_interactivity = \"all\""
   ]
  },
  {
   "cell_type": "code",
   "execution_count": 4,
   "metadata": {},
   "outputs": [
    {
     "data": {
      "text/plain": [
       "100"
      ]
     },
     "execution_count": 4,
     "metadata": {},
     "output_type": "execute_result"
    }
   ],
   "source": [
    "# 예시 간편조건문\n",
    "margin = False\n",
    "if margin:\n",
    "    width = 100 + 10\n",
    "else:\n",
    "    width = 100 + 0\n",
    "width"
   ]
  },
  {
   "cell_type": "code",
   "execution_count": null,
   "metadata": {},
   "outputs": [],
   "source": []
  },
  {
   "cell_type": "code",
   "execution_count": 7,
   "metadata": {},
   "outputs": [
    {
     "name": "stdout",
     "output_type": "stream",
     "text": [
      "1 file\n"
     ]
    }
   ],
   "source": [
    "count = 1\n",
    "print('{} file{}'.format((count if count != 0 else 'No'),\n",
    "                        ('s' if count != 1 else '')))"
   ]
  },
  {
   "cell_type": "code",
   "execution_count": null,
   "metadata": {},
   "outputs": [],
   "source": []
  },
  {
   "cell_type": "code",
   "execution_count": 10,
   "metadata": {},
   "outputs": [
    {
     "name": "stdout",
     "output_type": "stream",
     "text": [
      "사과\n",
      "바나나\n",
      "바나나\n",
      "딸기\n",
      "사과\n",
      "딸기\n",
      "사과\n",
      "딸기\n"
     ]
    }
   ],
   "source": [
    "import random\n",
    "fruits = ['사과', '딸기', '바나나', '블루베리', '포도']\n",
    "fruit = ''\n",
    "while fruit != '블루베리':\n",
    "    fruit = random.choice(fruits)\n",
    "    if fruit == '블루베리':\n",
    "        break\n",
    "    print(fruit)\n",
    "else:\n",
    "    print('블루베리가 선택되어 프로그램을 종료합니다.')"
   ]
  },
  {
   "cell_type": "code",
   "execution_count": 17,
   "metadata": {},
   "outputs": [
    {
     "name": "stdout",
     "output_type": "stream",
     "text": [
      "항목을 입력하세요:0\n",
      "항목을 입력해보세요.0\n"
     ]
    }
   ],
   "source": [
    "a = eval(input('항목을 입력하세요:'))\n",
    "b = int(input('항목을 입력해보세요.'))"
   ]
  },
  {
   "cell_type": "code",
   "execution_count": 21,
   "metadata": {},
   "outputs": [
    {
     "data": {
      "text/plain": [
       "0"
      ]
     },
     "execution_count": 21,
     "metadata": {},
     "output_type": "execute_result"
    }
   ],
   "source": [
    "a"
   ]
  },
  {
   "cell_type": "code",
   "execution_count": 22,
   "metadata": {},
   "outputs": [
    {
     "data": {
      "text/plain": [
       "0"
      ]
     },
     "execution_count": 22,
     "metadata": {},
     "output_type": "execute_result"
    }
   ],
   "source": [
    "b"
   ]
  },
  {
   "cell_type": "code",
   "execution_count": 29,
   "metadata": {},
   "outputs": [
    {
     "data": {
      "text/plain": [
       "2"
      ]
     },
     "execution_count": 29,
     "metadata": {},
     "output_type": "execute_result"
    },
    {
     "ename": "TypeError",
     "evalue": "eval() arg 1 must be a string, bytes or code object",
     "output_type": "error",
     "traceback": [
      "\u001b[1;31m---------------------------------------------------------------------------\u001b[0m",
      "\u001b[1;31mTypeError\u001b[0m                                 Traceback (most recent call last)",
      "\u001b[1;32m<ipython-input-29-06d3c7ccc679>\u001b[0m in \u001b[0;36m<module>\u001b[1;34m()\u001b[0m\n\u001b[0;32m      1\u001b[0m \u001b[0mx\u001b[0m\u001b[1;33m=\u001b[0m\u001b[1;36m1\u001b[0m\u001b[1;33m\u001b[0m\u001b[0m\n\u001b[0;32m      2\u001b[0m \u001b[0meval\u001b[0m\u001b[1;33m(\u001b[0m\u001b[1;34m'x+1'\u001b[0m\u001b[1;33m)\u001b[0m\u001b[1;33m\u001b[0m\u001b[0m\n\u001b[1;32m----> 3\u001b[1;33m \u001b[0meval\u001b[0m\u001b[1;33m(\u001b[0m\u001b[0mx\u001b[0m\u001b[1;33m+\u001b[0m\u001b[1;36m1\u001b[0m\u001b[1;33m)\u001b[0m\u001b[1;33m\u001b[0m\u001b[0m\n\u001b[0m",
      "\u001b[1;31mTypeError\u001b[0m: eval() arg 1 must be a string, bytes or code object"
     ]
    }
   ],
   "source": [
    "x=1\n",
    "eval('x+1')\n",
    "eval(x+1)"
   ]
  },
  {
   "cell_type": "code",
   "execution_count": null,
   "metadata": {},
   "outputs": [],
   "source": []
  },
  {
   "cell_type": "code",
   "execution_count": 39,
   "metadata": {},
   "outputs": [
    {
     "data": {
      "text/plain": [
       "[45, 12, 7, 0, 38, 8]"
      ]
     },
     "execution_count": 39,
     "metadata": {},
     "output_type": "execute_result"
    }
   ],
   "source": [
    "L = [45, -12, 7, 0, -38, -8]\n",
    "for i in range(len(L)):\n",
    "    L[i] = abs(L[i])\n",
    "L"
   ]
  },
  {
   "cell_type": "code",
   "execution_count": 40,
   "metadata": {},
   "outputs": [
    {
     "name": "stdout",
     "output_type": "stream",
     "text": [
      "<enumerate object at 0x000001E55B80DD38>\n"
     ]
    }
   ],
   "source": [
    "fruits = ['사과', '딸기', '바나나']\n",
    "print(enumerate(fruits))"
   ]
  },
  {
   "cell_type": "code",
   "execution_count": 44,
   "metadata": {},
   "outputs": [
    {
     "name": "stdout",
     "output_type": "stream",
     "text": [
      "0 : 사과\n",
      "1 : 딸기\n",
      "2 : 바나나\n"
     ]
    }
   ],
   "source": [
    "for number, index in enumerate(fruits):\n",
    "    print(number, ':', index)"
   ]
  },
  {
   "cell_type": "code",
   "execution_count": null,
   "metadata": {},
   "outputs": [],
   "source": []
  },
  {
   "cell_type": "code",
   "execution_count": 45,
   "metadata": {},
   "outputs": [
    {
     "data": {
      "text/plain": [
       "[('a', 1), ('b', 2), ('c', 3)]"
      ]
     },
     "execution_count": 45,
     "metadata": {},
     "output_type": "execute_result"
    }
   ],
   "source": [
    "x = 'abc'\n",
    "y = [1,2,3]\n",
    "list(zip(x,y))"
   ]
  },
  {
   "cell_type": "code",
   "execution_count": 46,
   "metadata": {},
   "outputs": [],
   "source": [
    "musicians = [('엄마','드럼',), ('아빠','베이스'), ('나','기타')]\n",
    "member, instrument = zip(*musicians)"
   ]
  },
  {
   "cell_type": "code",
   "execution_count": 47,
   "metadata": {},
   "outputs": [
    {
     "data": {
      "text/plain": [
       "('엄마', '아빠', '나')"
      ]
     },
     "execution_count": 47,
     "metadata": {},
     "output_type": "execute_result"
    }
   ],
   "source": [
    "member"
   ]
  },
  {
   "cell_type": "code",
   "execution_count": 48,
   "metadata": {},
   "outputs": [
    {
     "data": {
      "text/plain": [
       "('드럼', '베이스', '기타')"
      ]
     },
     "execution_count": 48,
     "metadata": {},
     "output_type": "execute_result"
    }
   ],
   "source": [
    "instrument"
   ]
  },
  {
   "cell_type": "code",
   "execution_count": null,
   "metadata": {},
   "outputs": [],
   "source": []
  },
  {
   "cell_type": "code",
   "execution_count": 50,
   "metadata": {
    "scrolled": true
   },
   "outputs": [
    {
     "name": "stdout",
     "output_type": "stream",
     "text": [
      "운동을 시킵니다. 체력이 1 감소합니다.\n",
      "운동을 시킵니다. 체력이 1 감소합니다.\n",
      "운동을 시킵니다. 체력이 1 감소합니다.\n",
      "운동을 시킵니다. 체력이 1 감소합니다.\n",
      "운동을 시킵니다. 체력이 1 감소합니다.\n",
      "운동을 시킵니다. 체력이 1 감소합니다.\n",
      "운동을 시킵니다. 체력이 1 감소합니다.\n",
      "운동을 시킵니다. 체력이 1 감소합니다.\n",
      "운동을 시킵니다. 체력이 1 감소합니다.\n",
      "운동을 시킵니다. 체력이 1 감소합니다.\n",
      "체력이 고갈되었습니다. 더 이상 운동을 할 수 없습니다.\n"
     ]
    }
   ],
   "source": [
    "status = True\n",
    "stamina = 10\n",
    "while status:\n",
    "    print('운동을 시킵니다. 체력이 1 감소합니다.')\n",
    "    stamina -= 1\n",
    "    if stamina == 0:\n",
    "        print('체력이 고갈되었습니다. 더 이상 운동을 할 수 없습니다.')\n",
    "        status = False"
   ]
  },
  {
   "cell_type": "code",
   "execution_count": null,
   "metadata": {},
   "outputs": [],
   "source": []
  },
  {
   "cell_type": "code",
   "execution_count": 52,
   "metadata": {
    "scrolled": false
   },
   "outputs": [
    {
     "name": "stdout",
     "output_type": "stream",
     "text": [
      "운동을 시킵시다. 체력이 1 감소합니다.\n",
      "운동을 시킵시다. 체력이 1 감소합니다.\n",
      "운동을 시킵시다. 체력이 1 감소합니다.\n",
      "운동을 시킵시다. 체력이 1 감소합니다.\n",
      "운동을 시킵시다. 체력이 1 감소합니다.\n",
      "운동을 시킵시다. 체력이 1 감소합니다.\n",
      "운동을 시킵시다. 체력이 1 감소합니다.\n",
      "운동을 시킵시다. 체력이 1 감소합니다.\n",
      "운동을 시킵시다. 체력이 1 감소합니다.\n",
      "운동을 시킵시다. 체력이 1 감소합니다.\n",
      "체력이 고갈되었습니다. 더이상 운동을 할 수 없습니다.\n"
     ]
    }
   ],
   "source": [
    "stamina = 10\n",
    "while 1:\n",
    "    print('운동을 시킵시다. 체력이 1 감소합니다.')\n",
    "    stamina -= 1\n",
    "    if not stamina:\n",
    "        print('체력이 고갈되었습니다. 더이상 운동을 할 수 없습니다.')\n",
    "        break"
   ]
  },
  {
   "cell_type": "code",
   "execution_count": null,
   "metadata": {},
   "outputs": [],
   "source": []
  },
  {
   "cell_type": "code",
   "execution_count": 58,
   "metadata": {},
   "outputs": [
    {
     "name": "stdout",
     "output_type": "stream",
     "text": [
      "숫자를 입력하세요 : 10\n",
      "no\n"
     ]
    }
   ],
   "source": [
    "data = [ 1,4,7,3,8,6,9,5,0]\n",
    "\n",
    "x = int(input('숫자를 입력하세요 : '))\n",
    "if x in data:\n",
    "    print('yes')\n",
    "else:\n",
    "    print('no')"
   ]
  }
 ],
 "metadata": {
  "kernelspec": {
   "display_name": "Python 3",
   "language": "python",
   "name": "python3"
  },
  "language_info": {
   "codemirror_mode": {
    "name": "ipython",
    "version": 3
   },
   "file_extension": ".py",
   "mimetype": "text/x-python",
   "name": "python",
   "nbconvert_exporter": "python",
   "pygments_lexer": "ipython3",
   "version": "3.6.5"
  }
 },
 "nbformat": 4,
 "nbformat_minor": 2
}
