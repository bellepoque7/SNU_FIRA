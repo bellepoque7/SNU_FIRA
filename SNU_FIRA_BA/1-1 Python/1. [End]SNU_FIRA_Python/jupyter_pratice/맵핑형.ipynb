{
 "cells": [
  {
   "cell_type": "markdown",
   "metadata": {},
   "source": [
    "# 맵핑형"
   ]
  },
  {
   "cell_type": "code",
   "execution_count": 2,
   "metadata": {},
   "outputs": [],
   "source": [
    "from IPython.core.interactiveshell import InteractiveShell\n",
    "InteractiveShell.ast_node_interactivity = \"all\""
   ]
  },
  {
   "cell_type": "code",
   "execution_count": 3,
   "metadata": {},
   "outputs": [],
   "source": [
    "# 맵핑형(Mapping types): key-valus 쌍으로 된 객체를 참조하는 자료형.\n",
    "# key는 해쉬가능한 자료형(불변성 자료형만), valuse는 모든 자료형이 가능.\n",
    "# 순서없는 매핑형: 딕셔너리(내장형), 디폴트 딕셔너리(collections.defaultdict)\n",
    "# 순서형 딕셔너리: collection.OrderDict 딕셔너리와 같지만 항목들을 추가되는 순서대로 저장."
   ]
  },
  {
   "cell_type": "code",
   "execution_count": 4,
   "metadata": {},
   "outputs": [],
   "source": [
    "# 딕셔너리: 가변자료형 key-value 쌍으로된 객체를 참조. {}중괄호로 출력\n",
    "# 키(key)값을 통해 값(value)에 접근할 수 있음.\n",
    "# 인덱스 개념이 없기 때문에 슬라이싱, 구간이동 불가."
   ]
  },
  {
   "cell_type": "code",
   "execution_count": 11,
   "metadata": {},
   "outputs": [
    {
     "data": {
      "text/plain": [
       "{1: '엄마', 2: '아빠', 3: '동생'}"
      ]
     },
     "execution_count": 11,
     "metadata": {},
     "output_type": "execute_result"
    }
   ],
   "source": [
    "instruments = ['드럼', '기타', '피리']\n",
    "simple_dic = {1: '엄마', 2:'아빠', 3:'동생'}\n",
    "complex_dic = {\n",
    "    '악기': instruments,\n",
    "    '가족': simple_dic,\n",
    "    (8, 15): '광복절',\n",
    "    'RGB' : [255, 72, 90],\n",
    "    'id':(),\n",
    "    0: 55,\n",
    "    -307: None,\n",
    "    'fruits': set()\n",
    "}\n",
    "simple_dic"
   ]
  },
  {
   "cell_type": "code",
   "execution_count": 12,
   "metadata": {},
   "outputs": [
    {
     "data": {
      "text/plain": [
       "{'악기': ['드럼', '기타', '피리'],\n",
       " '가족': {1: '엄마', 2: '아빠', 3: '동생'},\n",
       " (8, 15): '광복절',\n",
       " 'RGB': [255, 72, 90],\n",
       " 'id': (),\n",
       " 0: 55,\n",
       " -307: None,\n",
       " 'fruits': set()}"
      ]
     },
     "execution_count": 12,
     "metadata": {},
     "output_type": "execute_result"
    }
   ],
   "source": [
    "complex_dic"
   ]
  },
  {
   "cell_type": "code",
   "execution_count": 17,
   "metadata": {},
   "outputs": [
    {
     "name": "stdout",
     "output_type": "stream",
     "text": [
      "3 8\n"
     ]
    }
   ],
   "source": [
    "print(len(simple_dic), len(complex_dic))"
   ]
  },
  {
   "cell_type": "code",
   "execution_count": 19,
   "metadata": {},
   "outputs": [
    {
     "data": {
      "text/plain": [
       "{1: '엄마', 2: '아빠', 3: '나'}"
      ]
     },
     "execution_count": 19,
     "metadata": {},
     "output_type": "execute_result"
    }
   ],
   "source": [
    "simple_dic[3] = '나'\n",
    "simple_dic"
   ]
  },
  {
   "cell_type": "code",
   "execution_count": 20,
   "metadata": {},
   "outputs": [
    {
     "data": {
      "text/plain": [
       "{1: '엄마', 2: '아빠', 3: '나', 4: '동생'}"
      ]
     },
     "execution_count": 20,
     "metadata": {},
     "output_type": "execute_result"
    }
   ],
   "source": [
    "simple_dic[4] = '동생'\n",
    "simple_dic"
   ]
  },
  {
   "cell_type": "code",
   "execution_count": 22,
   "metadata": {},
   "outputs": [
    {
     "data": {
      "text/plain": [
       "{'악기': ['드럼', '기타', '베이스'],\n",
       " '가족': {1: '엄마', 2: '아빠', 3: '나', 4: '동생'},\n",
       " (8, 15): '광복절',\n",
       " 'RGB': [255, 72, 90],\n",
       " 'id': (),\n",
       " 0: 55,\n",
       " -307: None,\n",
       " 'fruits': set()}"
      ]
     },
     "execution_count": 22,
     "metadata": {},
     "output_type": "execute_result"
    }
   ],
   "source": [
    "complex_dic['악기'][-1] = '베이스'\n",
    "complex_dic"
   ]
  },
  {
   "cell_type": "code",
   "execution_count": null,
   "metadata": {},
   "outputs": [],
   "source": []
  },
  {
   "cell_type": "code",
   "execution_count": 23,
   "metadata": {},
   "outputs": [],
   "source": [
    "# 딕셔너리 생성\n",
    "# {}: 빈 딕셔너리를 반환\n",
    "# dict() 생성자 / dict(**kwarg): 키워드 전달인자(kwarg)의 키워드를 키로, 키워드의 값을 키의 값으로 받는 딕셔너리를 반환\n",
    "# dict(mapping, **kwarg): 매핑형 전달인자에 기반한 딕셔너리를 반환\n",
    "# dict(iterable, **kwarg): 순회형 전달ㅇ니자에 기바한 딕셔너리를 반환\n",
    "# 딕셔너리 축약"
   ]
  },
  {
   "cell_type": "code",
   "execution_count": null,
   "metadata": {},
   "outputs": [],
   "source": []
  },
  {
   "cell_type": "code",
   "execution_count": 28,
   "metadata": {},
   "outputs": [
    {
     "data": {
      "text/plain": [
       "{}"
      ]
     },
     "execution_count": 28,
     "metadata": {},
     "output_type": "execute_result"
    }
   ],
   "source": [
    "# 예시: 딕셔너리 생성(1/2)\n",
    "empty1 = {}\n",
    "empty1"
   ]
  },
  {
   "cell_type": "code",
   "execution_count": 27,
   "metadata": {},
   "outputs": [
    {
     "data": {
      "text/plain": [
       "{}"
      ]
     },
     "execution_count": 27,
     "metadata": {},
     "output_type": "execute_result"
    }
   ],
   "source": [
    "empty2 = dict()\n",
    "empty2"
   ]
  },
  {
   "cell_type": "code",
   "execution_count": 29,
   "metadata": {},
   "outputs": [
    {
     "name": "stdout",
     "output_type": "stream",
     "text": [
      "<class 'dict'> <class 'dict'>\n"
     ]
    }
   ],
   "source": [
    "print(type(empty1), type(empty2))"
   ]
  },
  {
   "cell_type": "code",
   "execution_count": 30,
   "metadata": {},
   "outputs": [
    {
     "data": {
      "text/plain": [
       "{307: '라이언'}"
      ]
     },
     "execution_count": 30,
     "metadata": {},
     "output_type": "execute_result"
    }
   ],
   "source": [
    "D = {307: '라이언'}\n",
    "D"
   ]
  },
  {
   "cell_type": "code",
   "execution_count": 31,
   "metadata": {},
   "outputs": [
    {
     "data": {
      "text/plain": [
       "{'사과': 75, '바나나': 62, '블루베리': 124}"
      ]
     },
     "execution_count": 31,
     "metadata": {},
     "output_type": "execute_result"
    }
   ],
   "source": [
    "fruits_vote = {'사과': 75, '바나나':62, '블루베리': 124}\n",
    "fruits_vote   # 원래 순서 오름차순인데 주피터에서는 적용 안되나?"
   ]
  },
  {
   "cell_type": "code",
   "execution_count": null,
   "metadata": {},
   "outputs": [],
   "source": []
  },
  {
   "cell_type": "code",
   "execution_count": 32,
   "metadata": {},
   "outputs": [],
   "source": [
    "# 딕셔너리 생성(2/2)\n",
    "d1 = dict(drum='드럼', guitar = '기타')            #키워드 전달인자\n",
    "d2 = dict({'drum': '드럼', 'guitar': '기타'})      #매핑형 전달인자\n",
    "d3 = dict([('drum', '드럼'), ('guitar','기타')])   #순회형 전달인자 (list of tuples) 튜플의 리스트화\n",
    "d4 = dict((['drum', '드럼'], ['guitar','기타']))   #순회형 전달인자 (tuples of list) 리스트의 튜플화\n",
    "d5 = dict([['drum', '드럼'], ['guitar','기타']])   #순회형 전달인자 (list of list)"
   ]
  },
  {
   "cell_type": "code",
   "execution_count": 33,
   "metadata": {},
   "outputs": [
    {
     "data": {
      "text/plain": [
       "{'drum': '드럼', 'guitar': '기타'}"
      ]
     },
     "execution_count": 33,
     "metadata": {},
     "output_type": "execute_result"
    },
    {
     "data": {
      "text/plain": [
       "{'drum': '드럼', 'guitar': '기타'}"
      ]
     },
     "execution_count": 33,
     "metadata": {},
     "output_type": "execute_result"
    },
    {
     "data": {
      "text/plain": [
       "{'drum': '드럼', 'guitar': '기타'}"
      ]
     },
     "execution_count": 33,
     "metadata": {},
     "output_type": "execute_result"
    },
    {
     "data": {
      "text/plain": [
       "{'drum': '드럼', 'guitar': '기타'}"
      ]
     },
     "execution_count": 33,
     "metadata": {},
     "output_type": "execute_result"
    },
    {
     "data": {
      "text/plain": [
       "{'drum': '드럼', 'guitar': '기타'}"
      ]
     },
     "execution_count": 33,
     "metadata": {},
     "output_type": "execute_result"
    }
   ],
   "source": [
    "d1\n",
    "d2\n",
    "d3\n",
    "d4\n",
    "d5"
   ]
  },
  {
   "cell_type": "code",
   "execution_count": 34,
   "metadata": {},
   "outputs": [],
   "source": [
    "d6 = dict((('drum','드럼'), ('guitar','기타')))  #순회형 전달인자(tuples of tuples)"
   ]
  },
  {
   "cell_type": "code",
   "execution_count": 35,
   "metadata": {},
   "outputs": [
    {
     "data": {
      "text/plain": [
       "{'drum': '드럼', 'guitar': '기타'}"
      ]
     },
     "execution_count": 35,
     "metadata": {},
     "output_type": "execute_result"
    }
   ],
   "source": [
    "d6"
   ]
  },
  {
   "cell_type": "code",
   "execution_count": 36,
   "metadata": {},
   "outputs": [
    {
     "data": {
      "text/plain": [
       "True"
      ]
     },
     "execution_count": 36,
     "metadata": {},
     "output_type": "execute_result"
    }
   ],
   "source": [
    "d1 == d2 == d3 == d4 == d5 == d6"
   ]
  },
  {
   "cell_type": "code",
   "execution_count": null,
   "metadata": {},
   "outputs": [],
   "source": []
  }
 ],
 "metadata": {
  "kernelspec": {
   "display_name": "Python 3",
   "language": "python",
   "name": "python3"
  },
  "language_info": {
   "codemirror_mode": {
    "name": "ipython",
    "version": 3
   },
   "file_extension": ".py",
   "mimetype": "text/x-python",
   "name": "python",
   "nbconvert_exporter": "python",
   "pygments_lexer": "ipython3",
   "version": "3.6.5"
  }
 },
 "nbformat": 4,
 "nbformat_minor": 2
}
