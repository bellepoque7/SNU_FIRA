{
 "cells": [
  {
   "cell_type": "code",
   "execution_count": 35,
   "metadata": {},
   "outputs": [],
   "source": [
    "from IPython.core.interactiveshell import InteractiveShell\n",
    "InteractiveShell.ast_node_interactivity = \"all\"\n",
    "#리스트 축약\n",
    "# 대괄호로 묶는 표현식과 순환문을 통해 간단하게 리스트 작성\n",
    "# 작성방법: [표현식 for 항목 in 순회형 [if 불린-표현식]]\n"
   ]
  },
  {
   "cell_type": "code",
   "execution_count": 2,
   "metadata": {},
   "outputs": [],
   "source": [
    "#일반 형식과 리스트 축약 비교\n",
    "int_str1 = []\n",
    "for i in range(1,10):\n",
    "    int_str1.append(str(i))    # 문자열로 붙이자."
   ]
  },
  {
   "cell_type": "code",
   "execution_count": 3,
   "metadata": {},
   "outputs": [],
   "source": [
    "int_str2 = [str(i) for i in range(1,10)]"
   ]
  },
  {
   "cell_type": "code",
   "execution_count": 4,
   "metadata": {},
   "outputs": [
    {
     "data": {
      "text/plain": [
       "['1', '2', '3', '4', '5', '6', '7', '8', '9']"
      ]
     },
     "execution_count": 4,
     "metadata": {},
     "output_type": "execute_result"
    }
   ],
   "source": [
    "int_str1"
   ]
  },
  {
   "cell_type": "code",
   "execution_count": 5,
   "metadata": {},
   "outputs": [
    {
     "data": {
      "text/plain": [
       "['1', '2', '3', '4', '5', '6', '7', '8', '9']"
      ]
     },
     "execution_count": 5,
     "metadata": {},
     "output_type": "execute_result"
    }
   ],
   "source": [
    "int_str2"
   ]
  },
  {
   "cell_type": "code",
   "execution_count": null,
   "metadata": {},
   "outputs": [],
   "source": []
  },
  {
   "cell_type": "code",
   "execution_count": 15,
   "metadata": {},
   "outputs": [],
   "source": [
    "#조건문이 있는 일반 형식과 리스트 축약 비교\n",
    "int_str_odd1 = []\n",
    "for i in range(1, 10):\n",
    "    if i % 2 == 1:         # 조건이 추가!\n",
    "        int_str_odd1.append(str(i))"
   ]
  },
  {
   "cell_type": "code",
   "execution_count": 16,
   "metadata": {},
   "outputs": [],
   "source": [
    "int_str_odd2 = [str(i) for i in range(1, 10) if i % 2 == 1]"
   ]
  },
  {
   "cell_type": "code",
   "execution_count": 19,
   "metadata": {},
   "outputs": [
    {
     "data": {
      "text/plain": [
       "['1', '3', '5', '7', '9']"
      ]
     },
     "execution_count": 19,
     "metadata": {},
     "output_type": "execute_result"
    }
   ],
   "source": [
    "int_str_odd1"
   ]
  },
  {
   "cell_type": "code",
   "execution_count": 20,
   "metadata": {},
   "outputs": [
    {
     "data": {
      "text/plain": [
       "['1', '3', '5', '7', '9']"
      ]
     },
     "execution_count": 20,
     "metadata": {},
     "output_type": "execute_result"
    }
   ],
   "source": [
    "int_str_odd2"
   ]
  },
  {
   "cell_type": "code",
   "execution_count": null,
   "metadata": {},
   "outputs": [],
   "source": []
  },
  {
   "cell_type": "code",
   "execution_count": 21,
   "metadata": {},
   "outputs": [],
   "source": [
    "#예시: 리스트 축약"
   ]
  },
  {
   "cell_type": "code",
   "execution_count": 25,
   "metadata": {},
   "outputs": [
    {
     "data": {
      "text/plain": [
       "[1, 3, 5, 7, 9]"
      ]
     },
     "execution_count": 25,
     "metadata": {},
     "output_type": "execute_result"
    }
   ],
   "source": [
    "odd_integers = [i for i in range(10) if i % 2 == 1]\n",
    "squares = [pow(i,2) for i in odd_integers]\n",
    "\n",
    "odd_integers"
   ]
  },
  {
   "cell_type": "code",
   "execution_count": 26,
   "metadata": {},
   "outputs": [
    {
     "data": {
      "text/plain": [
       "[1, 9, 25, 49, 81]"
      ]
     },
     "execution_count": 26,
     "metadata": {},
     "output_type": "execute_result"
    }
   ],
   "source": [
    "squares"
   ]
  },
  {
   "cell_type": "code",
   "execution_count": 31,
   "metadata": {},
   "outputs": [],
   "source": [
    "#모든 값이 0인 벡터 생성\n",
    "import numpy\n",
    "zeroes1 = list(numpy.zeros(10, dtype = numpy.int))\n",
    "zeroes2 = [0] * 10\n",
    "zeroes3 = [0 for _ in range(10)]    # _  dummy 아무것도 안쓸때."
   ]
  },
  {
   "cell_type": "code",
   "execution_count": 39,
   "metadata": {},
   "outputs": [
    {
     "data": {
      "text/plain": [
       "[0, 0, 0, 0, 0, 0, 0, 0, 0, 0]"
      ]
     },
     "execution_count": 39,
     "metadata": {},
     "output_type": "execute_result"
    },
    {
     "data": {
      "text/plain": [
       "[0, 0, 0, 0, 0, 0, 0, 0, 0, 0]"
      ]
     },
     "execution_count": 39,
     "metadata": {},
     "output_type": "execute_result"
    },
    {
     "data": {
      "text/plain": [
       "[0, 0, 0, 0, 0, 0, 0, 0, 0, 0]"
      ]
     },
     "execution_count": 39,
     "metadata": {},
     "output_type": "execute_result"
    }
   ],
   "source": [
    "zeroes1\n",
    "zeroes2\n",
    "zeroes3"
   ]
  },
  {
   "cell_type": "code",
   "execution_count": null,
   "metadata": {},
   "outputs": [],
   "source": []
  },
  {
   "cell_type": "code",
   "execution_count": 40,
   "metadata": {},
   "outputs": [],
   "source": [
    "#중첩 리스트 축약\n",
    "# [ 표현식 for 항목-1 in 순회형 [if 불린-표현식-1]\n",
    "#     for 항목 -2 in 순회형 [if 불린-표현식-2]\n",
    "#         for 항목 -N in 순회형 [if 불린-표현식-N]]"
   ]
  },
  {
   "cell_type": "code",
   "execution_count": 46,
   "metadata": {
    "scrolled": false
   },
   "outputs": [
    {
     "data": {
      "text/plain": [
       "[(2, 1),\n",
       " (2, 2),\n",
       " (2, 3),\n",
       " (2, 4),\n",
       " (3, 1),\n",
       " (3, 2),\n",
       " (3, 3),\n",
       " (3, 4),\n",
       " (4, 1),\n",
       " (4, 2),\n",
       " (4, 3),\n",
       " (4, 4)]"
      ]
     },
     "execution_count": 46,
     "metadata": {},
     "output_type": "execute_result"
    }
   ],
   "source": [
    "pairs = [(x,y) for x in range(2,5)\n",
    "       for y in range(1,5)]\n",
    "pairs"
   ]
  },
  {
   "cell_type": "code",
   "execution_count": 48,
   "metadata": {
    "scrolled": false
   },
   "outputs": [
    {
     "data": {
      "text/plain": [
       "[(2, 1, 2),\n",
       " (2, 2, 4),\n",
       " (2, 3, 6),\n",
       " (2, 4, 8),\n",
       " (3, 1, 3),\n",
       " (3, 2, 6),\n",
       " (3, 3, 9),\n",
       " (3, 4, 12),\n",
       " (4, 1, 4),\n",
       " (4, 2, 8),\n",
       " (4, 3, 12),\n",
       " (4, 4, 16)]"
      ]
     },
     "execution_count": 48,
     "metadata": {},
     "output_type": "execute_result"
    }
   ],
   "source": [
    "multiplication_tuple = [(x,y, x*y) for x in range(2,5)\n",
    "                       for y in range(1,5)]\n",
    "multiplication_tuple"
   ]
  },
  {
   "cell_type": "code",
   "execution_count": null,
   "metadata": {},
   "outputs": [],
   "source": []
  },
  {
   "cell_type": "code",
   "execution_count": 56,
   "metadata": {
    "scrolled": true
   },
   "outputs": [
    {
     "data": {
      "text/plain": [
       "[(1, 2, 3),\n",
       " (1, 2, 5),\n",
       " (1, 2, 7),\n",
       " (1, 2, 9),\n",
       " (1, 3, 4),\n",
       " (1, 3, 6),\n",
       " (1, 3, 8),\n",
       " (1, 4, 5),\n",
       " (1, 4, 7),\n",
       " (1, 4, 9),\n",
       " (1, 5, 6),\n",
       " (1, 5, 8),\n",
       " (1, 6, 7),\n",
       " (1, 6, 9),\n",
       " (1, 7, 8),\n",
       " (1, 8, 9),\n",
       " (2, 3, 4),\n",
       " (2, 3, 7),\n",
       " (2, 4, 5),\n",
       " (2, 4, 8),\n",
       " (2, 5, 6),\n",
       " (2, 5, 9),\n",
       " (2, 6, 7),\n",
       " (2, 7, 8),\n",
       " (2, 8, 9),\n",
       " (3, 4, 5),\n",
       " (3, 4, 9),\n",
       " (3, 5, 6),\n",
       " (3, 6, 7),\n",
       " (3, 7, 8),\n",
       " (3, 8, 9),\n",
       " (4, 5, 6),\n",
       " (4, 6, 7),\n",
       " (4, 7, 8),\n",
       " (4, 8, 9),\n",
       " (5, 6, 7),\n",
       " (5, 7, 8),\n",
       " (5, 8, 9),\n",
       " (6, 7, 8),\n",
       " (6, 8, 9),\n",
       " (7, 8, 9)]"
      ]
     },
     "execution_count": 56,
     "metadata": {},
     "output_type": "execute_result"
    }
   ],
   "source": [
    "# 예시: 중첩 리스트 축약(2/2)\n",
    "# 나중에 나온 for 문은 앞의 for문 결과를 사용할 수 있음\n",
    "triples = [(x,y,z)\n",
    "          for x in  range(1,10)\n",
    "          for y in range(x+1,10)\n",
    "          for z in range(y+1,10,x+1)]\n",
    "triples"
   ]
  },
  {
   "cell_type": "code",
   "execution_count": 54,
   "metadata": {},
   "outputs": [
    {
     "data": {
      "text/plain": [
       "['A+', 'A0', 'A-', 'B+', 'B0', 'B-', 'C+', 'C0', 'C-', 'D+', 'D0', 'D-']"
      ]
     },
     "execution_count": 54,
     "metadata": {},
     "output_type": "execute_result"
    }
   ],
   "source": [
    "# 문자열 결합에도 사용 가능\n",
    "pass_grades = [letter + sign for letter in 'ABCD' for sign in '+0-']\n",
    "pass_grades"
   ]
  },
  {
   "cell_type": "code",
   "execution_count": null,
   "metadata": {},
   "outputs": [],
   "source": []
  },
  {
   "cell_type": "code",
   "execution_count": 55,
   "metadata": {
    "scrolled": true
   },
   "outputs": [
    {
     "data": {
      "text/plain": [
       "['FSW',\n",
       " 'FSG',\n",
       " 'FSR',\n",
       " 'FSB',\n",
       " 'FMW',\n",
       " 'FMG',\n",
       " 'FMR',\n",
       " 'FMB',\n",
       " 'FLW',\n",
       " 'FLG',\n",
       " 'FLR',\n",
       " 'FLB',\n",
       " 'MSW',\n",
       " 'MSG',\n",
       " 'MSR',\n",
       " 'MSB',\n",
       " 'MMW',\n",
       " 'MMG',\n",
       " 'MMR',\n",
       " 'MMB',\n",
       " 'MLW',\n",
       " 'MLG',\n",
       " 'MLR',\n",
       " 'MLB',\n",
       " 'MXW',\n",
       " 'MXG',\n",
       " 'MXR',\n",
       " 'MXB']"
      ]
     },
     "execution_count": 55,
     "metadata": {},
     "output_type": "execute_result"
    }
   ],
   "source": [
    "# 중첩 리스트 축약 형식으로 변환\n",
    "# 아래 코드를 리스트 축약 기법을 사용해서 재작성        #저번에도 했는데 이번에도 못하네 흠...\n",
    "sku = []\n",
    "for gender in 'FM':\n",
    "    for size in 'SMLX':\n",
    "        if gender == 'F' and size == 'X':   #여성 엑스트라 자리는 안만든다..\n",
    "            continue\n",
    "        for color in 'WGRB':\n",
    "            sku.append(gender + size + color)\n",
    "sku"
   ]
  },
  {
   "cell_type": "code",
   "execution_count": 75,
   "metadata": {
    "scrolled": true
   },
   "outputs": [
    {
     "data": {
      "text/plain": [
       "['FSW',\n",
       " 'FSG',\n",
       " 'FSR',\n",
       " 'FSB',\n",
       " 'FMW',\n",
       " 'FMG',\n",
       " 'FMR',\n",
       " 'FMB',\n",
       " 'FLW',\n",
       " 'FLG',\n",
       " 'FLR',\n",
       " 'FLB',\n",
       " 'FXW',\n",
       " 'FXG',\n",
       " 'FXR',\n",
       " 'FXB',\n",
       " 'MSW',\n",
       " 'MSG',\n",
       " 'MSR',\n",
       " 'MSB',\n",
       " 'MMW',\n",
       " 'MMG',\n",
       " 'MMR',\n",
       " 'MMB',\n",
       " 'MLW',\n",
       " 'MLG',\n",
       " 'MLR',\n",
       " 'MLB',\n",
       " 'MXW',\n",
       " 'MXG',\n",
       " 'MXR',\n",
       " 'MXB']"
      ]
     },
     "execution_count": 75,
     "metadata": {},
     "output_type": "execute_result"
    }
   ],
   "source": [
    "[ gender + size + color for gender in 'FM' for size in 'SMLX' for color in 'WGRB' if not(gender == 'F' or size =='x')]\n",
    "# 흐음 하긴 했는데 왜 돌아가는지 모르겠다.... if문이 true일때만 실행하는건데\n",
    "# if문이 true일려면...성별 여자 남자이고 사이즈가 SML 인것... 흐음..맞군\n",
    "# for문에서는 조건1 and 조건2 일때 continue(스킵)이니까 false일때를 스킵시키려면 조건문을 반대로 뒤집으면 되겠군..."
   ]
  },
  {
   "cell_type": "code",
   "execution_count": null,
   "metadata": {},
   "outputs": [],
   "source": []
  }
 ],
 "metadata": {
  "kernelspec": {
   "display_name": "Python 3",
   "language": "python",
   "name": "python3"
  },
  "language_info": {
   "codemirror_mode": {
    "name": "ipython",
    "version": 3
   },
   "file_extension": ".py",
   "mimetype": "text/x-python",
   "name": "python",
   "nbconvert_exporter": "python",
   "pygments_lexer": "ipython3",
   "version": "3.6.5"
  }
 },
 "nbformat": 4,
 "nbformat_minor": 2
}
