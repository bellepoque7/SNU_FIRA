{
 "cells": [
  {
   "cell_type": "code",
   "execution_count": 27,
   "metadata": {},
   "outputs": [],
   "source": [
    "from IPython.core.interactiveshell import InteractiveShell\n",
    "InteractiveShell.ast_node_interactivity = \"all\"\n",
    "\n",
    "\n",
    "import collections\n",
    "s =  \"There are going\"\n",
    "cnt = collections.Counter(s).most_common()"
   ]
  },
  {
   "cell_type": "code",
   "execution_count": 22,
   "metadata": {},
   "outputs": [
    {
     "name": "stdout",
     "output_type": "stream",
     "text": [
      "There are going\n"
     ]
    }
   ],
   "source": [
    "up = cnt[0][0]\n",
    "for i in s:\n",
    "    if i == cnt:\n",
    "        i = cnt.upper()\n",
    "print(s)"
   ]
  },
  {
   "cell_type": "code",
   "execution_count": 63,
   "metadata": {},
   "outputs": [
    {
     "name": "stdout",
     "output_type": "stream",
     "text": [
      "The number of a: 1\n",
      "The number of e: 3\n",
      "The number of i: 1\n",
      "The number of o: 1\n",
      "The number of u: 0\n"
     ]
    },
    {
     "data": {
      "text/plain": [
       "'ThEre are going'"
      ]
     },
     "execution_count": 63,
     "metadata": {},
     "output_type": "execute_result"
    },
    {
     "data": {
      "text/plain": [
       "'TherE are going'"
      ]
     },
     "execution_count": 63,
     "metadata": {},
     "output_type": "execute_result"
    },
    {
     "data": {
      "text/plain": [
       "'There arE going'"
      ]
     },
     "execution_count": 63,
     "metadata": {},
     "output_type": "execute_result"
    },
    {
     "name": "stdout",
     "output_type": "stream",
     "text": [
      "There are going\n"
     ]
    }
   ],
   "source": [
    "cnt = collections.Counter(s)\n",
    "vowels = {'a':0, 'e':0, 'i':0, 'o':0, 'u':0}\n",
    "max = 0\n",
    "for key in 'aeiou':\n",
    "    vowels[key] = cnt[key]\n",
    "    print('The number of {0}: {1}'.format(key, vowels[key]))\n",
    "    if max < cnt[key]:\n",
    "        max = cnt[key]\n",
    "        max_chr = key\n",
    "        \n",
    "for i in range(len(s)):\n",
    "    if s[i] == max_chr:\n",
    "        s[:i] + s[i].upper() + s[i + 1:]\n",
    "\n",
    "print(s)"
   ]
  },
  {
   "cell_type": "code",
   "execution_count": null,
   "metadata": {},
   "outputs": [],
   "source": []
  }
 ],
 "metadata": {
  "kernelspec": {
   "display_name": "Python 3",
   "language": "python",
   "name": "python3"
  },
  "language_info": {
   "codemirror_mode": {
    "name": "ipython",
    "version": 3
   },
   "file_extension": ".py",
   "mimetype": "text/x-python",
   "name": "python",
   "nbconvert_exporter": "python",
   "pygments_lexer": "ipython3",
   "version": "3.6.5"
  }
 },
 "nbformat": 4,
 "nbformat_minor": 2
}
