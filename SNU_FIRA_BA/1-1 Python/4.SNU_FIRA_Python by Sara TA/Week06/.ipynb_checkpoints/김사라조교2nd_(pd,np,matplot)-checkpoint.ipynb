{
 "cells": [
  {
   "cell_type": "code",
   "execution_count": 231,
   "metadata": {},
   "outputs": [],
   "source": [
    "from IPython.core.interactiveshell import InteractiveShell\n",
    "InteractiveShell.ast_node_interactivity = \"all\""
   ]
  },
  {
   "cell_type": "code",
   "execution_count": 8,
   "metadata": {},
   "outputs": [],
   "source": [
    "import os\n",
    "import glob"
   ]
  },
  {
   "cell_type": "code",
   "execution_count": 11,
   "metadata": {},
   "outputs": [
    {
     "data": {
      "text/plain": [
       "'C:\\\\Users\\\\renz\\\\Documents\\\\GitHub\\\\Python\\\\SNU_BDI_(김사라조교)\\\\Week06'"
      ]
     },
     "execution_count": 11,
     "metadata": {},
     "output_type": "execute_result"
    }
   ],
   "source": [
    "os.getcwd()"
   ]
  },
  {
   "cell_type": "code",
   "execution_count": 12,
   "metadata": {},
   "outputs": [
    {
     "data": {
      "text/plain": [
       "['.ipynb_checkpoints', 'data_iris', 'ml-1m', '김사라조교_2nd.ipynb']"
      ]
     },
     "execution_count": 12,
     "metadata": {},
     "output_type": "execute_result"
    }
   ],
   "source": [
    "os.listdir()"
   ]
  },
  {
   "cell_type": "code",
   "execution_count": 13,
   "metadata": {},
   "outputs": [],
   "source": [
    "os.mkdir('figures')"
   ]
  },
  {
   "cell_type": "markdown",
   "metadata": {},
   "source": [
    "## 설정 위치에 있는 파일과 디렉토리 리스트"
   ]
  },
  {
   "cell_type": "code",
   "execution_count": 15,
   "metadata": {
    "scrolled": true
   },
   "outputs": [
    {
     "data": {
      "text/plain": [
       "['$Recycle.Bin',\n",
       " 'Documents and Settings',\n",
       " 'hiberfil.sys',\n",
       " 'Intel',\n",
       " 'pagefile.sys',\n",
       " 'PerfLogs',\n",
       " 'Program Files',\n",
       " 'Program Files (x86)',\n",
       " 'ProgramData',\n",
       " 'Recovery',\n",
       " 'swapfile.sys',\n",
       " 'System Volume Information',\n",
       " 'Temp',\n",
       " 'Users',\n",
       " 'Windows']"
      ]
     },
     "execution_count": 15,
     "metadata": {},
     "output_type": "execute_result"
    }
   ],
   "source": [
    "os.listdir('c:/')"
   ]
  },
  {
   "cell_type": "markdown",
   "metadata": {},
   "source": [
    "## working directory 변경"
   ]
  },
  {
   "cell_type": "markdown",
   "metadata": {},
   "source": [
    "## glob\n",
    "## 특정 폴더 내 파일 이름을 불러올때 사용, 특히 특정 패턴이 반복되는 파일들을 불러와야 하는 경우에 유용하게 사용."
   ]
  },
  {
   "cell_type": "code",
   "execution_count": 19,
   "metadata": {},
   "outputs": [
    {
     "data": {
      "text/plain": [
       "['ml-1m\\\\movies.dat', 'ml-1m\\\\ratings.dat', 'ml-1m\\\\users.dat']"
      ]
     },
     "execution_count": 19,
     "metadata": {},
     "output_type": "execute_result"
    }
   ],
   "source": [
    "import glob\n",
    "glob.glob('ml-1m/*.dat')     # 컴퓨터마다 test train set이 다르기때문에 이걸통일하기위해.."
   ]
  },
  {
   "cell_type": "code",
   "execution_count": null,
   "metadata": {},
   "outputs": [],
   "source": []
  },
  {
   "cell_type": "markdown",
   "metadata": {},
   "source": [
    "# 2. Pandas를 이용한 탐색적 자료 분석\n",
    "## MovieLens 영화 평점 데이터\n",
    "** users: 사용자들의 정보를 가지고있음. movies에는 영화 정보가 들어있음 ratings: 영화1개당 유저1개당 별점을 가지고 있음. "
   ]
  },
  {
   "cell_type": "code",
   "execution_count": 28,
   "metadata": {},
   "outputs": [],
   "source": [
    "fti"
   ]
  },
  {
   "cell_type": "code",
   "execution_count": 69,
   "metadata": {
    "scrolled": true
   },
   "outputs": [
    {
     "name": "stderr",
     "output_type": "stream",
     "text": [
      "C:\\Users\\renz\\Anaconda3\\lib\\site-packages\\ipykernel_launcher.py:5: ParserWarning: Falling back to the 'python' engine because the 'c' engine does not support regex separators (separators > 1 char and different from '\\s+' are interpreted as regex); you can avoid this warning by specifying engine='python'.\n",
      "  \"\"\"\n",
      "C:\\Users\\renz\\Anaconda3\\lib\\site-packages\\ipykernel_launcher.py:6: ParserWarning: Falling back to the 'python' engine because the 'c' engine does not support regex separators (separators > 1 char and different from '\\s+' are interpreted as regex); you can avoid this warning by specifying engine='python'.\n",
      "  \n",
      "C:\\Users\\renz\\Anaconda3\\lib\\site-packages\\ipykernel_launcher.py:7: ParserWarning: Falling back to the 'python' engine because the 'c' engine does not support regex separators (separators > 1 char and different from '\\s+' are interpreted as regex); you can avoid this warning by specifying engine='python'.\n",
      "  import sys\n"
     ]
    }
   ],
   "source": [
    "unames = ['user_id', 'gender', 'age', 'occupation', 'zip']\n",
    "rnames = ['user_id', 'movie_id', 'rating', 'timestamp']\n",
    "mnames = ['movie_id', 'title', 'genres']\n",
    "\n",
    "users = pd.read_csv('ml-1m/users.dat', sep = '::', header = None, names = unames)\n",
    "ratings = pd.read_csv('ml-1m/ratings.dat', sep ='::', header = None, names = rnames)\n",
    "movies = pd.read_csv('ml-1m/movies.dat', sep ='::', header = None, names = mnames)"
   ]
  },
  {
   "cell_type": "code",
   "execution_count": 70,
   "metadata": {},
   "outputs": [
    {
     "data": {
      "text/html": [
       "<div>\n",
       "<style scoped>\n",
       "    .dataframe tbody tr th:only-of-type {\n",
       "        vertical-align: middle;\n",
       "    }\n",
       "\n",
       "    .dataframe tbody tr th {\n",
       "        vertical-align: top;\n",
       "    }\n",
       "\n",
       "    .dataframe thead th {\n",
       "        text-align: right;\n",
       "    }\n",
       "</style>\n",
       "<table border=\"1\" class=\"dataframe\">\n",
       "  <thead>\n",
       "    <tr style=\"text-align: right;\">\n",
       "      <th></th>\n",
       "      <th>user_id</th>\n",
       "      <th>gender</th>\n",
       "      <th>age</th>\n",
       "      <th>occupation</th>\n",
       "      <th>zip</th>\n",
       "    </tr>\n",
       "  </thead>\n",
       "  <tbody>\n",
       "    <tr>\n",
       "      <th>0</th>\n",
       "      <td>1</td>\n",
       "      <td>F</td>\n",
       "      <td>1</td>\n",
       "      <td>10</td>\n",
       "      <td>48067</td>\n",
       "    </tr>\n",
       "    <tr>\n",
       "      <th>1</th>\n",
       "      <td>2</td>\n",
       "      <td>M</td>\n",
       "      <td>56</td>\n",
       "      <td>16</td>\n",
       "      <td>70072</td>\n",
       "    </tr>\n",
       "    <tr>\n",
       "      <th>2</th>\n",
       "      <td>3</td>\n",
       "      <td>M</td>\n",
       "      <td>25</td>\n",
       "      <td>15</td>\n",
       "      <td>55117</td>\n",
       "    </tr>\n",
       "    <tr>\n",
       "      <th>3</th>\n",
       "      <td>4</td>\n",
       "      <td>M</td>\n",
       "      <td>45</td>\n",
       "      <td>7</td>\n",
       "      <td>02460</td>\n",
       "    </tr>\n",
       "    <tr>\n",
       "      <th>4</th>\n",
       "      <td>5</td>\n",
       "      <td>M</td>\n",
       "      <td>25</td>\n",
       "      <td>20</td>\n",
       "      <td>55455</td>\n",
       "    </tr>\n",
       "  </tbody>\n",
       "</table>\n",
       "</div>"
      ],
      "text/plain": [
       "   user_id gender  age  occupation    zip\n",
       "0        1      F    1          10  48067\n",
       "1        2      M   56          16  70072\n",
       "2        3      M   25          15  55117\n",
       "3        4      M   45           7  02460\n",
       "4        5      M   25          20  55455"
      ]
     },
     "execution_count": 70,
     "metadata": {},
     "output_type": "execute_result"
    }
   ],
   "source": [
    "users.head()  # 1살?? 이상하다."
   ]
  },
  {
   "cell_type": "code",
   "execution_count": 71,
   "metadata": {},
   "outputs": [
    {
     "data": {
      "text/plain": [
       "(6040, 5)"
      ]
     },
     "execution_count": 71,
     "metadata": {},
     "output_type": "execute_result"
    }
   ],
   "source": [
    "users.shape"
   ]
  },
  {
   "cell_type": "code",
   "execution_count": 72,
   "metadata": {},
   "outputs": [
    {
     "data": {
      "text/html": [
       "<div>\n",
       "<style scoped>\n",
       "    .dataframe tbody tr th:only-of-type {\n",
       "        vertical-align: middle;\n",
       "    }\n",
       "\n",
       "    .dataframe tbody tr th {\n",
       "        vertical-align: top;\n",
       "    }\n",
       "\n",
       "    .dataframe thead th {\n",
       "        text-align: right;\n",
       "    }\n",
       "</style>\n",
       "<table border=\"1\" class=\"dataframe\">\n",
       "  <thead>\n",
       "    <tr style=\"text-align: right;\">\n",
       "      <th></th>\n",
       "      <th>user_id</th>\n",
       "      <th>movie_id</th>\n",
       "      <th>rating</th>\n",
       "      <th>timestamp</th>\n",
       "    </tr>\n",
       "  </thead>\n",
       "  <tbody>\n",
       "    <tr>\n",
       "      <th>0</th>\n",
       "      <td>1</td>\n",
       "      <td>1193</td>\n",
       "      <td>5</td>\n",
       "      <td>978300760</td>\n",
       "    </tr>\n",
       "    <tr>\n",
       "      <th>1</th>\n",
       "      <td>1</td>\n",
       "      <td>661</td>\n",
       "      <td>3</td>\n",
       "      <td>978302109</td>\n",
       "    </tr>\n",
       "    <tr>\n",
       "      <th>2</th>\n",
       "      <td>1</td>\n",
       "      <td>914</td>\n",
       "      <td>3</td>\n",
       "      <td>978301968</td>\n",
       "    </tr>\n",
       "    <tr>\n",
       "      <th>3</th>\n",
       "      <td>1</td>\n",
       "      <td>3408</td>\n",
       "      <td>4</td>\n",
       "      <td>978300275</td>\n",
       "    </tr>\n",
       "    <tr>\n",
       "      <th>4</th>\n",
       "      <td>1</td>\n",
       "      <td>2355</td>\n",
       "      <td>5</td>\n",
       "      <td>978824291</td>\n",
       "    </tr>\n",
       "  </tbody>\n",
       "</table>\n",
       "</div>"
      ],
      "text/plain": [
       "   user_id  movie_id  rating  timestamp\n",
       "0        1      1193       5  978300760\n",
       "1        1       661       3  978302109\n",
       "2        1       914       3  978301968\n",
       "3        1      3408       4  978300275\n",
       "4        1      2355       5  978824291"
      ]
     },
     "execution_count": 72,
     "metadata": {},
     "output_type": "execute_result"
    }
   ],
   "source": [
    "rating.head()   # timestamp도 비식별화 되어ㅣㅇㅆ다."
   ]
  },
  {
   "cell_type": "code",
   "execution_count": 73,
   "metadata": {},
   "outputs": [
    {
     "data": {
      "text/html": [
       "<div>\n",
       "<style scoped>\n",
       "    .dataframe tbody tr th:only-of-type {\n",
       "        vertical-align: middle;\n",
       "    }\n",
       "\n",
       "    .dataframe tbody tr th {\n",
       "        vertical-align: top;\n",
       "    }\n",
       "\n",
       "    .dataframe thead th {\n",
       "        text-align: right;\n",
       "    }\n",
       "</style>\n",
       "<table border=\"1\" class=\"dataframe\">\n",
       "  <thead>\n",
       "    <tr style=\"text-align: right;\">\n",
       "      <th></th>\n",
       "      <th>movie_id</th>\n",
       "      <th>title</th>\n",
       "      <th>genres</th>\n",
       "    </tr>\n",
       "  </thead>\n",
       "  <tbody>\n",
       "    <tr>\n",
       "      <th>0</th>\n",
       "      <td>1</td>\n",
       "      <td>Toy Story (1995)</td>\n",
       "      <td>Animation|Children's|Comedy</td>\n",
       "    </tr>\n",
       "    <tr>\n",
       "      <th>1</th>\n",
       "      <td>2</td>\n",
       "      <td>Jumanji (1995)</td>\n",
       "      <td>Adventure|Children's|Fantasy</td>\n",
       "    </tr>\n",
       "    <tr>\n",
       "      <th>2</th>\n",
       "      <td>3</td>\n",
       "      <td>Grumpier Old Men (1995)</td>\n",
       "      <td>Comedy|Romance</td>\n",
       "    </tr>\n",
       "    <tr>\n",
       "      <th>3</th>\n",
       "      <td>4</td>\n",
       "      <td>Waiting to Exhale (1995)</td>\n",
       "      <td>Comedy|Drama</td>\n",
       "    </tr>\n",
       "    <tr>\n",
       "      <th>4</th>\n",
       "      <td>5</td>\n",
       "      <td>Father of the Bride Part II (1995)</td>\n",
       "      <td>Comedy</td>\n",
       "    </tr>\n",
       "  </tbody>\n",
       "</table>\n",
       "</div>"
      ],
      "text/plain": [
       "   movie_id                               title                        genres\n",
       "0         1                    Toy Story (1995)   Animation|Children's|Comedy\n",
       "1         2                      Jumanji (1995)  Adventure|Children's|Fantasy\n",
       "2         3             Grumpier Old Men (1995)                Comedy|Romance\n",
       "3         4            Waiting to Exhale (1995)                  Comedy|Drama\n",
       "4         5  Father of the Bride Part II (1995)                        Comedy"
      ]
     },
     "execution_count": 73,
     "metadata": {},
     "output_type": "execute_result"
    }
   ],
   "source": [
    "movies.head()"
   ]
  },
  {
   "cell_type": "markdown",
   "metadata": {},
   "source": [
    "## 자료의 병합"
   ]
  },
  {
   "cell_type": "code",
   "execution_count": 74,
   "metadata": {
    "scrolled": true
   },
   "outputs": [
    {
     "data": {
      "text/html": [
       "<div>\n",
       "<style scoped>\n",
       "    .dataframe tbody tr th:only-of-type {\n",
       "        vertical-align: middle;\n",
       "    }\n",
       "\n",
       "    .dataframe tbody tr th {\n",
       "        vertical-align: top;\n",
       "    }\n",
       "\n",
       "    .dataframe thead th {\n",
       "        text-align: right;\n",
       "    }\n",
       "</style>\n",
       "<table border=\"1\" class=\"dataframe\">\n",
       "  <thead>\n",
       "    <tr style=\"text-align: right;\">\n",
       "      <th></th>\n",
       "      <th>user_id</th>\n",
       "      <th>movie_id</th>\n",
       "      <th>rating</th>\n",
       "      <th>timestamp</th>\n",
       "      <th>gender</th>\n",
       "      <th>age</th>\n",
       "      <th>occupation</th>\n",
       "      <th>zip</th>\n",
       "    </tr>\n",
       "  </thead>\n",
       "  <tbody>\n",
       "    <tr>\n",
       "      <th>0</th>\n",
       "      <td>1</td>\n",
       "      <td>1193</td>\n",
       "      <td>5</td>\n",
       "      <td>978300760</td>\n",
       "      <td>F</td>\n",
       "      <td>1</td>\n",
       "      <td>10</td>\n",
       "      <td>48067</td>\n",
       "    </tr>\n",
       "    <tr>\n",
       "      <th>1</th>\n",
       "      <td>1</td>\n",
       "      <td>661</td>\n",
       "      <td>3</td>\n",
       "      <td>978302109</td>\n",
       "      <td>F</td>\n",
       "      <td>1</td>\n",
       "      <td>10</td>\n",
       "      <td>48067</td>\n",
       "    </tr>\n",
       "    <tr>\n",
       "      <th>2</th>\n",
       "      <td>1</td>\n",
       "      <td>914</td>\n",
       "      <td>3</td>\n",
       "      <td>978301968</td>\n",
       "      <td>F</td>\n",
       "      <td>1</td>\n",
       "      <td>10</td>\n",
       "      <td>48067</td>\n",
       "    </tr>\n",
       "    <tr>\n",
       "      <th>3</th>\n",
       "      <td>1</td>\n",
       "      <td>3408</td>\n",
       "      <td>4</td>\n",
       "      <td>978300275</td>\n",
       "      <td>F</td>\n",
       "      <td>1</td>\n",
       "      <td>10</td>\n",
       "      <td>48067</td>\n",
       "    </tr>\n",
       "    <tr>\n",
       "      <th>4</th>\n",
       "      <td>1</td>\n",
       "      <td>2355</td>\n",
       "      <td>5</td>\n",
       "      <td>978824291</td>\n",
       "      <td>F</td>\n",
       "      <td>1</td>\n",
       "      <td>10</td>\n",
       "      <td>48067</td>\n",
       "    </tr>\n",
       "  </tbody>\n",
       "</table>\n",
       "</div>"
      ],
      "text/plain": [
       "   user_id  movie_id  rating  timestamp gender  age  occupation    zip\n",
       "0        1      1193       5  978300760      F    1          10  48067\n",
       "1        1       661       3  978302109      F    1          10  48067\n",
       "2        1       914       3  978301968      F    1          10  48067\n",
       "3        1      3408       4  978300275      F    1          10  48067\n",
       "4        1      2355       5  978824291      F    1          10  48067"
      ]
     },
     "execution_count": 74,
     "metadata": {},
     "output_type": "execute_result"
    }
   ],
   "source": [
    "merge_data = pd.merge(ratings,users)\n",
    "merge_data.head()                      # user id 기준으로 병합된다."
   ]
  },
  {
   "cell_type": "code",
   "execution_count": 75,
   "metadata": {},
   "outputs": [
    {
     "data": {
      "text/plain": [
       "(1000209, 8)"
      ]
     },
     "execution_count": 75,
     "metadata": {},
     "output_type": "execute_result"
    }
   ],
   "source": [
    "merge_data.shape   # 자료수는 도일한데 컬럼이 증가한것."
   ]
  },
  {
   "cell_type": "code",
   "execution_count": 309,
   "metadata": {},
   "outputs": [
    {
     "data": {
      "text/html": [
       "<div>\n",
       "<style scoped>\n",
       "    .dataframe tbody tr th:only-of-type {\n",
       "        vertical-align: middle;\n",
       "    }\n",
       "\n",
       "    .dataframe tbody tr th {\n",
       "        vertical-align: top;\n",
       "    }\n",
       "\n",
       "    .dataframe thead th {\n",
       "        text-align: right;\n",
       "    }\n",
       "</style>\n",
       "<table border=\"1\" class=\"dataframe\">\n",
       "  <thead>\n",
       "    <tr style=\"text-align: right;\">\n",
       "      <th></th>\n",
       "      <th>user_id</th>\n",
       "      <th>movie_id</th>\n",
       "      <th>rating</th>\n",
       "      <th>timestamp</th>\n",
       "      <th>gender</th>\n",
       "      <th>age</th>\n",
       "      <th>occupation</th>\n",
       "      <th>zip</th>\n",
       "      <th>title</th>\n",
       "      <th>genres</th>\n",
       "    </tr>\n",
       "  </thead>\n",
       "  <tbody>\n",
       "    <tr>\n",
       "      <th>0</th>\n",
       "      <td>1</td>\n",
       "      <td>1193</td>\n",
       "      <td>5</td>\n",
       "      <td>978300760</td>\n",
       "      <td>F</td>\n",
       "      <td>1</td>\n",
       "      <td>10</td>\n",
       "      <td>48067</td>\n",
       "      <td>One Flew Over the Cuckoo's Nest (1975)</td>\n",
       "      <td>Drama</td>\n",
       "    </tr>\n",
       "    <tr>\n",
       "      <th>1</th>\n",
       "      <td>2</td>\n",
       "      <td>1193</td>\n",
       "      <td>5</td>\n",
       "      <td>978298413</td>\n",
       "      <td>M</td>\n",
       "      <td>56</td>\n",
       "      <td>16</td>\n",
       "      <td>70072</td>\n",
       "      <td>One Flew Over the Cuckoo's Nest (1975)</td>\n",
       "      <td>Drama</td>\n",
       "    </tr>\n",
       "    <tr>\n",
       "      <th>2</th>\n",
       "      <td>12</td>\n",
       "      <td>1193</td>\n",
       "      <td>4</td>\n",
       "      <td>978220179</td>\n",
       "      <td>M</td>\n",
       "      <td>25</td>\n",
       "      <td>12</td>\n",
       "      <td>32793</td>\n",
       "      <td>One Flew Over the Cuckoo's Nest (1975)</td>\n",
       "      <td>Drama</td>\n",
       "    </tr>\n",
       "    <tr>\n",
       "      <th>3</th>\n",
       "      <td>15</td>\n",
       "      <td>1193</td>\n",
       "      <td>4</td>\n",
       "      <td>978199279</td>\n",
       "      <td>M</td>\n",
       "      <td>25</td>\n",
       "      <td>7</td>\n",
       "      <td>22903</td>\n",
       "      <td>One Flew Over the Cuckoo's Nest (1975)</td>\n",
       "      <td>Drama</td>\n",
       "    </tr>\n",
       "    <tr>\n",
       "      <th>4</th>\n",
       "      <td>17</td>\n",
       "      <td>1193</td>\n",
       "      <td>5</td>\n",
       "      <td>978158471</td>\n",
       "      <td>M</td>\n",
       "      <td>50</td>\n",
       "      <td>1</td>\n",
       "      <td>95350</td>\n",
       "      <td>One Flew Over the Cuckoo's Nest (1975)</td>\n",
       "      <td>Drama</td>\n",
       "    </tr>\n",
       "  </tbody>\n",
       "</table>\n",
       "</div>"
      ],
      "text/plain": [
       "   user_id  movie_id  rating  timestamp gender  age  occupation    zip  \\\n",
       "0        1      1193       5  978300760      F    1          10  48067   \n",
       "1        2      1193       5  978298413      M   56          16  70072   \n",
       "2       12      1193       4  978220179      M   25          12  32793   \n",
       "3       15      1193       4  978199279      M   25           7  22903   \n",
       "4       17      1193       5  978158471      M   50           1  95350   \n",
       "\n",
       "                                    title genres  \n",
       "0  One Flew Over the Cuckoo's Nest (1975)  Drama  \n",
       "1  One Flew Over the Cuckoo's Nest (1975)  Drama  \n",
       "2  One Flew Over the Cuckoo's Nest (1975)  Drama  \n",
       "3  One Flew Over the Cuckoo's Nest (1975)  Drama  \n",
       "4  One Flew Over the Cuckoo's Nest (1975)  Drama  "
      ]
     },
     "execution_count": 309,
     "metadata": {},
     "output_type": "execute_result"
    }
   ],
   "source": [
    "data = pd.merge(merge_data,movies)\n",
    "data.head()"
   ]
  },
  {
   "cell_type": "markdown",
   "metadata": {},
   "source": [
    "## 영화별 평균 평점 계산"
   ]
  },
  {
   "cell_type": "code",
   "execution_count": 78,
   "metadata": {},
   "outputs": [
    {
     "ename": "NameError",
     "evalue": "name 'mean_rating' is not defined",
     "output_type": "error",
     "traceback": [
      "\u001b[1;31m---------------------------------------------------------------------------\u001b[0m",
      "\u001b[1;31mNameError\u001b[0m                                 Traceback (most recent call last)",
      "\u001b[1;32m<ipython-input-78-8b7c88aaeca4>\u001b[0m in \u001b[0;36m<module>\u001b[1;34m()\u001b[0m\n\u001b[0;32m      3\u001b[0m                                \u001b[0mcolumns\u001b[0m \u001b[1;33m=\u001b[0m \u001b[1;34m'gender'\u001b[0m\u001b[1;33m,\u001b[0m\u001b[1;33m\u001b[0m\u001b[0m\n\u001b[0;32m      4\u001b[0m                                aggfunc = 'mean')\n\u001b[1;32m----> 5\u001b[1;33m \u001b[0mmean_rating\u001b[0m\u001b[1;33m[\u001b[0m\u001b[1;33m:\u001b[0m\u001b[1;36m5\u001b[0m\u001b[1;33m]\u001b[0m\u001b[1;33m\u001b[0m\u001b[0m\n\u001b[0m",
      "\u001b[1;31mNameError\u001b[0m: name 'mean_rating' is not defined"
     ]
    }
   ],
   "source": [
    "mean_ratings = data.pivot_table(values = 'rating',\n",
    "                               index = 'title',\n",
    "                               columns = 'gender',\n",
    "                               aggfunc = 'mean')\n",
    "mean_rating[:5]"
   ]
  },
  {
   "cell_type": "code",
   "execution_count": 79,
   "metadata": {},
   "outputs": [
    {
     "data": {
      "text/html": [
       "<div>\n",
       "<style scoped>\n",
       "    .dataframe tbody tr th:only-of-type {\n",
       "        vertical-align: middle;\n",
       "    }\n",
       "\n",
       "    .dataframe tbody tr th {\n",
       "        vertical-align: top;\n",
       "    }\n",
       "\n",
       "    .dataframe thead tr th {\n",
       "        text-align: left;\n",
       "    }\n",
       "\n",
       "    .dataframe thead tr:last-of-type th {\n",
       "        text-align: right;\n",
       "    }\n",
       "</style>\n",
       "<table border=\"1\" class=\"dataframe\">\n",
       "  <thead>\n",
       "    <tr>\n",
       "      <th></th>\n",
       "      <th>len</th>\n",
       "      <th>sum</th>\n",
       "      <th>mean</th>\n",
       "    </tr>\n",
       "    <tr>\n",
       "      <th></th>\n",
       "      <th>rating</th>\n",
       "      <th>rating</th>\n",
       "      <th>rating</th>\n",
       "    </tr>\n",
       "    <tr>\n",
       "      <th>title</th>\n",
       "      <th></th>\n",
       "      <th></th>\n",
       "      <th></th>\n",
       "    </tr>\n",
       "  </thead>\n",
       "  <tbody>\n",
       "    <tr>\n",
       "      <th>$1,000,000 Duck (1971)</th>\n",
       "      <td>37</td>\n",
       "      <td>112</td>\n",
       "      <td>3.027027</td>\n",
       "    </tr>\n",
       "    <tr>\n",
       "      <th>'Night Mother (1986)</th>\n",
       "      <td>70</td>\n",
       "      <td>236</td>\n",
       "      <td>3.371429</td>\n",
       "    </tr>\n",
       "    <tr>\n",
       "      <th>'Til There Was You (1997)</th>\n",
       "      <td>52</td>\n",
       "      <td>140</td>\n",
       "      <td>2.692308</td>\n",
       "    </tr>\n",
       "    <tr>\n",
       "      <th>'burbs, The (1989)</th>\n",
       "      <td>303</td>\n",
       "      <td>882</td>\n",
       "      <td>2.910891</td>\n",
       "    </tr>\n",
       "    <tr>\n",
       "      <th>...And Justice for All (1979)</th>\n",
       "      <td>199</td>\n",
       "      <td>739</td>\n",
       "      <td>3.713568</td>\n",
       "    </tr>\n",
       "  </tbody>\n",
       "</table>\n",
       "</div>"
      ],
      "text/plain": [
       "                                 len    sum      mean\n",
       "                              rating rating    rating\n",
       "title                                                \n",
       "$1,000,000 Duck (1971)            37    112  3.027027\n",
       "'Night Mother (1986)              70    236  3.371429\n",
       "'Til There Was You (1997)         52    140  2.692308\n",
       "'burbs, The (1989)               303    882  2.910891\n",
       "...And Justice for All (1979)    199    739  3.713568"
      ]
     },
     "execution_count": 79,
     "metadata": {},
     "output_type": "execute_result"
    }
   ],
   "source": [
    "import numpy as np\n",
    "table = pd.pivot_table(data,\n",
    "                      values = 'rating',\n",
    "                      index = 'title',\n",
    "                      aggfunc =[len, np.sum, np.mean],\n",
    "                      fill_value = 0)       #결측치 0으로 채우라.\n",
    "table.head()"
   ]
  },
  {
   "cell_type": "code",
   "execution_count": 80,
   "metadata": {},
   "outputs": [],
   "source": [
    "data.to_csv('ml-1m/data.csv')"
   ]
  },
  {
   "cell_type": "code",
   "execution_count": null,
   "metadata": {},
   "outputs": [],
   "source": []
  },
  {
   "cell_type": "markdown",
   "metadata": {},
   "source": [
    "## 영화별 사용자가 평점을 매긴 횟수가 250건 이상인 영화에 대해서 분석 진행"
   ]
  },
  {
   "cell_type": "code",
   "execution_count": 81,
   "metadata": {},
   "outputs": [
    {
     "data": {
      "text/plain": [
       "American Beauty (1999)                                   3428\n",
       "Star Wars: Episode IV - A New Hope (1977)                2991\n",
       "Star Wars: Episode V - The Empire Strikes Back (1980)    2990\n",
       "Star Wars: Episode VI - Return of the Jedi (1983)        2883\n",
       "Jurassic Park (1993)                                     2672\n",
       "Name: title, dtype: int64"
      ]
     },
     "execution_count": 81,
     "metadata": {},
     "output_type": "execute_result"
    }
   ],
   "source": [
    "counts = data['title'].value_counts()\n",
    "counts.head()"
   ]
  },
  {
   "cell_type": "code",
   "execution_count": null,
   "metadata": {},
   "outputs": [],
   "source": []
  },
  {
   "cell_type": "code",
   "execution_count": 82,
   "metadata": {},
   "outputs": [
    {
     "data": {
      "text/plain": [
       "Index(['American Beauty (1999)', 'Star Wars: Episode IV - A New Hope (1977)',\n",
       "       'Star Wars: Episode V - The Empire Strikes Back (1980)',\n",
       "       'Star Wars: Episode VI - Return of the Jedi (1983)',\n",
       "       'Jurassic Park (1993)', 'Saving Private Ryan (1998)',\n",
       "       'Terminator 2: Judgment Day (1991)', 'Matrix, The (1999)',\n",
       "       'Back to the Future (1985)', 'Silence of the Lambs, The (1991)',\n",
       "       ...\n",
       "       'McCullochs, The (1975)', 'Trois (2000)', 'Smoking/No Smoking (1993)',\n",
       "       'Blood and Sand (Sangre y Arena) (1989)', 'Waiting Game, The (2000)',\n",
       "       'Foolish (1999)', 'Dream Man (1995)', 'Bloody Child, The (1996)',\n",
       "       'Make Them Die Slowly (Cannibal Ferox) (1980)', 'Outside Ozona (1998)'],\n",
       "      dtype='object', length=3706)"
      ]
     },
     "execution_count": 82,
     "metadata": {},
     "output_type": "execute_result"
    }
   ],
   "source": [
    "counts.index"
   ]
  },
  {
   "cell_type": "code",
   "execution_count": 97,
   "metadata": {},
   "outputs": [
    {
     "data": {
      "text/plain": [
       "Index(['American Beauty (1999)', 'Star Wars: Episode IV - A New Hope (1977)',\n",
       "       'Star Wars: Episode V - The Empire Strikes Back (1980)',\n",
       "       'Star Wars: Episode VI - Return of the Jedi (1983)',\n",
       "       'Jurassic Park (1993)'],\n",
       "      dtype='object')"
      ]
     },
     "execution_count": 97,
     "metadata": {},
     "output_type": "execute_result"
    }
   ],
   "source": [
    "sel_titles = counts.index[counts>250]\n",
    "sel_titles[:5]"
   ]
  },
  {
   "cell_type": "code",
   "execution_count": 307,
   "metadata": {
    "scrolled": true
   },
   "outputs": [
    {
     "data": {
      "text/html": [
       "<div>\n",
       "<style scoped>\n",
       "    .dataframe tbody tr th:only-of-type {\n",
       "        vertical-align: middle;\n",
       "    }\n",
       "\n",
       "    .dataframe tbody tr th {\n",
       "        vertical-align: top;\n",
       "    }\n",
       "\n",
       "    .dataframe thead th {\n",
       "        text-align: right;\n",
       "    }\n",
       "</style>\n",
       "<table border=\"1\" class=\"dataframe\">\n",
       "  <thead>\n",
       "    <tr style=\"text-align: right;\">\n",
       "      <th>gender</th>\n",
       "      <th>F</th>\n",
       "      <th>M</th>\n",
       "    </tr>\n",
       "    <tr>\n",
       "      <th>title</th>\n",
       "      <th></th>\n",
       "      <th></th>\n",
       "    </tr>\n",
       "  </thead>\n",
       "  <tbody>\n",
       "    <tr>\n",
       "      <th>$1,000,000 Duck (1971)</th>\n",
       "      <td>3.375000</td>\n",
       "      <td>2.761905</td>\n",
       "    </tr>\n",
       "    <tr>\n",
       "      <th>'Night Mother (1986)</th>\n",
       "      <td>3.388889</td>\n",
       "      <td>3.352941</td>\n",
       "    </tr>\n",
       "    <tr>\n",
       "      <th>'Til There Was You (1997)</th>\n",
       "      <td>2.675676</td>\n",
       "      <td>2.733333</td>\n",
       "    </tr>\n",
       "    <tr>\n",
       "      <th>'burbs, The (1989)</th>\n",
       "      <td>2.793478</td>\n",
       "      <td>2.962085</td>\n",
       "    </tr>\n",
       "    <tr>\n",
       "      <th>...And Justice for All (1979)</th>\n",
       "      <td>3.828571</td>\n",
       "      <td>3.689024</td>\n",
       "    </tr>\n",
       "    <tr>\n",
       "      <th>1-900 (1994)</th>\n",
       "      <td>2.000000</td>\n",
       "      <td>3.000000</td>\n",
       "    </tr>\n",
       "    <tr>\n",
       "      <th>10 Things I Hate About You (1999)</th>\n",
       "      <td>3.646552</td>\n",
       "      <td>3.311966</td>\n",
       "    </tr>\n",
       "    <tr>\n",
       "      <th>101 Dalmatians (1961)</th>\n",
       "      <td>3.791444</td>\n",
       "      <td>3.500000</td>\n",
       "    </tr>\n",
       "    <tr>\n",
       "      <th>101 Dalmatians (1996)</th>\n",
       "      <td>3.240000</td>\n",
       "      <td>2.911215</td>\n",
       "    </tr>\n",
       "    <tr>\n",
       "      <th>12 Angry Men (1957)</th>\n",
       "      <td>4.184397</td>\n",
       "      <td>4.328421</td>\n",
       "    </tr>\n",
       "    <tr>\n",
       "      <th>13th Warrior, The (1999)</th>\n",
       "      <td>3.112000</td>\n",
       "      <td>3.168000</td>\n",
       "    </tr>\n",
       "    <tr>\n",
       "      <th>187 (1997)</th>\n",
       "      <td>2.428571</td>\n",
       "      <td>2.791667</td>\n",
       "    </tr>\n",
       "    <tr>\n",
       "      <th>2 Days in the Valley (1996)</th>\n",
       "      <td>3.488889</td>\n",
       "      <td>3.244813</td>\n",
       "    </tr>\n",
       "    <tr>\n",
       "      <th>20 Dates (1998)</th>\n",
       "      <td>2.620690</td>\n",
       "      <td>2.918182</td>\n",
       "    </tr>\n",
       "    <tr>\n",
       "      <th>20,000 Leagues Under the Sea (1954)</th>\n",
       "      <td>3.670103</td>\n",
       "      <td>3.709205</td>\n",
       "    </tr>\n",
       "    <tr>\n",
       "      <th>200 Cigarettes (1999)</th>\n",
       "      <td>3.169014</td>\n",
       "      <td>2.700000</td>\n",
       "    </tr>\n",
       "    <tr>\n",
       "      <th>2001: A Space Odyssey (1968)</th>\n",
       "      <td>3.825581</td>\n",
       "      <td>4.129738</td>\n",
       "    </tr>\n",
       "    <tr>\n",
       "      <th>2010 (1984)</th>\n",
       "      <td>3.446809</td>\n",
       "      <td>3.413712</td>\n",
       "    </tr>\n",
       "    <tr>\n",
       "      <th>24 7: Twenty Four Seven (1997)</th>\n",
       "      <td>5.000000</td>\n",
       "      <td>3.750000</td>\n",
       "    </tr>\n",
       "    <tr>\n",
       "      <th>24-hour Woman (1998)</th>\n",
       "      <td>2.000000</td>\n",
       "      <td>1.600000</td>\n",
       "    </tr>\n",
       "    <tr>\n",
       "      <th>28 Days (2000)</th>\n",
       "      <td>3.209424</td>\n",
       "      <td>2.977707</td>\n",
       "    </tr>\n",
       "    <tr>\n",
       "      <th>3 Ninjas: High Noon On Mega Mountain (1998)</th>\n",
       "      <td>1.400000</td>\n",
       "      <td>1.351351</td>\n",
       "    </tr>\n",
       "    <tr>\n",
       "      <th>3 Strikes (2000)</th>\n",
       "      <td>0.000000</td>\n",
       "      <td>2.750000</td>\n",
       "    </tr>\n",
       "    <tr>\n",
       "      <th>301, 302 (1995)</th>\n",
       "      <td>3.000000</td>\n",
       "      <td>2.857143</td>\n",
       "    </tr>\n",
       "    <tr>\n",
       "      <th>39 Steps, The (1935)</th>\n",
       "      <td>3.965517</td>\n",
       "      <td>4.107692</td>\n",
       "    </tr>\n",
       "    <tr>\n",
       "      <th>400 Blows, The (Les Quatre cents coups) (1959)</th>\n",
       "      <td>4.489362</td>\n",
       "      <td>4.264286</td>\n",
       "    </tr>\n",
       "    <tr>\n",
       "      <th>42 Up (1998)</th>\n",
       "      <td>3.966667</td>\n",
       "      <td>4.362069</td>\n",
       "    </tr>\n",
       "    <tr>\n",
       "      <th>52 Pick-Up (1986)</th>\n",
       "      <td>3.304348</td>\n",
       "      <td>3.299145</td>\n",
       "    </tr>\n",
       "    <tr>\n",
       "      <th>54 (1998)</th>\n",
       "      <td>2.701754</td>\n",
       "      <td>2.782178</td>\n",
       "    </tr>\n",
       "    <tr>\n",
       "      <th>7th Voyage of Sinbad, The (1958)</th>\n",
       "      <td>3.409091</td>\n",
       "      <td>3.658879</td>\n",
       "    </tr>\n",
       "    <tr>\n",
       "      <th>...</th>\n",
       "      <td>...</td>\n",
       "      <td>...</td>\n",
       "    </tr>\n",
       "    <tr>\n",
       "      <th>Wrongfully Accused (1998)</th>\n",
       "      <td>2.666667</td>\n",
       "      <td>2.540541</td>\n",
       "    </tr>\n",
       "    <tr>\n",
       "      <th>Wyatt Earp (1994)</th>\n",
       "      <td>3.147059</td>\n",
       "      <td>3.283898</td>\n",
       "    </tr>\n",
       "    <tr>\n",
       "      <th>X-Files: Fight the Future, The (1998)</th>\n",
       "      <td>3.489474</td>\n",
       "      <td>3.493797</td>\n",
       "    </tr>\n",
       "    <tr>\n",
       "      <th>X-Men (2000)</th>\n",
       "      <td>3.682310</td>\n",
       "      <td>3.851702</td>\n",
       "    </tr>\n",
       "    <tr>\n",
       "      <th>X: The Unknown (1956)</th>\n",
       "      <td>2.250000</td>\n",
       "      <td>3.125000</td>\n",
       "    </tr>\n",
       "    <tr>\n",
       "      <th>Xiu Xiu: The Sent-Down Girl (Tian yu) (1998)</th>\n",
       "      <td>3.821429</td>\n",
       "      <td>3.536585</td>\n",
       "    </tr>\n",
       "    <tr>\n",
       "      <th>Yankee Zulu (1994)</th>\n",
       "      <td>3.000000</td>\n",
       "      <td>3.000000</td>\n",
       "    </tr>\n",
       "    <tr>\n",
       "      <th>Yards, The (1999)</th>\n",
       "      <td>2.687500</td>\n",
       "      <td>3.360656</td>\n",
       "    </tr>\n",
       "    <tr>\n",
       "      <th>Year My Voice Broke, The (1987)</th>\n",
       "      <td>4.000000</td>\n",
       "      <td>3.705882</td>\n",
       "    </tr>\n",
       "    <tr>\n",
       "      <th>Year of Living Dangerously (1982)</th>\n",
       "      <td>3.951220</td>\n",
       "      <td>3.869403</td>\n",
       "    </tr>\n",
       "    <tr>\n",
       "      <th>Year of the Horse (1997)</th>\n",
       "      <td>0.000000</td>\n",
       "      <td>3.250000</td>\n",
       "    </tr>\n",
       "    <tr>\n",
       "      <th>Yellow Submarine (1968)</th>\n",
       "      <td>3.714286</td>\n",
       "      <td>3.689286</td>\n",
       "    </tr>\n",
       "    <tr>\n",
       "      <th>Yojimbo (1961)</th>\n",
       "      <td>4.423077</td>\n",
       "      <td>4.402116</td>\n",
       "    </tr>\n",
       "    <tr>\n",
       "      <th>You Can't Take It With You (1938)</th>\n",
       "      <td>4.192308</td>\n",
       "      <td>3.921569</td>\n",
       "    </tr>\n",
       "    <tr>\n",
       "      <th>You So Crazy (1994)</th>\n",
       "      <td>3.666667</td>\n",
       "      <td>2.300000</td>\n",
       "    </tr>\n",
       "    <tr>\n",
       "      <th>You've Got Mail (1998)</th>\n",
       "      <td>3.542424</td>\n",
       "      <td>3.275591</td>\n",
       "    </tr>\n",
       "    <tr>\n",
       "      <th>Young Doctors in Love (1982)</th>\n",
       "      <td>1.923077</td>\n",
       "      <td>2.742424</td>\n",
       "    </tr>\n",
       "    <tr>\n",
       "      <th>Young Frankenstein (1974)</th>\n",
       "      <td>4.289963</td>\n",
       "      <td>4.239177</td>\n",
       "    </tr>\n",
       "    <tr>\n",
       "      <th>Young Guns (1988)</th>\n",
       "      <td>3.371795</td>\n",
       "      <td>3.425620</td>\n",
       "    </tr>\n",
       "    <tr>\n",
       "      <th>Young Guns II (1990)</th>\n",
       "      <td>2.934783</td>\n",
       "      <td>2.904025</td>\n",
       "    </tr>\n",
       "    <tr>\n",
       "      <th>Young Poisoner's Handbook, The (1995)</th>\n",
       "      <td>4.000000</td>\n",
       "      <td>3.532258</td>\n",
       "    </tr>\n",
       "    <tr>\n",
       "      <th>Young Sherlock Holmes (1985)</th>\n",
       "      <td>3.514706</td>\n",
       "      <td>3.363344</td>\n",
       "    </tr>\n",
       "    <tr>\n",
       "      <th>Young and Innocent (1937)</th>\n",
       "      <td>2.500000</td>\n",
       "      <td>3.500000</td>\n",
       "    </tr>\n",
       "    <tr>\n",
       "      <th>Your Friends and Neighbors (1998)</th>\n",
       "      <td>2.888889</td>\n",
       "      <td>3.536585</td>\n",
       "    </tr>\n",
       "    <tr>\n",
       "      <th>Zachariah (1971)</th>\n",
       "      <td>0.000000</td>\n",
       "      <td>3.500000</td>\n",
       "    </tr>\n",
       "    <tr>\n",
       "      <th>Zed &amp; Two Noughts, A (1985)</th>\n",
       "      <td>3.500000</td>\n",
       "      <td>3.380952</td>\n",
       "    </tr>\n",
       "    <tr>\n",
       "      <th>Zero Effect (1998)</th>\n",
       "      <td>3.864407</td>\n",
       "      <td>3.723140</td>\n",
       "    </tr>\n",
       "    <tr>\n",
       "      <th>Zero Kelvin (Kj�rlighetens kj�tere) (1995)</th>\n",
       "      <td>0.000000</td>\n",
       "      <td>3.500000</td>\n",
       "    </tr>\n",
       "    <tr>\n",
       "      <th>Zeus and Roxanne (1997)</th>\n",
       "      <td>2.777778</td>\n",
       "      <td>2.357143</td>\n",
       "    </tr>\n",
       "    <tr>\n",
       "      <th>eXistenZ (1999)</th>\n",
       "      <td>3.098592</td>\n",
       "      <td>3.289086</td>\n",
       "    </tr>\n",
       "  </tbody>\n",
       "</table>\n",
       "<p>3706 rows × 2 columns</p>\n",
       "</div>"
      ],
      "text/plain": [
       "gender                                                 F         M\n",
       "title                                                             \n",
       "$1,000,000 Duck (1971)                          3.375000  2.761905\n",
       "'Night Mother (1986)                            3.388889  3.352941\n",
       "'Til There Was You (1997)                       2.675676  2.733333\n",
       "'burbs, The (1989)                              2.793478  2.962085\n",
       "...And Justice for All (1979)                   3.828571  3.689024\n",
       "1-900 (1994)                                    2.000000  3.000000\n",
       "10 Things I Hate About You (1999)               3.646552  3.311966\n",
       "101 Dalmatians (1961)                           3.791444  3.500000\n",
       "101 Dalmatians (1996)                           3.240000  2.911215\n",
       "12 Angry Men (1957)                             4.184397  4.328421\n",
       "13th Warrior, The (1999)                        3.112000  3.168000\n",
       "187 (1997)                                      2.428571  2.791667\n",
       "2 Days in the Valley (1996)                     3.488889  3.244813\n",
       "20 Dates (1998)                                 2.620690  2.918182\n",
       "20,000 Leagues Under the Sea (1954)             3.670103  3.709205\n",
       "200 Cigarettes (1999)                           3.169014  2.700000\n",
       "2001: A Space Odyssey (1968)                    3.825581  4.129738\n",
       "2010 (1984)                                     3.446809  3.413712\n",
       "24 7: Twenty Four Seven (1997)                  5.000000  3.750000\n",
       "24-hour Woman (1998)                            2.000000  1.600000\n",
       "28 Days (2000)                                  3.209424  2.977707\n",
       "3 Ninjas: High Noon On Mega Mountain (1998)     1.400000  1.351351\n",
       "3 Strikes (2000)                                0.000000  2.750000\n",
       "301, 302 (1995)                                 3.000000  2.857143\n",
       "39 Steps, The (1935)                            3.965517  4.107692\n",
       "400 Blows, The (Les Quatre cents coups) (1959)  4.489362  4.264286\n",
       "42 Up (1998)                                    3.966667  4.362069\n",
       "52 Pick-Up (1986)                               3.304348  3.299145\n",
       "54 (1998)                                       2.701754  2.782178\n",
       "7th Voyage of Sinbad, The (1958)                3.409091  3.658879\n",
       "...                                                  ...       ...\n",
       "Wrongfully Accused (1998)                       2.666667  2.540541\n",
       "Wyatt Earp (1994)                               3.147059  3.283898\n",
       "X-Files: Fight the Future, The (1998)           3.489474  3.493797\n",
       "X-Men (2000)                                    3.682310  3.851702\n",
       "X: The Unknown (1956)                           2.250000  3.125000\n",
       "Xiu Xiu: The Sent-Down Girl (Tian yu) (1998)    3.821429  3.536585\n",
       "Yankee Zulu (1994)                              3.000000  3.000000\n",
       "Yards, The (1999)                               2.687500  3.360656\n",
       "Year My Voice Broke, The (1987)                 4.000000  3.705882\n",
       "Year of Living Dangerously (1982)               3.951220  3.869403\n",
       "Year of the Horse (1997)                        0.000000  3.250000\n",
       "Yellow Submarine (1968)                         3.714286  3.689286\n",
       "Yojimbo (1961)                                  4.423077  4.402116\n",
       "You Can't Take It With You (1938)               4.192308  3.921569\n",
       "You So Crazy (1994)                             3.666667  2.300000\n",
       "You've Got Mail (1998)                          3.542424  3.275591\n",
       "Young Doctors in Love (1982)                    1.923077  2.742424\n",
       "Young Frankenstein (1974)                       4.289963  4.239177\n",
       "Young Guns (1988)                               3.371795  3.425620\n",
       "Young Guns II (1990)                            2.934783  2.904025\n",
       "Young Poisoner's Handbook, The (1995)           4.000000  3.532258\n",
       "Young Sherlock Holmes (1985)                    3.514706  3.363344\n",
       "Young and Innocent (1937)                       2.500000  3.500000\n",
       "Your Friends and Neighbors (1998)               2.888889  3.536585\n",
       "Zachariah (1971)                                0.000000  3.500000\n",
       "Zed & Two Noughts, A (1985)                     3.500000  3.380952\n",
       "Zero Effect (1998)                              3.864407  3.723140\n",
       "Zero Kelvin (Kj�rlighetens kj�tere) (1995)      0.000000  3.500000\n",
       "Zeus and Roxanne (1997)                         2.777778  2.357143\n",
       "eXistenZ (1999)                                 3.098592  3.289086\n",
       "\n",
       "[3706 rows x 2 columns]"
      ]
     },
     "execution_count": 307,
     "metadata": {},
     "output_type": "execute_result"
    }
   ],
   "source": [
    "mean_ratings = pd.pivot_table(data,\n",
    "                             values = 'rating',\n",
    "                             index = 'title', columns = 'gender',\n",
    "                             aggfunc = np.mean, fill_value = 0)\n",
    "mean_ratings"
   ]
  },
  {
   "cell_type": "code",
   "execution_count": 308,
   "metadata": {},
   "outputs": [
    {
     "data": {
      "text/html": [
       "<div>\n",
       "<style scoped>\n",
       "    .dataframe tbody tr th:only-of-type {\n",
       "        vertical-align: middle;\n",
       "    }\n",
       "\n",
       "    .dataframe tbody tr th {\n",
       "        vertical-align: top;\n",
       "    }\n",
       "\n",
       "    .dataframe thead th {\n",
       "        text-align: right;\n",
       "    }\n",
       "</style>\n",
       "<table border=\"1\" class=\"dataframe\">\n",
       "  <thead>\n",
       "    <tr style=\"text-align: right;\">\n",
       "      <th>gender</th>\n",
       "      <th>F</th>\n",
       "      <th>M</th>\n",
       "    </tr>\n",
       "  </thead>\n",
       "  <tbody>\n",
       "    <tr>\n",
       "      <th>American Beauty (1999)</th>\n",
       "      <td>4.238901</td>\n",
       "      <td>4.347301</td>\n",
       "    </tr>\n",
       "    <tr>\n",
       "      <th>Star Wars: Episode IV - A New Hope (1977)</th>\n",
       "      <td>4.302937</td>\n",
       "      <td>4.495307</td>\n",
       "    </tr>\n",
       "    <tr>\n",
       "      <th>Star Wars: Episode V - The Empire Strikes Back (1980)</th>\n",
       "      <td>4.106481</td>\n",
       "      <td>4.344577</td>\n",
       "    </tr>\n",
       "    <tr>\n",
       "      <th>Star Wars: Episode VI - Return of the Jedi (1983)</th>\n",
       "      <td>3.865237</td>\n",
       "      <td>4.069058</td>\n",
       "    </tr>\n",
       "    <tr>\n",
       "      <th>Jurassic Park (1993)</th>\n",
       "      <td>3.579407</td>\n",
       "      <td>3.814197</td>\n",
       "    </tr>\n",
       "  </tbody>\n",
       "</table>\n",
       "</div>"
      ],
      "text/plain": [
       "gender                                                     F         M\n",
       "American Beauty (1999)                              4.238901  4.347301\n",
       "Star Wars: Episode IV - A New Hope (1977)           4.302937  4.495307\n",
       "Star Wars: Episode V - The Empire Strikes Back ...  4.106481  4.344577\n",
       "Star Wars: Episode VI - Return of the Jedi (1983)   3.865237  4.069058\n",
       "Jurassic Park (1993)                                3.579407  3.814197"
      ]
     },
     "execution_count": 308,
     "metadata": {},
     "output_type": "execute_result"
    }
   ],
   "source": [
    "mean_ratings = mean_ratings.loc[sel_titles]\n",
    "mean_ratings.head()"
   ]
  },
  {
   "cell_type": "code",
   "execution_count": 108,
   "metadata": {
    "scrolled": true
   },
   "outputs": [
    {
     "data": {
      "text/html": [
       "<div>\n",
       "<style scoped>\n",
       "    .dataframe tbody tr th:only-of-type {\n",
       "        vertical-align: middle;\n",
       "    }\n",
       "\n",
       "    .dataframe tbody tr th {\n",
       "        vertical-align: top;\n",
       "    }\n",
       "\n",
       "    .dataframe thead th {\n",
       "        text-align: right;\n",
       "    }\n",
       "</style>\n",
       "<table border=\"1\" class=\"dataframe\">\n",
       "  <thead>\n",
       "    <tr style=\"text-align: right;\">\n",
       "      <th>gender</th>\n",
       "      <th>F</th>\n",
       "      <th>M</th>\n",
       "    </tr>\n",
       "  </thead>\n",
       "  <tbody>\n",
       "    <tr>\n",
       "      <th>American Beauty (1999)</th>\n",
       "      <td>4.238901</td>\n",
       "      <td>4.347301</td>\n",
       "    </tr>\n",
       "    <tr>\n",
       "      <th>Star Wars: Episode IV - A New Hope (1977)</th>\n",
       "      <td>4.302937</td>\n",
       "      <td>4.495307</td>\n",
       "    </tr>\n",
       "    <tr>\n",
       "      <th>Star Wars: Episode V - The Empire Strikes Back (1980)</th>\n",
       "      <td>4.106481</td>\n",
       "      <td>4.344577</td>\n",
       "    </tr>\n",
       "    <tr>\n",
       "      <th>Star Wars: Episode VI - Return of the Jedi (1983)</th>\n",
       "      <td>3.865237</td>\n",
       "      <td>4.069058</td>\n",
       "    </tr>\n",
       "    <tr>\n",
       "      <th>Jurassic Park (1993)</th>\n",
       "      <td>3.579407</td>\n",
       "      <td>3.814197</td>\n",
       "    </tr>\n",
       "    <tr>\n",
       "      <th>Saving Private Ryan (1998)</th>\n",
       "      <td>4.114783</td>\n",
       "      <td>4.398941</td>\n",
       "    </tr>\n",
       "    <tr>\n",
       "      <th>Terminator 2: Judgment Day (1991)</th>\n",
       "      <td>3.785088</td>\n",
       "      <td>4.115367</td>\n",
       "    </tr>\n",
       "    <tr>\n",
       "      <th>Matrix, The (1999)</th>\n",
       "      <td>4.128405</td>\n",
       "      <td>4.362235</td>\n",
       "    </tr>\n",
       "    <tr>\n",
       "      <th>Back to the Future (1985)</th>\n",
       "      <td>3.932707</td>\n",
       "      <td>4.009259</td>\n",
       "    </tr>\n",
       "    <tr>\n",
       "      <th>Silence of the Lambs, The (1991)</th>\n",
       "      <td>4.271955</td>\n",
       "      <td>4.381944</td>\n",
       "    </tr>\n",
       "    <tr>\n",
       "      <th>Men in Black (1997)</th>\n",
       "      <td>3.817844</td>\n",
       "      <td>3.719000</td>\n",
       "    </tr>\n",
       "    <tr>\n",
       "      <th>Raiders of the Lost Ark (1981)</th>\n",
       "      <td>4.332168</td>\n",
       "      <td>4.520597</td>\n",
       "    </tr>\n",
       "    <tr>\n",
       "      <th>Fargo (1996)</th>\n",
       "      <td>4.217656</td>\n",
       "      <td>4.267780</td>\n",
       "    </tr>\n",
       "    <tr>\n",
       "      <th>Sixth Sense, The (1999)</th>\n",
       "      <td>4.477410</td>\n",
       "      <td>4.379944</td>\n",
       "    </tr>\n",
       "    <tr>\n",
       "      <th>Braveheart (1995)</th>\n",
       "      <td>4.016484</td>\n",
       "      <td>4.297839</td>\n",
       "    </tr>\n",
       "    <tr>\n",
       "      <th>Shakespeare in Love (1998)</th>\n",
       "      <td>4.181704</td>\n",
       "      <td>4.099936</td>\n",
       "    </tr>\n",
       "    <tr>\n",
       "      <th>Princess Bride, The (1987)</th>\n",
       "      <td>4.342767</td>\n",
       "      <td>4.288942</td>\n",
       "    </tr>\n",
       "    <tr>\n",
       "      <th>Schindler's List (1993)</th>\n",
       "      <td>4.562602</td>\n",
       "      <td>4.491415</td>\n",
       "    </tr>\n",
       "    <tr>\n",
       "      <th>L.A. Confidential (1997)</th>\n",
       "      <td>4.106007</td>\n",
       "      <td>4.256678</td>\n",
       "    </tr>\n",
       "    <tr>\n",
       "      <th>Groundhog Day (1993)</th>\n",
       "      <td>3.735562</td>\n",
       "      <td>4.041358</td>\n",
       "    </tr>\n",
       "    <tr>\n",
       "      <th>E.T. the Extra-Terrestrial (1982)</th>\n",
       "      <td>4.089850</td>\n",
       "      <td>3.920264</td>\n",
       "    </tr>\n",
       "    <tr>\n",
       "      <th>Star Wars: Episode I - The Phantom Menace (1999)</th>\n",
       "      <td>3.328326</td>\n",
       "      <td>3.431054</td>\n",
       "    </tr>\n",
       "    <tr>\n",
       "      <th>Being John Malkovich (1999)</th>\n",
       "      <td>4.159930</td>\n",
       "      <td>4.113636</td>\n",
       "    </tr>\n",
       "    <tr>\n",
       "      <th>Shawshank Redemption, The (1994)</th>\n",
       "      <td>4.539075</td>\n",
       "      <td>4.560625</td>\n",
       "    </tr>\n",
       "    <tr>\n",
       "      <th>Godfather, The (1972)</th>\n",
       "      <td>4.314700</td>\n",
       "      <td>4.583333</td>\n",
       "    </tr>\n",
       "    <tr>\n",
       "      <th>Forrest Gump (1994)</th>\n",
       "      <td>4.045031</td>\n",
       "      <td>4.105806</td>\n",
       "    </tr>\n",
       "    <tr>\n",
       "      <th>Ghostbusters (1984)</th>\n",
       "      <td>3.833962</td>\n",
       "      <td>3.928528</td>\n",
       "    </tr>\n",
       "    <tr>\n",
       "      <th>Pulp Fiction (1994)</th>\n",
       "      <td>4.071956</td>\n",
       "      <td>4.346839</td>\n",
       "    </tr>\n",
       "    <tr>\n",
       "      <th>Terminator, The (1984)</th>\n",
       "      <td>3.899729</td>\n",
       "      <td>4.205899</td>\n",
       "    </tr>\n",
       "    <tr>\n",
       "      <th>Toy Story (1995)</th>\n",
       "      <td>4.187817</td>\n",
       "      <td>4.130552</td>\n",
       "    </tr>\n",
       "    <tr>\n",
       "      <th>...</th>\n",
       "      <td>...</td>\n",
       "      <td>...</td>\n",
       "    </tr>\n",
       "    <tr>\n",
       "      <th>Guys and Dolls (1955)</th>\n",
       "      <td>4.051724</td>\n",
       "      <td>3.583333</td>\n",
       "    </tr>\n",
       "    <tr>\n",
       "      <th>Running Scared (1986)</th>\n",
       "      <td>3.384615</td>\n",
       "      <td>3.381818</td>\n",
       "    </tr>\n",
       "    <tr>\n",
       "      <th>Casper (1995)</th>\n",
       "      <td>3.291139</td>\n",
       "      <td>2.844444</td>\n",
       "    </tr>\n",
       "    <tr>\n",
       "      <th>54 (1998)</th>\n",
       "      <td>2.701754</td>\n",
       "      <td>2.782178</td>\n",
       "    </tr>\n",
       "    <tr>\n",
       "      <th>Cradle Will Rock, The (1999)</th>\n",
       "      <td>3.217391</td>\n",
       "      <td>3.437126</td>\n",
       "    </tr>\n",
       "    <tr>\n",
       "      <th>Mis�rables, Les (1998)</th>\n",
       "      <td>3.698925</td>\n",
       "      <td>3.795181</td>\n",
       "    </tr>\n",
       "    <tr>\n",
       "      <th>Cocoon: The Return (1988)</th>\n",
       "      <td>2.820000</td>\n",
       "      <td>2.459330</td>\n",
       "    </tr>\n",
       "    <tr>\n",
       "      <th>7th Voyage of Sinbad, The (1958)</th>\n",
       "      <td>3.409091</td>\n",
       "      <td>3.658879</td>\n",
       "    </tr>\n",
       "    <tr>\n",
       "      <th>Red Rock West (1992)</th>\n",
       "      <td>3.960000</td>\n",
       "      <td>3.831731</td>\n",
       "    </tr>\n",
       "    <tr>\n",
       "      <th>Parent Trap, The (1961)</th>\n",
       "      <td>3.805556</td>\n",
       "      <td>3.393333</td>\n",
       "    </tr>\n",
       "    <tr>\n",
       "      <th>Corrina, Corrina (1994)</th>\n",
       "      <td>3.523490</td>\n",
       "      <td>3.092593</td>\n",
       "    </tr>\n",
       "    <tr>\n",
       "      <th>Diva (1981)</th>\n",
       "      <td>4.164706</td>\n",
       "      <td>4.000000</td>\n",
       "    </tr>\n",
       "    <tr>\n",
       "      <th>Forget Paris (1995)</th>\n",
       "      <td>3.029703</td>\n",
       "      <td>2.935897</td>\n",
       "    </tr>\n",
       "    <tr>\n",
       "      <th>Outsiders, The (1983)</th>\n",
       "      <td>3.844156</td>\n",
       "      <td>3.620112</td>\n",
       "    </tr>\n",
       "    <tr>\n",
       "      <th>Muppet Treasure Island (1996)</th>\n",
       "      <td>3.294872</td>\n",
       "      <td>3.084270</td>\n",
       "    </tr>\n",
       "    <tr>\n",
       "      <th>Last Man Standing (1996)</th>\n",
       "      <td>2.555556</td>\n",
       "      <td>2.932773</td>\n",
       "    </tr>\n",
       "    <tr>\n",
       "      <th>Last Temptation of Christ, The (1988)</th>\n",
       "      <td>3.491525</td>\n",
       "      <td>3.543590</td>\n",
       "    </tr>\n",
       "    <tr>\n",
       "      <th>Disclosure (1994)</th>\n",
       "      <td>3.122807</td>\n",
       "      <td>3.187817</td>\n",
       "    </tr>\n",
       "    <tr>\n",
       "      <th>Farewell My Concubine (1993)</th>\n",
       "      <td>4.202020</td>\n",
       "      <td>4.006452</td>\n",
       "    </tr>\n",
       "    <tr>\n",
       "      <th>Falcon and the Snowman, The (1984)</th>\n",
       "      <td>3.404762</td>\n",
       "      <td>3.535545</td>\n",
       "    </tr>\n",
       "    <tr>\n",
       "      <th>39 Steps, The (1935)</th>\n",
       "      <td>3.965517</td>\n",
       "      <td>4.107692</td>\n",
       "    </tr>\n",
       "    <tr>\n",
       "      <th>Bottle Rocket (1996)</th>\n",
       "      <td>3.604651</td>\n",
       "      <td>3.923810</td>\n",
       "    </tr>\n",
       "    <tr>\n",
       "      <th>Take the Money and Run (1969)</th>\n",
       "      <td>4.045455</td>\n",
       "      <td>4.052885</td>\n",
       "    </tr>\n",
       "    <tr>\n",
       "      <th>Man Who Knew Too Little, The (1997)</th>\n",
       "      <td>3.071429</td>\n",
       "      <td>3.178571</td>\n",
       "    </tr>\n",
       "    <tr>\n",
       "      <th>Bicycle Thief, The (Ladri di biciclette) (1948)</th>\n",
       "      <td>4.407407</td>\n",
       "      <td>4.343434</td>\n",
       "    </tr>\n",
       "    <tr>\n",
       "      <th>Bachelor, The (1999)</th>\n",
       "      <td>2.634409</td>\n",
       "      <td>2.389937</td>\n",
       "    </tr>\n",
       "    <tr>\n",
       "      <th>Top Hat (1935)</th>\n",
       "      <td>4.245763</td>\n",
       "      <td>4.060150</td>\n",
       "    </tr>\n",
       "    <tr>\n",
       "      <th>Teenage Mutant Ninja Turtles II: The Secret of the Ooze (1991)</th>\n",
       "      <td>2.152174</td>\n",
       "      <td>2.121951</td>\n",
       "    </tr>\n",
       "    <tr>\n",
       "      <th>Wes Craven's New Nightmare (1994)</th>\n",
       "      <td>2.761905</td>\n",
       "      <td>2.832536</td>\n",
       "    </tr>\n",
       "    <tr>\n",
       "      <th>Presidio, The (1988)</th>\n",
       "      <td>3.547619</td>\n",
       "      <td>3.253589</td>\n",
       "    </tr>\n",
       "  </tbody>\n",
       "</table>\n",
       "<p>1214 rows × 2 columns</p>\n",
       "</div>"
      ],
      "text/plain": [
       "gender                                                     F         M\n",
       "American Beauty (1999)                              4.238901  4.347301\n",
       "Star Wars: Episode IV - A New Hope (1977)           4.302937  4.495307\n",
       "Star Wars: Episode V - The Empire Strikes Back ...  4.106481  4.344577\n",
       "Star Wars: Episode VI - Return of the Jedi (1983)   3.865237  4.069058\n",
       "Jurassic Park (1993)                                3.579407  3.814197\n",
       "Saving Private Ryan (1998)                          4.114783  4.398941\n",
       "Terminator 2: Judgment Day (1991)                   3.785088  4.115367\n",
       "Matrix, The (1999)                                  4.128405  4.362235\n",
       "Back to the Future (1985)                           3.932707  4.009259\n",
       "Silence of the Lambs, The (1991)                    4.271955  4.381944\n",
       "Men in Black (1997)                                 3.817844  3.719000\n",
       "Raiders of the Lost Ark (1981)                      4.332168  4.520597\n",
       "Fargo (1996)                                        4.217656  4.267780\n",
       "Sixth Sense, The (1999)                             4.477410  4.379944\n",
       "Braveheart (1995)                                   4.016484  4.297839\n",
       "Shakespeare in Love (1998)                          4.181704  4.099936\n",
       "Princess Bride, The (1987)                          4.342767  4.288942\n",
       "Schindler's List (1993)                             4.562602  4.491415\n",
       "L.A. Confidential (1997)                            4.106007  4.256678\n",
       "Groundhog Day (1993)                                3.735562  4.041358\n",
       "E.T. the Extra-Terrestrial (1982)                   4.089850  3.920264\n",
       "Star Wars: Episode I - The Phantom Menace (1999)    3.328326  3.431054\n",
       "Being John Malkovich (1999)                         4.159930  4.113636\n",
       "Shawshank Redemption, The (1994)                    4.539075  4.560625\n",
       "Godfather, The (1972)                               4.314700  4.583333\n",
       "Forrest Gump (1994)                                 4.045031  4.105806\n",
       "Ghostbusters (1984)                                 3.833962  3.928528\n",
       "Pulp Fiction (1994)                                 4.071956  4.346839\n",
       "Terminator, The (1984)                              3.899729  4.205899\n",
       "Toy Story (1995)                                    4.187817  4.130552\n",
       "...                                                      ...       ...\n",
       "Guys and Dolls (1955)                               4.051724  3.583333\n",
       "Running Scared (1986)                               3.384615  3.381818\n",
       "Casper (1995)                                       3.291139  2.844444\n",
       "54 (1998)                                           2.701754  2.782178\n",
       "Cradle Will Rock, The (1999)                        3.217391  3.437126\n",
       "Mis�rables, Les (1998)                              3.698925  3.795181\n",
       "Cocoon: The Return (1988)                           2.820000  2.459330\n",
       "7th Voyage of Sinbad, The (1958)                    3.409091  3.658879\n",
       "Red Rock West (1992)                                3.960000  3.831731\n",
       "Parent Trap, The (1961)                             3.805556  3.393333\n",
       "Corrina, Corrina (1994)                             3.523490  3.092593\n",
       "Diva (1981)                                         4.164706  4.000000\n",
       "Forget Paris (1995)                                 3.029703  2.935897\n",
       "Outsiders, The (1983)                               3.844156  3.620112\n",
       "Muppet Treasure Island (1996)                       3.294872  3.084270\n",
       "Last Man Standing (1996)                            2.555556  2.932773\n",
       "Last Temptation of Christ, The (1988)               3.491525  3.543590\n",
       "Disclosure (1994)                                   3.122807  3.187817\n",
       "Farewell My Concubine (1993)                        4.202020  4.006452\n",
       "Falcon and the Snowman, The (1984)                  3.404762  3.535545\n",
       "39 Steps, The (1935)                                3.965517  4.107692\n",
       "Bottle Rocket (1996)                                3.604651  3.923810\n",
       "Take the Money and Run (1969)                       4.045455  4.052885\n",
       "Man Who Knew Too Little, The (1997)                 3.071429  3.178571\n",
       "Bicycle Thief, The (Ladri di biciclette) (1948)     4.407407  4.343434\n",
       "Bachelor, The (1999)                                2.634409  2.389937\n",
       "Top Hat (1935)                                      4.245763  4.060150\n",
       "Teenage Mutant Ninja Turtles II: The Secret of ...  2.152174  2.121951\n",
       "Wes Craven's New Nightmare (1994)                   2.761905  2.832536\n",
       "Presidio, The (1988)                                3.547619  3.253589\n",
       "\n",
       "[1214 rows x 2 columns]"
      ]
     },
     "execution_count": 108,
     "metadata": {},
     "output_type": "execute_result"
    }
   ],
   "source": [
    "mean_ratings"
   ]
  },
  {
   "cell_type": "code",
   "execution_count": 109,
   "metadata": {},
   "outputs": [
    {
     "data": {
      "text/html": [
       "<div>\n",
       "<style scoped>\n",
       "    .dataframe tbody tr th:only-of-type {\n",
       "        vertical-align: middle;\n",
       "    }\n",
       "\n",
       "    .dataframe tbody tr th {\n",
       "        vertical-align: top;\n",
       "    }\n",
       "\n",
       "    .dataframe thead th {\n",
       "        text-align: right;\n",
       "    }\n",
       "</style>\n",
       "<table border=\"1\" class=\"dataframe\">\n",
       "  <thead>\n",
       "    <tr style=\"text-align: right;\">\n",
       "      <th>gender</th>\n",
       "      <th>F</th>\n",
       "      <th>M</th>\n",
       "    </tr>\n",
       "  </thead>\n",
       "  <tbody>\n",
       "    <tr>\n",
       "      <th>Close Shave, A (1995)</th>\n",
       "      <td>4.644444</td>\n",
       "      <td>4.473795</td>\n",
       "    </tr>\n",
       "    <tr>\n",
       "      <th>Wrong Trousers, The (1993)</th>\n",
       "      <td>4.588235</td>\n",
       "      <td>4.478261</td>\n",
       "    </tr>\n",
       "    <tr>\n",
       "      <th>Sunset Blvd. (a.k.a. Sunset Boulevard) (1950)</th>\n",
       "      <td>4.572650</td>\n",
       "      <td>4.464589</td>\n",
       "    </tr>\n",
       "    <tr>\n",
       "      <th>Wallace &amp; Gromit: The Best of Aardman Animation (1996)</th>\n",
       "      <td>4.563107</td>\n",
       "      <td>4.385075</td>\n",
       "    </tr>\n",
       "    <tr>\n",
       "      <th>Schindler's List (1993)</th>\n",
       "      <td>4.562602</td>\n",
       "      <td>4.491415</td>\n",
       "    </tr>\n",
       "  </tbody>\n",
       "</table>\n",
       "</div>"
      ],
      "text/plain": [
       "gender                                                     F         M\n",
       "Close Shave, A (1995)                               4.644444  4.473795\n",
       "Wrong Trousers, The (1993)                          4.588235  4.478261\n",
       "Sunset Blvd. (a.k.a. Sunset Boulevard) (1950)       4.572650  4.464589\n",
       "Wallace & Gromit: The Best of Aardman Animation...  4.563107  4.385075\n",
       "Schindler's List (1993)                             4.562602  4.491415"
      ]
     },
     "execution_count": 109,
     "metadata": {},
     "output_type": "execute_result"
    }
   ],
   "source": [
    "sorted_ratings_by_F = mean_ratings.sort_values(by = 'F', ascending = False)\n",
    "sorted_ratings_by_F.head()"
   ]
  },
  {
   "cell_type": "markdown",
   "metadata": {},
   "source": [
    "남녀 평가의 차이가 두드러지는 영화"
   ]
  },
  {
   "cell_type": "code",
   "execution_count": 110,
   "metadata": {},
   "outputs": [
    {
     "data": {
      "text/html": [
       "<div>\n",
       "<style scoped>\n",
       "    .dataframe tbody tr th:only-of-type {\n",
       "        vertical-align: middle;\n",
       "    }\n",
       "\n",
       "    .dataframe tbody tr th {\n",
       "        vertical-align: top;\n",
       "    }\n",
       "\n",
       "    .dataframe thead th {\n",
       "        text-align: right;\n",
       "    }\n",
       "</style>\n",
       "<table border=\"1\" class=\"dataframe\">\n",
       "  <thead>\n",
       "    <tr style=\"text-align: right;\">\n",
       "      <th>gender</th>\n",
       "      <th>F</th>\n",
       "      <th>M</th>\n",
       "      <th>diff</th>\n",
       "    </tr>\n",
       "  </thead>\n",
       "  <tbody>\n",
       "    <tr>\n",
       "      <th>Good, The Bad and The Ugly, The (1966)</th>\n",
       "      <td>3.494949</td>\n",
       "      <td>4.221300</td>\n",
       "      <td>0.726351</td>\n",
       "    </tr>\n",
       "    <tr>\n",
       "      <th>Kentucky Fried Movie, The (1977)</th>\n",
       "      <td>2.878788</td>\n",
       "      <td>3.555147</td>\n",
       "      <td>0.676359</td>\n",
       "    </tr>\n",
       "    <tr>\n",
       "      <th>Dumb &amp; Dumber (1994)</th>\n",
       "      <td>2.697987</td>\n",
       "      <td>3.336595</td>\n",
       "      <td>0.638608</td>\n",
       "    </tr>\n",
       "    <tr>\n",
       "      <th>Longest Day, The (1962)</th>\n",
       "      <td>3.411765</td>\n",
       "      <td>4.031447</td>\n",
       "      <td>0.619682</td>\n",
       "    </tr>\n",
       "    <tr>\n",
       "      <th>Cable Guy, The (1996)</th>\n",
       "      <td>2.250000</td>\n",
       "      <td>2.863787</td>\n",
       "      <td>0.613787</td>\n",
       "    </tr>\n",
       "    <tr>\n",
       "      <th>Evil Dead II (Dead By Dawn) (1987)</th>\n",
       "      <td>3.297297</td>\n",
       "      <td>3.909283</td>\n",
       "      <td>0.611985</td>\n",
       "    </tr>\n",
       "    <tr>\n",
       "      <th>Hidden, The (1987)</th>\n",
       "      <td>3.137931</td>\n",
       "      <td>3.745098</td>\n",
       "      <td>0.607167</td>\n",
       "    </tr>\n",
       "  </tbody>\n",
       "</table>\n",
       "</div>"
      ],
      "text/plain": [
       "gender                                         F         M      diff\n",
       "Good, The Bad and The Ugly, The (1966)  3.494949  4.221300  0.726351\n",
       "Kentucky Fried Movie, The (1977)        2.878788  3.555147  0.676359\n",
       "Dumb & Dumber (1994)                    2.697987  3.336595  0.638608\n",
       "Longest Day, The (1962)                 3.411765  4.031447  0.619682\n",
       "Cable Guy, The (1996)                   2.250000  2.863787  0.613787\n",
       "Evil Dead II (Dead By Dawn) (1987)      3.297297  3.909283  0.611985\n",
       "Hidden, The (1987)                      3.137931  3.745098  0.607167"
      ]
     },
     "execution_count": 110,
     "metadata": {},
     "output_type": "execute_result"
    }
   ],
   "source": [
    "mean_ratings['diff'] = mean_ratings['M'] - mean_ratings['F']\n",
    "sorted_by_diff = mean_ratings.sort_values(by = 'diff',\n",
    "                                         ascending = False)\n",
    "sorted_by_diff.head(7)"
   ]
  },
  {
   "cell_type": "code",
   "execution_count": null,
   "metadata": {},
   "outputs": [],
   "source": []
  },
  {
   "cell_type": "markdown",
   "metadata": {},
   "source": [
    "호불호가 확실히 갈리는 영화"
   ]
  },
  {
   "cell_type": "code",
   "execution_count": 115,
   "metadata": {},
   "outputs": [
    {
     "data": {
      "text/plain": [
       "Dumb & Dumber (1994)                     1.321333\n",
       "Blair Witch Project, The (1999)          1.316368\n",
       "Natural Born Killers (1994)              1.307198\n",
       "Tank Girl (1995)                         1.277695\n",
       "Rocky Horror Picture Show, The (1975)    1.260177\n",
       "Eyes Wide Shut (1999)                    1.259624\n",
       "Evita (1996)                             1.253631\n",
       "Billy Madison (1995)                     1.249970\n",
       "Fear and Loathing in Las Vegas (1998)    1.246408\n",
       "Bicentennial Man (1999)                  1.245533\n",
       "Name: rating, dtype: float64"
      ]
     },
     "execution_count": 115,
     "metadata": {},
     "output_type": "execute_result"
    }
   ],
   "source": [
    "rating_std_by_title = data.groupby('title')['rating'].std()\n",
    "\n",
    "# selected 영화만 선택\n",
    "rating_std_by_title = rating_std_by_title.loc[sel_titles]\n",
    "rating_std_by_title.sort_values(ascending=False).head(10)"
   ]
  },
  {
   "cell_type": "code",
   "execution_count": null,
   "metadata": {},
   "outputs": [],
   "source": []
  },
  {
   "cell_type": "markdown",
   "metadata": {},
   "source": [
    "1. 사용자마다 평가한 영화수의 수에 대한 기초통계량(min, mean, max, std)"
   ]
  },
  {
   "cell_type": "code",
   "execution_count": 313,
   "metadata": {},
   "outputs": [
    {
     "data": {
      "text/html": [
       "<div>\n",
       "<style scoped>\n",
       "    .dataframe tbody tr th:only-of-type {\n",
       "        vertical-align: middle;\n",
       "    }\n",
       "\n",
       "    .dataframe tbody tr th {\n",
       "        vertical-align: top;\n",
       "    }\n",
       "\n",
       "    .dataframe thead tr th {\n",
       "        text-align: left;\n",
       "    }\n",
       "\n",
       "    .dataframe thead tr:last-of-type th {\n",
       "        text-align: right;\n",
       "    }\n",
       "</style>\n",
       "<table border=\"1\" class=\"dataframe\">\n",
       "  <thead>\n",
       "    <tr>\n",
       "      <th></th>\n",
       "      <th>len</th>\n",
       "      <th>sum</th>\n",
       "      <th>mean</th>\n",
       "      <th>amax</th>\n",
       "      <th>amin</th>\n",
       "      <th>std</th>\n",
       "    </tr>\n",
       "    <tr>\n",
       "      <th></th>\n",
       "      <th>rating</th>\n",
       "      <th>rating</th>\n",
       "      <th>rating</th>\n",
       "      <th>rating</th>\n",
       "      <th>rating</th>\n",
       "      <th>rating</th>\n",
       "    </tr>\n",
       "    <tr>\n",
       "      <th>user_id</th>\n",
       "      <th></th>\n",
       "      <th></th>\n",
       "      <th></th>\n",
       "      <th></th>\n",
       "      <th></th>\n",
       "      <th></th>\n",
       "    </tr>\n",
       "  </thead>\n",
       "  <tbody>\n",
       "    <tr>\n",
       "      <th>1</th>\n",
       "      <td>53</td>\n",
       "      <td>222</td>\n",
       "      <td>4.188679</td>\n",
       "      <td>5</td>\n",
       "      <td>3</td>\n",
       "      <td>0.680967</td>\n",
       "    </tr>\n",
       "    <tr>\n",
       "      <th>2</th>\n",
       "      <td>129</td>\n",
       "      <td>479</td>\n",
       "      <td>3.713178</td>\n",
       "      <td>5</td>\n",
       "      <td>1</td>\n",
       "      <td>1.001513</td>\n",
       "    </tr>\n",
       "    <tr>\n",
       "      <th>3</th>\n",
       "      <td>51</td>\n",
       "      <td>199</td>\n",
       "      <td>3.901961</td>\n",
       "      <td>5</td>\n",
       "      <td>1</td>\n",
       "      <td>0.984985</td>\n",
       "    </tr>\n",
       "    <tr>\n",
       "      <th>4</th>\n",
       "      <td>21</td>\n",
       "      <td>88</td>\n",
       "      <td>4.190476</td>\n",
       "      <td>5</td>\n",
       "      <td>1</td>\n",
       "      <td>1.077917</td>\n",
       "    </tr>\n",
       "    <tr>\n",
       "      <th>5</th>\n",
       "      <td>198</td>\n",
       "      <td>623</td>\n",
       "      <td>3.146465</td>\n",
       "      <td>5</td>\n",
       "      <td>1</td>\n",
       "      <td>1.132699</td>\n",
       "    </tr>\n",
       "  </tbody>\n",
       "</table>\n",
       "</div>"
      ],
      "text/plain": [
       "           len    sum      mean   amax   amin       std\n",
       "        rating rating    rating rating rating    rating\n",
       "user_id                                                \n",
       "1           53    222  4.188679      5      3  0.680967\n",
       "2          129    479  3.713178      5      1  1.001513\n",
       "3           51    199  3.901961      5      1  0.984985\n",
       "4           21     88  4.190476      5      1  1.077917\n",
       "5          198    623  3.146465      5      1  1.132699"
      ]
     },
     "execution_count": 313,
     "metadata": {},
     "output_type": "execute_result"
    }
   ],
   "source": [
    "import numpy as np\n",
    "table = pd.pivot_table(data,\n",
    "                      values = 'rating',\n",
    "                      index = 'user_id',\n",
    "                      aggfunc =[len, np.sum, np.mean, np.max, np.min,np.std],\n",
    "                      fill_value = 0)       #결측치 0으로 채우라.\n",
    "table.head()"
   ]
  },
  {
   "cell_type": "markdown",
   "metadata": {},
   "source": [
    "# 여기 밑으로 못함 !!!!!!!!!!!!!!!!!!!!"
   ]
  },
  {
   "cell_type": "markdown",
   "metadata": {},
   "source": [
    "2. 사용자마다 평가한 영화수가 500이상인 사용자들에 대해 아래를 진행\n",
    " - 남사사용자들의 평균 평점과 여자사용자들의 평균 평점 비교"
   ]
  },
  {
   "cell_type": "code",
   "execution_count": 320,
   "metadata": {
    "scrolled": true
   },
   "outputs": [
    {
     "data": {
      "text/plain": [
       "American Beauty (1999)                                   3428\n",
       "Star Wars: Episode IV - A New Hope (1977)                2991\n",
       "Star Wars: Episode V - The Empire Strikes Back (1980)    2990\n",
       "Star Wars: Episode VI - Return of the Jedi (1983)        2883\n",
       "Jurassic Park (1993)                                     2672\n",
       "Name: title, dtype: int64"
      ]
     },
     "execution_count": 320,
     "metadata": {},
     "output_type": "execute_result"
    }
   ],
   "source": [
    "counts = data['title'].value_counts()\n",
    "counts.head()\n",
    "sel_titles = counts.index[counts>500]"
   ]
  },
  {
   "cell_type": "code",
   "execution_count": 321,
   "metadata": {},
   "outputs": [
    {
     "data": {
      "text/plain": [
       "Index(['American Beauty (1999)', 'Star Wars: Episode IV - A New Hope (1977)',\n",
       "       'Star Wars: Episode V - The Empire Strikes Back (1980)',\n",
       "       'Star Wars: Episode VI - Return of the Jedi (1983)',\n",
       "       'Jurassic Park (1993)', 'Saving Private Ryan (1998)',\n",
       "       'Terminator 2: Judgment Day (1991)', 'Matrix, The (1999)',\n",
       "       'Back to the Future (1985)', 'Silence of the Lambs, The (1991)',\n",
       "       ...\n",
       "       'Ice Storm, The (1997)', 'Ordinary People (1980)',\n",
       "       'Peggy Sue Got Married (1986)', 'Halloween (1978)', '28 Days (2000)',\n",
       "       'Alien Nation (1988)', 'Body Heat (1981)',\n",
       "       'Guns of Navarone, The (1961)', 'Emma (1996)',\n",
       "       'Postino, Il (The Postman) (1994)'],\n",
       "      dtype='object', length=617)"
      ]
     },
     "execution_count": 321,
     "metadata": {},
     "output_type": "execute_result"
    }
   ],
   "source": [
    "sel_titles"
   ]
  },
  {
   "cell_type": "code",
   "execution_count": 322,
   "metadata": {
    "scrolled": true
   },
   "outputs": [
    {
     "data": {
      "text/html": [
       "<div>\n",
       "<style scoped>\n",
       "    .dataframe tbody tr th:only-of-type {\n",
       "        vertical-align: middle;\n",
       "    }\n",
       "\n",
       "    .dataframe tbody tr th {\n",
       "        vertical-align: top;\n",
       "    }\n",
       "\n",
       "    .dataframe thead th {\n",
       "        text-align: right;\n",
       "    }\n",
       "</style>\n",
       "<table border=\"1\" class=\"dataframe\">\n",
       "  <thead>\n",
       "    <tr style=\"text-align: right;\">\n",
       "      <th>gender</th>\n",
       "      <th>F</th>\n",
       "      <th>M</th>\n",
       "      <th>diff</th>\n",
       "    </tr>\n",
       "  </thead>\n",
       "  <tbody>\n",
       "    <tr>\n",
       "      <th>Good, The Bad and The Ugly, The (1966)</th>\n",
       "      <td>3.494949</td>\n",
       "      <td>4.221300</td>\n",
       "      <td>0.726351</td>\n",
       "    </tr>\n",
       "    <tr>\n",
       "      <th>Dumb &amp; Dumber (1994)</th>\n",
       "      <td>2.697987</td>\n",
       "      <td>3.336595</td>\n",
       "      <td>0.638608</td>\n",
       "    </tr>\n",
       "    <tr>\n",
       "      <th>Evil Dead II (Dead By Dawn) (1987)</th>\n",
       "      <td>3.297297</td>\n",
       "      <td>3.909283</td>\n",
       "      <td>0.611985</td>\n",
       "    </tr>\n",
       "    <tr>\n",
       "      <th>Caddyshack (1980)</th>\n",
       "      <td>3.396135</td>\n",
       "      <td>3.969737</td>\n",
       "      <td>0.573602</td>\n",
       "    </tr>\n",
       "    <tr>\n",
       "      <th>Animal House (1978)</th>\n",
       "      <td>3.628906</td>\n",
       "      <td>4.167192</td>\n",
       "      <td>0.538286</td>\n",
       "    </tr>\n",
       "    <tr>\n",
       "      <th>Exorcist, The (1973)</th>\n",
       "      <td>3.537634</td>\n",
       "      <td>4.067239</td>\n",
       "      <td>0.529605</td>\n",
       "    </tr>\n",
       "    <tr>\n",
       "      <th>Big Trouble in Little China (1986)</th>\n",
       "      <td>2.987952</td>\n",
       "      <td>3.485030</td>\n",
       "      <td>0.497078</td>\n",
       "    </tr>\n",
       "    <tr>\n",
       "      <th>From Dusk Till Dawn (1996)</th>\n",
       "      <td>2.735714</td>\n",
       "      <td>3.232558</td>\n",
       "      <td>0.496844</td>\n",
       "    </tr>\n",
       "    <tr>\n",
       "      <th>Me, Myself and Irene (2000)</th>\n",
       "      <td>2.629310</td>\n",
       "      <td>3.096847</td>\n",
       "      <td>0.467537</td>\n",
       "    </tr>\n",
       "    <tr>\n",
       "      <th>Kingpin (1996)</th>\n",
       "      <td>3.092308</td>\n",
       "      <td>3.557480</td>\n",
       "      <td>0.465173</td>\n",
       "    </tr>\n",
       "    <tr>\n",
       "      <th>Reservoir Dogs (1992)</th>\n",
       "      <td>3.769231</td>\n",
       "      <td>4.213873</td>\n",
       "      <td>0.444642</td>\n",
       "    </tr>\n",
       "    <tr>\n",
       "      <th>Raging Bull (1980)</th>\n",
       "      <td>3.831933</td>\n",
       "      <td>4.263441</td>\n",
       "      <td>0.431508</td>\n",
       "    </tr>\n",
       "    <tr>\n",
       "      <th>South Park: Bigger, Longer and Uncut (1999)</th>\n",
       "      <td>3.422481</td>\n",
       "      <td>3.846686</td>\n",
       "      <td>0.424206</td>\n",
       "    </tr>\n",
       "    <tr>\n",
       "      <th>Eyes Wide Shut (1999)</th>\n",
       "      <td>2.891213</td>\n",
       "      <td>3.305949</td>\n",
       "      <td>0.414736</td>\n",
       "    </tr>\n",
       "    <tr>\n",
       "      <th>Airplane! (1980)</th>\n",
       "      <td>3.656566</td>\n",
       "      <td>4.064419</td>\n",
       "      <td>0.407854</td>\n",
       "    </tr>\n",
       "    <tr>\n",
       "      <th>Predator (1987)</th>\n",
       "      <td>3.299401</td>\n",
       "      <td>3.706195</td>\n",
       "      <td>0.406793</td>\n",
       "    </tr>\n",
       "    <tr>\n",
       "      <th>Unforgiven (1992)</th>\n",
       "      <td>3.748428</td>\n",
       "      <td>4.155131</td>\n",
       "      <td>0.406704</td>\n",
       "    </tr>\n",
       "    <tr>\n",
       "      <th>Patton (1970)</th>\n",
       "      <td>3.925532</td>\n",
       "      <td>4.324864</td>\n",
       "      <td>0.399332</td>\n",
       "    </tr>\n",
       "    <tr>\n",
       "      <th>Godfather: Part II, The (1974)</th>\n",
       "      <td>4.040936</td>\n",
       "      <td>4.437778</td>\n",
       "      <td>0.396842</td>\n",
       "    </tr>\n",
       "    <tr>\n",
       "      <th>Clockwork Orange, A (1971)</th>\n",
       "      <td>3.757009</td>\n",
       "      <td>4.145813</td>\n",
       "      <td>0.388803</td>\n",
       "    </tr>\n",
       "    <tr>\n",
       "      <th>Glengarry Glen Ross (1992)</th>\n",
       "      <td>3.584000</td>\n",
       "      <td>3.968610</td>\n",
       "      <td>0.384610</td>\n",
       "    </tr>\n",
       "    <tr>\n",
       "      <th>Aliens (1986)</th>\n",
       "      <td>3.802083</td>\n",
       "      <td>4.186684</td>\n",
       "      <td>0.384601</td>\n",
       "    </tr>\n",
       "    <tr>\n",
       "      <th>Fletch (1985)</th>\n",
       "      <td>3.284483</td>\n",
       "      <td>3.668737</td>\n",
       "      <td>0.384254</td>\n",
       "    </tr>\n",
       "    <tr>\n",
       "      <th>Fistful of Dollars, A (1964)</th>\n",
       "      <td>3.644444</td>\n",
       "      <td>4.027254</td>\n",
       "      <td>0.382809</td>\n",
       "    </tr>\n",
       "    <tr>\n",
       "      <th>Starship Troopers (1997)</th>\n",
       "      <td>2.802721</td>\n",
       "      <td>3.181102</td>\n",
       "      <td>0.378381</td>\n",
       "    </tr>\n",
       "    <tr>\n",
       "      <th>Ronin (1998)</th>\n",
       "      <td>3.219048</td>\n",
       "      <td>3.573466</td>\n",
       "      <td>0.354419</td>\n",
       "    </tr>\n",
       "    <tr>\n",
       "      <th>Christmas Vacation (1989)</th>\n",
       "      <td>3.316239</td>\n",
       "      <td>3.668342</td>\n",
       "      <td>0.352102</td>\n",
       "    </tr>\n",
       "    <tr>\n",
       "      <th>Naked Gun: From the Files of Police Squad!, The (1988)</th>\n",
       "      <td>3.395161</td>\n",
       "      <td>3.742958</td>\n",
       "      <td>0.347796</td>\n",
       "    </tr>\n",
       "    <tr>\n",
       "      <th>Payback (1999)</th>\n",
       "      <td>3.207547</td>\n",
       "      <td>3.553223</td>\n",
       "      <td>0.345676</td>\n",
       "    </tr>\n",
       "    <tr>\n",
       "      <th>Conan the Barbarian (1982)</th>\n",
       "      <td>3.125000</td>\n",
       "      <td>3.469512</td>\n",
       "      <td>0.344512</td>\n",
       "    </tr>\n",
       "    <tr>\n",
       "      <th>...</th>\n",
       "      <td>...</td>\n",
       "      <td>...</td>\n",
       "      <td>...</td>\n",
       "    </tr>\n",
       "    <tr>\n",
       "      <th>10 Things I Hate About You (1999)</th>\n",
       "      <td>3.646552</td>\n",
       "      <td>3.311966</td>\n",
       "      <td>-0.334586</td>\n",
       "    </tr>\n",
       "    <tr>\n",
       "      <th>Thelma &amp; Louise (1991)</th>\n",
       "      <td>3.916268</td>\n",
       "      <td>3.581582</td>\n",
       "      <td>-0.334686</td>\n",
       "    </tr>\n",
       "    <tr>\n",
       "      <th>Pretty Woman (1990)</th>\n",
       "      <td>3.846914</td>\n",
       "      <td>3.511700</td>\n",
       "      <td>-0.335213</td>\n",
       "    </tr>\n",
       "    <tr>\n",
       "      <th>Piano, The (1993)</th>\n",
       "      <td>3.878661</td>\n",
       "      <td>3.542005</td>\n",
       "      <td>-0.336656</td>\n",
       "    </tr>\n",
       "    <tr>\n",
       "      <th>Batman &amp; Robin (1997)</th>\n",
       "      <td>2.529915</td>\n",
       "      <td>2.192229</td>\n",
       "      <td>-0.337685</td>\n",
       "    </tr>\n",
       "    <tr>\n",
       "      <th>Little Mermaid, The (1989)</th>\n",
       "      <td>3.975936</td>\n",
       "      <td>3.632375</td>\n",
       "      <td>-0.343561</td>\n",
       "    </tr>\n",
       "    <tr>\n",
       "      <th>My Fair Lady (1964)</th>\n",
       "      <td>4.336667</td>\n",
       "      <td>3.991071</td>\n",
       "      <td>-0.345595</td>\n",
       "    </tr>\n",
       "    <tr>\n",
       "      <th>Room with a View, A (1986)</th>\n",
       "      <td>4.187251</td>\n",
       "      <td>3.841424</td>\n",
       "      <td>-0.345827</td>\n",
       "    </tr>\n",
       "    <tr>\n",
       "      <th>Cinderella (1950)</th>\n",
       "      <td>3.968750</td>\n",
       "      <td>3.620397</td>\n",
       "      <td>-0.348353</td>\n",
       "    </tr>\n",
       "    <tr>\n",
       "      <th>Moonstruck (1987)</th>\n",
       "      <td>4.011429</td>\n",
       "      <td>3.662975</td>\n",
       "      <td>-0.348454</td>\n",
       "    </tr>\n",
       "    <tr>\n",
       "      <th>Full Monty, The (1997)</th>\n",
       "      <td>4.113456</td>\n",
       "      <td>3.760976</td>\n",
       "      <td>-0.352481</td>\n",
       "    </tr>\n",
       "    <tr>\n",
       "      <th>Double Jeopardy (1999)</th>\n",
       "      <td>3.451754</td>\n",
       "      <td>3.098566</td>\n",
       "      <td>-0.353188</td>\n",
       "    </tr>\n",
       "    <tr>\n",
       "      <th>Flight of the Navigator (1986)</th>\n",
       "      <td>3.757895</td>\n",
       "      <td>3.403628</td>\n",
       "      <td>-0.354267</td>\n",
       "    </tr>\n",
       "    <tr>\n",
       "      <th>Sleeping Beauty (1959)</th>\n",
       "      <td>3.937500</td>\n",
       "      <td>3.573668</td>\n",
       "      <td>-0.363832</td>\n",
       "    </tr>\n",
       "    <tr>\n",
       "      <th>Much Ado About Nothing (1993)</th>\n",
       "      <td>4.224335</td>\n",
       "      <td>3.853960</td>\n",
       "      <td>-0.370374</td>\n",
       "    </tr>\n",
       "    <tr>\n",
       "      <th>Fried Green Tomatoes (1991)</th>\n",
       "      <td>4.038793</td>\n",
       "      <td>3.656510</td>\n",
       "      <td>-0.382283</td>\n",
       "    </tr>\n",
       "    <tr>\n",
       "      <th>Out of Africa (1985)</th>\n",
       "      <td>3.894068</td>\n",
       "      <td>3.507692</td>\n",
       "      <td>-0.386375</td>\n",
       "    </tr>\n",
       "    <tr>\n",
       "      <th>Labyrinth (1986)</th>\n",
       "      <td>3.925170</td>\n",
       "      <td>3.533170</td>\n",
       "      <td>-0.392001</td>\n",
       "    </tr>\n",
       "    <tr>\n",
       "      <th>Strictly Ballroom (1992)</th>\n",
       "      <td>4.174342</td>\n",
       "      <td>3.768817</td>\n",
       "      <td>-0.405525</td>\n",
       "    </tr>\n",
       "    <tr>\n",
       "      <th>Emma (1996)</th>\n",
       "      <td>4.061151</td>\n",
       "      <td>3.654709</td>\n",
       "      <td>-0.406443</td>\n",
       "    </tr>\n",
       "    <tr>\n",
       "      <th>Pretty in Pink (1986)</th>\n",
       "      <td>3.619772</td>\n",
       "      <td>3.211628</td>\n",
       "      <td>-0.408144</td>\n",
       "    </tr>\n",
       "    <tr>\n",
       "      <th>Sense and Sensibility (1995)</th>\n",
       "      <td>4.233333</td>\n",
       "      <td>3.819277</td>\n",
       "      <td>-0.414056</td>\n",
       "    </tr>\n",
       "    <tr>\n",
       "      <th>Gone with the Wind (1939)</th>\n",
       "      <td>4.269841</td>\n",
       "      <td>3.829371</td>\n",
       "      <td>-0.440471</td>\n",
       "    </tr>\n",
       "    <tr>\n",
       "      <th>Jewel of the Nile, The (1985)</th>\n",
       "      <td>3.494253</td>\n",
       "      <td>3.048096</td>\n",
       "      <td>-0.446157</td>\n",
       "    </tr>\n",
       "    <tr>\n",
       "      <th>Never Been Kissed (1999)</th>\n",
       "      <td>3.452174</td>\n",
       "      <td>3.002538</td>\n",
       "      <td>-0.449636</td>\n",
       "    </tr>\n",
       "    <tr>\n",
       "      <th>Sound of Music, The (1965)</th>\n",
       "      <td>4.233677</td>\n",
       "      <td>3.783418</td>\n",
       "      <td>-0.450259</td>\n",
       "    </tr>\n",
       "    <tr>\n",
       "      <th>Mary Poppins (1964)</th>\n",
       "      <td>4.197740</td>\n",
       "      <td>3.730594</td>\n",
       "      <td>-0.467147</td>\n",
       "    </tr>\n",
       "    <tr>\n",
       "      <th>Rocky Horror Picture Show, The (1975)</th>\n",
       "      <td>3.673016</td>\n",
       "      <td>3.160131</td>\n",
       "      <td>-0.512885</td>\n",
       "    </tr>\n",
       "    <tr>\n",
       "      <th>Grease (1978)</th>\n",
       "      <td>3.975265</td>\n",
       "      <td>3.367041</td>\n",
       "      <td>-0.608224</td>\n",
       "    </tr>\n",
       "    <tr>\n",
       "      <th>Dirty Dancing (1987)</th>\n",
       "      <td>3.790378</td>\n",
       "      <td>2.959596</td>\n",
       "      <td>-0.830782</td>\n",
       "    </tr>\n",
       "  </tbody>\n",
       "</table>\n",
       "<p>617 rows × 3 columns</p>\n",
       "</div>"
      ],
      "text/plain": [
       "gender                                                     F         M  \\\n",
       "Good, The Bad and The Ugly, The (1966)              3.494949  4.221300   \n",
       "Dumb & Dumber (1994)                                2.697987  3.336595   \n",
       "Evil Dead II (Dead By Dawn) (1987)                  3.297297  3.909283   \n",
       "Caddyshack (1980)                                   3.396135  3.969737   \n",
       "Animal House (1978)                                 3.628906  4.167192   \n",
       "Exorcist, The (1973)                                3.537634  4.067239   \n",
       "Big Trouble in Little China (1986)                  2.987952  3.485030   \n",
       "From Dusk Till Dawn (1996)                          2.735714  3.232558   \n",
       "Me, Myself and Irene (2000)                         2.629310  3.096847   \n",
       "Kingpin (1996)                                      3.092308  3.557480   \n",
       "Reservoir Dogs (1992)                               3.769231  4.213873   \n",
       "Raging Bull (1980)                                  3.831933  4.263441   \n",
       "South Park: Bigger, Longer and Uncut (1999)         3.422481  3.846686   \n",
       "Eyes Wide Shut (1999)                               2.891213  3.305949   \n",
       "Airplane! (1980)                                    3.656566  4.064419   \n",
       "Predator (1987)                                     3.299401  3.706195   \n",
       "Unforgiven (1992)                                   3.748428  4.155131   \n",
       "Patton (1970)                                       3.925532  4.324864   \n",
       "Godfather: Part II, The (1974)                      4.040936  4.437778   \n",
       "Clockwork Orange, A (1971)                          3.757009  4.145813   \n",
       "Glengarry Glen Ross (1992)                          3.584000  3.968610   \n",
       "Aliens (1986)                                       3.802083  4.186684   \n",
       "Fletch (1985)                                       3.284483  3.668737   \n",
       "Fistful of Dollars, A (1964)                        3.644444  4.027254   \n",
       "Starship Troopers (1997)                            2.802721  3.181102   \n",
       "Ronin (1998)                                        3.219048  3.573466   \n",
       "Christmas Vacation (1989)                           3.316239  3.668342   \n",
       "Naked Gun: From the Files of Police Squad!, The...  3.395161  3.742958   \n",
       "Payback (1999)                                      3.207547  3.553223   \n",
       "Conan the Barbarian (1982)                          3.125000  3.469512   \n",
       "...                                                      ...       ...   \n",
       "10 Things I Hate About You (1999)                   3.646552  3.311966   \n",
       "Thelma & Louise (1991)                              3.916268  3.581582   \n",
       "Pretty Woman (1990)                                 3.846914  3.511700   \n",
       "Piano, The (1993)                                   3.878661  3.542005   \n",
       "Batman & Robin (1997)                               2.529915  2.192229   \n",
       "Little Mermaid, The (1989)                          3.975936  3.632375   \n",
       "My Fair Lady (1964)                                 4.336667  3.991071   \n",
       "Room with a View, A (1986)                          4.187251  3.841424   \n",
       "Cinderella (1950)                                   3.968750  3.620397   \n",
       "Moonstruck (1987)                                   4.011429  3.662975   \n",
       "Full Monty, The (1997)                              4.113456  3.760976   \n",
       "Double Jeopardy (1999)                              3.451754  3.098566   \n",
       "Flight of the Navigator (1986)                      3.757895  3.403628   \n",
       "Sleeping Beauty (1959)                              3.937500  3.573668   \n",
       "Much Ado About Nothing (1993)                       4.224335  3.853960   \n",
       "Fried Green Tomatoes (1991)                         4.038793  3.656510   \n",
       "Out of Africa (1985)                                3.894068  3.507692   \n",
       "Labyrinth (1986)                                    3.925170  3.533170   \n",
       "Strictly Ballroom (1992)                            4.174342  3.768817   \n",
       "Emma (1996)                                         4.061151  3.654709   \n",
       "Pretty in Pink (1986)                               3.619772  3.211628   \n",
       "Sense and Sensibility (1995)                        4.233333  3.819277   \n",
       "Gone with the Wind (1939)                           4.269841  3.829371   \n",
       "Jewel of the Nile, The (1985)                       3.494253  3.048096   \n",
       "Never Been Kissed (1999)                            3.452174  3.002538   \n",
       "Sound of Music, The (1965)                          4.233677  3.783418   \n",
       "Mary Poppins (1964)                                 4.197740  3.730594   \n",
       "Rocky Horror Picture Show, The (1975)               3.673016  3.160131   \n",
       "Grease (1978)                                       3.975265  3.367041   \n",
       "Dirty Dancing (1987)                                3.790378  2.959596   \n",
       "\n",
       "gender                                                  diff  \n",
       "Good, The Bad and The Ugly, The (1966)              0.726351  \n",
       "Dumb & Dumber (1994)                                0.638608  \n",
       "Evil Dead II (Dead By Dawn) (1987)                  0.611985  \n",
       "Caddyshack (1980)                                   0.573602  \n",
       "Animal House (1978)                                 0.538286  \n",
       "Exorcist, The (1973)                                0.529605  \n",
       "Big Trouble in Little China (1986)                  0.497078  \n",
       "From Dusk Till Dawn (1996)                          0.496844  \n",
       "Me, Myself and Irene (2000)                         0.467537  \n",
       "Kingpin (1996)                                      0.465173  \n",
       "Reservoir Dogs (1992)                               0.444642  \n",
       "Raging Bull (1980)                                  0.431508  \n",
       "South Park: Bigger, Longer and Uncut (1999)         0.424206  \n",
       "Eyes Wide Shut (1999)                               0.414736  \n",
       "Airplane! (1980)                                    0.407854  \n",
       "Predator (1987)                                     0.406793  \n",
       "Unforgiven (1992)                                   0.406704  \n",
       "Patton (1970)                                       0.399332  \n",
       "Godfather: Part II, The (1974)                      0.396842  \n",
       "Clockwork Orange, A (1971)                          0.388803  \n",
       "Glengarry Glen Ross (1992)                          0.384610  \n",
       "Aliens (1986)                                       0.384601  \n",
       "Fletch (1985)                                       0.384254  \n",
       "Fistful of Dollars, A (1964)                        0.382809  \n",
       "Starship Troopers (1997)                            0.378381  \n",
       "Ronin (1998)                                        0.354419  \n",
       "Christmas Vacation (1989)                           0.352102  \n",
       "Naked Gun: From the Files of Police Squad!, The...  0.347796  \n",
       "Payback (1999)                                      0.345676  \n",
       "Conan the Barbarian (1982)                          0.344512  \n",
       "...                                                      ...  \n",
       "10 Things I Hate About You (1999)                  -0.334586  \n",
       "Thelma & Louise (1991)                             -0.334686  \n",
       "Pretty Woman (1990)                                -0.335213  \n",
       "Piano, The (1993)                                  -0.336656  \n",
       "Batman & Robin (1997)                              -0.337685  \n",
       "Little Mermaid, The (1989)                         -0.343561  \n",
       "My Fair Lady (1964)                                -0.345595  \n",
       "Room with a View, A (1986)                         -0.345827  \n",
       "Cinderella (1950)                                  -0.348353  \n",
       "Moonstruck (1987)                                  -0.348454  \n",
       "Full Monty, The (1997)                             -0.352481  \n",
       "Double Jeopardy (1999)                             -0.353188  \n",
       "Flight of the Navigator (1986)                     -0.354267  \n",
       "Sleeping Beauty (1959)                             -0.363832  \n",
       "Much Ado About Nothing (1993)                      -0.370374  \n",
       "Fried Green Tomatoes (1991)                        -0.382283  \n",
       "Out of Africa (1985)                               -0.386375  \n",
       "Labyrinth (1986)                                   -0.392001  \n",
       "Strictly Ballroom (1992)                           -0.405525  \n",
       "Emma (1996)                                        -0.406443  \n",
       "Pretty in Pink (1986)                              -0.408144  \n",
       "Sense and Sensibility (1995)                       -0.414056  \n",
       "Gone with the Wind (1939)                          -0.440471  \n",
       "Jewel of the Nile, The (1985)                      -0.446157  \n",
       "Never Been Kissed (1999)                           -0.449636  \n",
       "Sound of Music, The (1965)                         -0.450259  \n",
       "Mary Poppins (1964)                                -0.467147  \n",
       "Rocky Horror Picture Show, The (1975)              -0.512885  \n",
       "Grease (1978)                                      -0.608224  \n",
       "Dirty Dancing (1987)                               -0.830782  \n",
       "\n",
       "[617 rows x 3 columns]"
      ]
     },
     "execution_count": 322,
     "metadata": {},
     "output_type": "execute_result"
    }
   ],
   "source": [
    "mean_ratings = mean_ratings.loc[sel_titles]\n",
    "sorted_ratings_by_F = mean_ratings.sort_values(by = 'F', ascending = False)\n",
    "mean_ratings['diff'] = mean_ratings['M'] - mean_ratings['F']\n",
    "sorted_by_diff = mean_ratings.sort_values(by = 'diff',\n",
    "                                         ascending = False)\n",
    "sorted_by_diff"
   ]
  },
  {
   "cell_type": "markdown",
   "metadata": {},
   "source": [
    " - 평균적으로 높은 평점을 부여하는 사용자확인\n",
    " - 평균적으로 낮은 평점을 부여하는 사용자 확인\n",
    " - 영화마다 다양한 평점을 부여하는 사용자확인"
   ]
  },
  {
   "cell_type": "code",
   "execution_count": 148,
   "metadata": {},
   "outputs": [
    {
     "data": {
      "text/html": [
       "<div>\n",
       "<style scoped>\n",
       "    .dataframe tbody tr th:only-of-type {\n",
       "        vertical-align: middle;\n",
       "    }\n",
       "\n",
       "    .dataframe tbody tr th {\n",
       "        vertical-align: top;\n",
       "    }\n",
       "\n",
       "    .dataframe thead th {\n",
       "        text-align: right;\n",
       "    }\n",
       "</style>\n",
       "<table border=\"1\" class=\"dataframe\">\n",
       "  <thead>\n",
       "    <tr style=\"text-align: right;\">\n",
       "      <th>user_id</th>\n",
       "      <th>1</th>\n",
       "      <th>2</th>\n",
       "      <th>3</th>\n",
       "      <th>4</th>\n",
       "      <th>5</th>\n",
       "      <th>6</th>\n",
       "      <th>7</th>\n",
       "      <th>8</th>\n",
       "      <th>9</th>\n",
       "      <th>10</th>\n",
       "      <th>...</th>\n",
       "      <th>6031</th>\n",
       "      <th>6032</th>\n",
       "      <th>6033</th>\n",
       "      <th>6034</th>\n",
       "      <th>6035</th>\n",
       "      <th>6036</th>\n",
       "      <th>6037</th>\n",
       "      <th>6038</th>\n",
       "      <th>6039</th>\n",
       "      <th>6040</th>\n",
       "    </tr>\n",
       "    <tr>\n",
       "      <th>title</th>\n",
       "      <th></th>\n",
       "      <th></th>\n",
       "      <th></th>\n",
       "      <th></th>\n",
       "      <th></th>\n",
       "      <th></th>\n",
       "      <th></th>\n",
       "      <th></th>\n",
       "      <th></th>\n",
       "      <th></th>\n",
       "      <th></th>\n",
       "      <th></th>\n",
       "      <th></th>\n",
       "      <th></th>\n",
       "      <th></th>\n",
       "      <th></th>\n",
       "      <th></th>\n",
       "      <th></th>\n",
       "      <th></th>\n",
       "      <th></th>\n",
       "      <th></th>\n",
       "    </tr>\n",
       "  </thead>\n",
       "  <tbody>\n",
       "    <tr>\n",
       "      <th>$1,000,000 Duck (1971)</th>\n",
       "      <td>0</td>\n",
       "      <td>0</td>\n",
       "      <td>0</td>\n",
       "      <td>0</td>\n",
       "      <td>0</td>\n",
       "      <td>0</td>\n",
       "      <td>0</td>\n",
       "      <td>0</td>\n",
       "      <td>0</td>\n",
       "      <td>0</td>\n",
       "      <td>...</td>\n",
       "      <td>0</td>\n",
       "      <td>0</td>\n",
       "      <td>0</td>\n",
       "      <td>0</td>\n",
       "      <td>0</td>\n",
       "      <td>0</td>\n",
       "      <td>0</td>\n",
       "      <td>0</td>\n",
       "      <td>0</td>\n",
       "      <td>0</td>\n",
       "    </tr>\n",
       "    <tr>\n",
       "      <th>'Night Mother (1986)</th>\n",
       "      <td>0</td>\n",
       "      <td>0</td>\n",
       "      <td>0</td>\n",
       "      <td>0</td>\n",
       "      <td>0</td>\n",
       "      <td>0</td>\n",
       "      <td>0</td>\n",
       "      <td>0</td>\n",
       "      <td>0</td>\n",
       "      <td>0</td>\n",
       "      <td>...</td>\n",
       "      <td>0</td>\n",
       "      <td>0</td>\n",
       "      <td>0</td>\n",
       "      <td>0</td>\n",
       "      <td>0</td>\n",
       "      <td>3</td>\n",
       "      <td>0</td>\n",
       "      <td>0</td>\n",
       "      <td>0</td>\n",
       "      <td>0</td>\n",
       "    </tr>\n",
       "    <tr>\n",
       "      <th>'Til There Was You (1997)</th>\n",
       "      <td>0</td>\n",
       "      <td>0</td>\n",
       "      <td>0</td>\n",
       "      <td>0</td>\n",
       "      <td>0</td>\n",
       "      <td>0</td>\n",
       "      <td>0</td>\n",
       "      <td>0</td>\n",
       "      <td>0</td>\n",
       "      <td>0</td>\n",
       "      <td>...</td>\n",
       "      <td>0</td>\n",
       "      <td>0</td>\n",
       "      <td>0</td>\n",
       "      <td>0</td>\n",
       "      <td>0</td>\n",
       "      <td>0</td>\n",
       "      <td>0</td>\n",
       "      <td>0</td>\n",
       "      <td>0</td>\n",
       "      <td>0</td>\n",
       "    </tr>\n",
       "    <tr>\n",
       "      <th>'burbs, The (1989)</th>\n",
       "      <td>0</td>\n",
       "      <td>0</td>\n",
       "      <td>0</td>\n",
       "      <td>0</td>\n",
       "      <td>0</td>\n",
       "      <td>0</td>\n",
       "      <td>0</td>\n",
       "      <td>0</td>\n",
       "      <td>0</td>\n",
       "      <td>4</td>\n",
       "      <td>...</td>\n",
       "      <td>0</td>\n",
       "      <td>0</td>\n",
       "      <td>0</td>\n",
       "      <td>0</td>\n",
       "      <td>0</td>\n",
       "      <td>0</td>\n",
       "      <td>0</td>\n",
       "      <td>0</td>\n",
       "      <td>0</td>\n",
       "      <td>0</td>\n",
       "    </tr>\n",
       "    <tr>\n",
       "      <th>...And Justice for All (1979)</th>\n",
       "      <td>0</td>\n",
       "      <td>0</td>\n",
       "      <td>0</td>\n",
       "      <td>0</td>\n",
       "      <td>0</td>\n",
       "      <td>0</td>\n",
       "      <td>0</td>\n",
       "      <td>0</td>\n",
       "      <td>0</td>\n",
       "      <td>0</td>\n",
       "      <td>...</td>\n",
       "      <td>0</td>\n",
       "      <td>0</td>\n",
       "      <td>0</td>\n",
       "      <td>0</td>\n",
       "      <td>0</td>\n",
       "      <td>0</td>\n",
       "      <td>0</td>\n",
       "      <td>0</td>\n",
       "      <td>0</td>\n",
       "      <td>0</td>\n",
       "    </tr>\n",
       "  </tbody>\n",
       "</table>\n",
       "<p>5 rows × 6040 columns</p>\n",
       "</div>"
      ],
      "text/plain": [
       "user_id                        1     2     3     4     5     6     7     8     \\\n",
       "title                                                                           \n",
       "$1,000,000 Duck (1971)            0     0     0     0     0     0     0     0   \n",
       "'Night Mother (1986)              0     0     0     0     0     0     0     0   \n",
       "'Til There Was You (1997)         0     0     0     0     0     0     0     0   \n",
       "'burbs, The (1989)                0     0     0     0     0     0     0     0   \n",
       "...And Justice for All (1979)     0     0     0     0     0     0     0     0   \n",
       "\n",
       "user_id                        9     10    ...   6031  6032  6033  6034  6035  \\\n",
       "title                                      ...                                  \n",
       "$1,000,000 Duck (1971)            0     0  ...      0     0     0     0     0   \n",
       "'Night Mother (1986)              0     0  ...      0     0     0     0     0   \n",
       "'Til There Was You (1997)         0     0  ...      0     0     0     0     0   \n",
       "'burbs, The (1989)                0     4  ...      0     0     0     0     0   \n",
       "...And Justice for All (1979)     0     0  ...      0     0     0     0     0   \n",
       "\n",
       "user_id                        6036  6037  6038  6039  6040  \n",
       "title                                                        \n",
       "$1,000,000 Duck (1971)            0     0     0     0     0  \n",
       "'Night Mother (1986)              3     0     0     0     0  \n",
       "'Til There Was You (1997)         0     0     0     0     0  \n",
       "'burbs, The (1989)                0     0     0     0     0  \n",
       "...And Justice for All (1979)     0     0     0     0     0  \n",
       "\n",
       "[5 rows x 6040 columns]"
      ]
     },
     "execution_count": 148,
     "metadata": {},
     "output_type": "execute_result"
    }
   ],
   "source": [
    "mean_ratings = pd.pivot_table(data,\n",
    "                             values = 'rating',\n",
    "                             index = 'title', columns = 'user_id',\n",
    "                             aggfunc = np.mean,fill_value = 0)\n",
    "mean_ratings.head()"
   ]
  },
  {
   "cell_type": "code",
   "execution_count": null,
   "metadata": {},
   "outputs": [],
   "source": []
  },
  {
   "cell_type": "markdown",
   "metadata": {},
   "source": [
    "# 여기까지 못함"
   ]
  },
  {
   "cell_type": "markdown",
   "metadata": {},
   "source": [
    "# Numpy "
   ]
  },
  {
   "cell_type": "markdown",
   "metadata": {},
   "source": [
    "Numerial python의 줄임말로, 고성농 과학 게싼 컴퓨팅과데이터분석에 필요한 기본 라이브러리"
   ]
  },
  {
   "cell_type": "markdown",
   "metadata": {},
   "source": [
    "## 그리드 생성"
   ]
  },
  {
   "cell_type": "code",
   "execution_count": 156,
   "metadata": {},
   "outputs": [
    {
     "name": "stdout",
     "output_type": "stream",
     "text": [
      "(1000, 1000)\n"
     ]
    },
    {
     "data": {
      "text/plain": [
       "array([[-5.  , -4.99, -4.98, ...,  4.97,  4.98,  4.99],\n",
       "       [-5.  , -4.99, -4.98, ...,  4.97,  4.98,  4.99],\n",
       "       [-5.  , -4.99, -4.98, ...,  4.97,  4.98,  4.99],\n",
       "       ...,\n",
       "       [-5.  , -4.99, -4.98, ...,  4.97,  4.98,  4.99],\n",
       "       [-5.  , -4.99, -4.98, ...,  4.97,  4.98,  4.99],\n",
       "       [-5.  , -4.99, -4.98, ...,  4.97,  4.98,  4.99]])"
      ]
     },
     "execution_count": 156,
     "metadata": {},
     "output_type": "execute_result"
    }
   ],
   "source": [
    "points = np.arange(-5,5,0.01)\n",
    "xs, ys = np.meshgrid(points, points)   # 위 array를 2*2의 좌표로 바꾸고자 하는것. \n",
    "print(xs.shape)                        # -5 ~ 5, -5 ~ 5 사이의 무수한 점들을 찍은것.\n",
    "xs"
   ]
  },
  {
   "cell_type": "code",
   "execution_count": 160,
   "metadata": {
    "scrolled": false
   },
   "outputs": [
    {
     "name": "stdout",
     "output_type": "stream",
     "text": [
      "(1000, 1000)\n"
     ]
    },
    {
     "data": {
      "text/plain": [
       "array([[7.07106781, 7.06400028, 7.05693985, ..., 7.04988652, 7.05693985,\n",
       "        7.06400028],\n",
       "       [7.06400028, 7.05692568, 7.04985815, ..., 7.04279774, 7.04985815,\n",
       "        7.05692568],\n",
       "       [7.05693985, 7.04985815, 7.04278354, ..., 7.03571603, 7.04278354,\n",
       "        7.04985815],\n",
       "       ...,\n",
       "       [7.04988652, 7.04279774, 7.03571603, ..., 7.0286414 , 7.03571603,\n",
       "        7.04279774],\n",
       "       [7.05693985, 7.04985815, 7.04278354, ..., 7.03571603, 7.04278354,\n",
       "        7.04985815],\n",
       "       [7.06400028, 7.05692568, 7.04985815, ..., 7.04279774, 7.04985815,\n",
       "        7.05692568]])"
      ]
     },
     "execution_count": 160,
     "metadata": {},
     "output_type": "execute_result"
    }
   ],
   "source": [
    "z = np.sqrt(xs**2 + ys **2)\n",
    "print(z.shape)\n",
    "z"
   ]
  },
  {
   "cell_type": "code",
   "execution_count": 162,
   "metadata": {},
   "outputs": [
    {
     "data": {
      "text/plain": [
       "<matplotlib.image.AxesImage at 0x225df770908>"
      ]
     },
     "execution_count": 162,
     "metadata": {},
     "output_type": "execute_result"
    },
    {
     "data": {
      "text/plain": [
       "<matplotlib.colorbar.Colorbar at 0x225df765c88>"
      ]
     },
     "execution_count": 162,
     "metadata": {},
     "output_type": "execute_result"
    },
    {
     "data": {
      "text/plain": [
       "Text(0.5,1,'z')"
      ]
     },
     "execution_count": 162,
     "metadata": {},
     "output_type": "execute_result"
    },
    {
     "data": {
      "image/png": "[encoded data removed]",
      "text/plain": [
       "<Figure size 432x288 with 2 Axes>"
      ]
     },
     "metadata": {},
     "output_type": "display_data"
    }
   ],
   "source": [
    "import matplotlib.pyplot as plt\n",
    "plt.imshow(z, cmap = plt.cm.gray)   # 값이 작으면검정색, 크면 흰색\n",
    "plt.colorbar()\n",
    "plt.title('z')\n",
    "plt.show()"
   ]
  },
  {
   "cell_type": "code",
   "execution_count": null,
   "metadata": {},
   "outputs": [],
   "source": []
  },
  {
   "cell_type": "markdown",
   "metadata": {},
   "source": [
    "## 조건절 표현"
   ]
  },
  {
   "cell_type": "markdown",
   "metadata": {},
   "source": [
    "condition이 참일때는 x 값을 취하고, 거짓일 때는y값을 취하는 배열 생성"
   ]
  },
  {
   "cell_type": "code",
   "execution_count": 163,
   "metadata": {},
   "outputs": [],
   "source": [
    "x = np.array([1.1,1.2,1.3,1.4,1.5])\n",
    "y = x + 1\n",
    "cond = np.array([True, False, True, False, False])"
   ]
  },
  {
   "cell_type": "code",
   "execution_count": 165,
   "metadata": {},
   "outputs": [
    {
     "data": {
      "text/plain": [
       "array([1.1, 2.2, 1.3, 2.4, 2.5])"
      ]
     },
     "execution_count": 165,
     "metadata": {},
     "output_type": "execute_result"
    }
   ],
   "source": [
    "res = np. where(cond, x,y)\n",
    "res"
   ]
  },
  {
   "cell_type": "code",
   "execution_count": null,
   "metadata": {},
   "outputs": [],
   "source": []
  },
  {
   "cell_type": "code",
   "execution_count": 167,
   "metadata": {},
   "outputs": [
    {
     "data": {
      "text/plain": [
       "array([[ 1.62434536, -0.61175641, -0.52817175, -1.07296862,  0.86540763],\n",
       "       [-2.3015387 ,  1.74481176, -0.7612069 ,  0.3190391 , -0.24937038],\n",
       "       [ 1.46210794, -2.06014071, -0.3224172 , -0.38405435,  1.13376944],\n",
       "       [-1.09989127, -0.17242821, -0.87785842,  0.04221375,  0.58281521],\n",
       "       [-1.10061918,  1.14472371,  0.90159072,  0.50249434,  0.90085595]])"
      ]
     },
     "execution_count": 167,
     "metadata": {},
     "output_type": "execute_result"
    }
   ],
   "source": [
    "np.random.seed(1)\n",
    "arr = np.random.randn(5,5) # ranodn  : random normal\n",
    "arr"
   ]
  },
  {
   "cell_type": "markdown",
   "metadata": {},
   "source": [
    "arr 각 원소가 0보다 크면 2, 작으면 그대로 부여"
   ]
  },
  {
   "cell_type": "code",
   "execution_count": 175,
   "metadata": {},
   "outputs": [
    {
     "data": {
      "text/plain": [
       "array([[ 2.        , -0.61175641, -0.52817175, -1.07296862,  2.        ],\n",
       "       [-2.3015387 ,  2.        , -0.7612069 ,  2.        , -0.24937038],\n",
       "       [ 2.        , -2.06014071, -0.3224172 , -0.38405435,  2.        ],\n",
       "       [-1.09989127, -0.17242821, -0.87785842,  2.        ,  2.        ],\n",
       "       [-1.10061918,  2.        ,  2.        ,  2.        ,  2.        ]])"
      ]
     },
     "execution_count": 175,
     "metadata": {},
     "output_type": "execute_result"
    }
   ],
   "source": [
    "np.where(arr>0, 2, arr)"
   ]
  },
  {
   "cell_type": "markdown",
   "metadata": {},
   "source": [
    "## 정렬"
   ]
  },
  {
   "cell_type": "code",
   "execution_count": 180,
   "metadata": {},
   "outputs": [
    {
     "data": {
      "text/plain": [
       "array([ 1.62434536, -0.61175641, -0.52817175, -1.07296862,  0.86540763,\n",
       "       -2.3015387 ,  1.74481176, -0.7612069 ,  0.3190391 , -0.24937038,\n",
       "        1.46210794, -2.06014071, -0.3224172 , -0.38405435,  1.13376944,\n",
       "       -1.09989127, -0.17242821, -0.87785842,  0.04221375,  0.58281521,\n",
       "       -1.10061918,  1.14472371,  0.90159072,  0.50249434,  0.90085595])"
      ]
     },
     "execution_count": 180,
     "metadata": {},
     "output_type": "execute_result"
    }
   ],
   "source": [
    "arr = arr.reshape(-1)\n",
    "arr"
   ]
  },
  {
   "cell_type": "code",
   "execution_count": 181,
   "metadata": {},
   "outputs": [
    {
     "data": {
      "text/plain": [
       "array([-2.3015387 , -2.06014071, -1.10061918, -1.09989127, -1.07296862,\n",
       "       -0.87785842, -0.7612069 , -0.61175641, -0.52817175, -0.38405435,\n",
       "       -0.3224172 , -0.24937038, -0.17242821,  0.04221375,  0.3190391 ,\n",
       "        0.50249434,  0.58281521,  0.86540763,  0.90085595,  0.90159072,\n",
       "        1.13376944,  1.14472371,  1.46210794,  1.62434536,  1.74481176])"
      ]
     },
     "execution_count": 181,
     "metadata": {},
     "output_type": "execute_result"
    }
   ],
   "source": [
    "arr.sort()\n",
    "arr"
   ]
  },
  {
   "cell_type": "code",
   "execution_count": 183,
   "metadata": {},
   "outputs": [
    {
     "data": {
      "text/plain": [
       "24"
      ]
     },
     "execution_count": 183,
     "metadata": {},
     "output_type": "execute_result"
    }
   ],
   "source": [
    "arr.argmax()  # 최대값을 가진다."
   ]
  },
  {
   "cell_type": "markdown",
   "metadata": {},
   "source": [
    "## 5% quantile 계산"
   ]
  },
  {
   "cell_type": "code",
   "execution_count": 185,
   "metadata": {},
   "outputs": [
    {
     "data": {
      "text/plain": [
       "-2.060140709497654"
      ]
     },
     "execution_count": 185,
     "metadata": {},
     "output_type": "execute_result"
    }
   ],
   "source": [
    "arr[int(0.05*len(arr))]"
   ]
  },
  {
   "cell_type": "code",
   "execution_count": 187,
   "metadata": {},
   "outputs": [
    {
     "data": {
      "text/plain": [
       "12"
      ]
     },
     "execution_count": 187,
     "metadata": {},
     "output_type": "execute_result"
    }
   ],
   "source": [
    "round(len(arr) *0.5)"
   ]
  },
  {
   "cell_type": "code",
   "execution_count": null,
   "metadata": {},
   "outputs": [],
   "source": []
  },
  {
   "cell_type": "markdown",
   "metadata": {},
   "source": [
    "## 두 배열 이어 붙이기"
   ]
  },
  {
   "cell_type": "code",
   "execution_count": 192,
   "metadata": {},
   "outputs": [
    {
     "data": {
      "text/plain": [
       "array([[0., 0., 0., 1., 1.],\n",
       "       [0., 0., 0., 1., 1.],\n",
       "       [0., 0., 0., 1., 1.],\n",
       "       [0., 0., 0., 1., 1.],\n",
       "       [0., 0., 0., 1., 1.]])"
      ]
     },
     "execution_count": 192,
     "metadata": {},
     "output_type": "execute_result"
    }
   ],
   "source": [
    "arr1 = np.zeros((5,3))\n",
    "arr2 = np.ones((5,2))\n",
    "np.concatenate([arr1,arr2], axis = 1) #  concateneate은 있는 그대로 붙인다. axis 는 열로 붙이겠다라는듯"
   ]
  },
  {
   "cell_type": "code",
   "execution_count": 194,
   "metadata": {},
   "outputs": [
    {
     "ename": "TypeError",
     "evalue": "Argument given by name ('axis') and position (2)",
     "output_type": "error",
     "traceback": [
      "\u001b[1;31m---------------------------------------------------------------------------\u001b[0m",
      "\u001b[1;31mTypeError\u001b[0m                                 Traceback (most recent call last)",
      "\u001b[1;32m<ipython-input-194-bba27d641b31>\u001b[0m in \u001b[0;36m<module>\u001b[1;34m()\u001b[0m\n\u001b[0;32m      1\u001b[0m \u001b[0marr3\u001b[0m \u001b[1;33m=\u001b[0m \u001b[0mnp\u001b[0m\u001b[1;33m.\u001b[0m\u001b[0mones\u001b[0m\u001b[1;33m(\u001b[0m\u001b[1;33m(\u001b[0m\u001b[1;36m2\u001b[0m\u001b[1;33m,\u001b[0m\u001b[1;36m3\u001b[0m\u001b[1;33m)\u001b[0m\u001b[1;33m)\u001b[0m\u001b[1;33m\u001b[0m\u001b[0m\n\u001b[1;32m----> 2\u001b[1;33m \u001b[0mnp\u001b[0m\u001b[1;33m.\u001b[0m\u001b[0mconcatenate\u001b[0m\u001b[1;33m(\u001b[0m\u001b[1;33m[\u001b[0m\u001b[0marr1\u001b[0m\u001b[1;33m]\u001b[0m\u001b[1;33m,\u001b[0m\u001b[1;33m[\u001b[0m\u001b[0marr3\u001b[0m\u001b[1;33m]\u001b[0m\u001b[1;33m,\u001b[0m \u001b[0maxis\u001b[0m \u001b[1;33m=\u001b[0m \u001b[1;36m1\u001b[0m\u001b[1;33m)\u001b[0m\u001b[1;33m\u001b[0m\u001b[0m\n\u001b[0m",
      "\u001b[1;31mTypeError\u001b[0m: Argument given by name ('axis') and position (2)"
     ]
    }
   ],
   "source": [
    "arr3 = np.ones((2,3))\n",
    "np.concatenate([arr1],[arr3], axis = 1)"
   ]
  },
  {
   "cell_type": "code",
   "execution_count": null,
   "metadata": {},
   "outputs": [],
   "source": []
  },
  {
   "cell_type": "markdown",
   "metadata": {},
   "source": [
    "## 집합에 대한 함수들"
   ]
  },
  {
   "cell_type": "code",
   "execution_count": 196,
   "metadata": {},
   "outputs": [],
   "source": [
    "names = np.array(['B', 'J','W','B','W','J','J'])"
   ]
  },
  {
   "cell_type": "code",
   "execution_count": 198,
   "metadata": {},
   "outputs": [
    {
     "data": {
      "text/plain": [
       "array(['B', 'J', 'W'], dtype='<U1')"
      ]
     },
     "execution_count": 198,
     "metadata": {},
     "output_type": "execute_result"
    }
   ],
   "source": [
    "np.unique(names)"
   ]
  },
  {
   "cell_type": "raw",
   "metadata": {},
   "source": [
    "np.random.seed(1)"
   ]
  },
  {
   "cell_type": "code",
   "execution_count": 204,
   "metadata": {},
   "outputs": [],
   "source": [
    "ind = np.random.choice(len(data), size =200)"
   ]
  },
  {
   "cell_type": "code",
   "execution_count": 208,
   "metadata": {},
   "outputs": [
    {
     "data": {
      "text/html": [
       "<div>\n",
       "<style scoped>\n",
       "    .dataframe tbody tr th:only-of-type {\n",
       "        vertical-align: middle;\n",
       "    }\n",
       "\n",
       "    .dataframe tbody tr th {\n",
       "        vertical-align: top;\n",
       "    }\n",
       "\n",
       "    .dataframe thead th {\n",
       "        text-align: right;\n",
       "    }\n",
       "</style>\n",
       "<table border=\"1\" class=\"dataframe\">\n",
       "  <thead>\n",
       "    <tr style=\"text-align: right;\">\n",
       "      <th></th>\n",
       "      <th>index</th>\n",
       "      <th>user_id</th>\n",
       "      <th>movie_id</th>\n",
       "      <th>rating</th>\n",
       "      <th>timestamp</th>\n",
       "      <th>gender</th>\n",
       "      <th>age</th>\n",
       "      <th>occupation</th>\n",
       "      <th>zip</th>\n",
       "      <th>title</th>\n",
       "      <th>genres</th>\n",
       "    </tr>\n",
       "  </thead>\n",
       "  <tbody>\n",
       "    <tr>\n",
       "      <th>0</th>\n",
       "      <td>730225</td>\n",
       "      <td>386</td>\n",
       "      <td>1249</td>\n",
       "      <td>3</td>\n",
       "      <td>976299740</td>\n",
       "      <td>M</td>\n",
       "      <td>25</td>\n",
       "      <td>0</td>\n",
       "      <td>55408</td>\n",
       "      <td>Nikita (La Femme Nikita) (1990)</td>\n",
       "      <td>Thriller</td>\n",
       "    </tr>\n",
       "    <tr>\n",
       "      <th>1</th>\n",
       "      <td>940820</td>\n",
       "      <td>3716</td>\n",
       "      <td>1681</td>\n",
       "      <td>4</td>\n",
       "      <td>966268107</td>\n",
       "      <td>M</td>\n",
       "      <td>18</td>\n",
       "      <td>12</td>\n",
       "      <td>36115</td>\n",
       "      <td>Mortal Kombat: Annihilation (1997)</td>\n",
       "      <td>Action|Adventure</td>\n",
       "    </tr>\n",
       "    <tr>\n",
       "      <th>2</th>\n",
       "      <td>985132</td>\n",
       "      <td>4186</td>\n",
       "      <td>3622</td>\n",
       "      <td>4</td>\n",
       "      <td>1017785331</td>\n",
       "      <td>M</td>\n",
       "      <td>25</td>\n",
       "      <td>7</td>\n",
       "      <td>33308</td>\n",
       "      <td>Twelve Chairs, The (1970)</td>\n",
       "      <td>Comedy</td>\n",
       "    </tr>\n",
       "    <tr>\n",
       "      <th>3</th>\n",
       "      <td>992527</td>\n",
       "      <td>1600</td>\n",
       "      <td>2885</td>\n",
       "      <td>3</td>\n",
       "      <td>974735683</td>\n",
       "      <td>M</td>\n",
       "      <td>35</td>\n",
       "      <td>7</td>\n",
       "      <td>08234</td>\n",
       "      <td>Guinevere (1999)</td>\n",
       "      <td>Drama|Romance</td>\n",
       "    </tr>\n",
       "    <tr>\n",
       "      <th>4</th>\n",
       "      <td>722590</td>\n",
       "      <td>6003</td>\n",
       "      <td>3210</td>\n",
       "      <td>2</td>\n",
       "      <td>956982663</td>\n",
       "      <td>F</td>\n",
       "      <td>45</td>\n",
       "      <td>17</td>\n",
       "      <td>78722</td>\n",
       "      <td>Fast Times at Ridgemont High (1982)</td>\n",
       "      <td>Comedy</td>\n",
       "    </tr>\n",
       "  </tbody>\n",
       "</table>\n",
       "</div>"
      ],
      "text/plain": [
       "    index  user_id  movie_id  rating   timestamp gender  age  occupation  \\\n",
       "0  730225      386      1249       3   976299740      M   25           0   \n",
       "1  940820     3716      1681       4   966268107      M   18          12   \n",
       "2  985132     4186      3622       4  1017785331      M   25           7   \n",
       "3  992527     1600      2885       3   974735683      M   35           7   \n",
       "4  722590     6003      3210       2   956982663      F   45          17   \n",
       "\n",
       "     zip                                title            genres  \n",
       "0  55408      Nikita (La Femme Nikita) (1990)          Thriller  \n",
       "1  36115   Mortal Kombat: Annihilation (1997)  Action|Adventure  \n",
       "2  33308            Twelve Chairs, The (1970)            Comedy  \n",
       "3  08234                     Guinevere (1999)     Drama|Romance  \n",
       "4  78722  Fast Times at Ridgemont High (1982)            Comedy  "
      ]
     },
     "execution_count": 208,
     "metadata": {},
     "output_type": "execute_result"
    }
   ],
   "source": [
    "data1 = data.iloc[ind[:100]].reset_index()\n",
    "data2 = data.iloc[ind[100:]].reset_index()\n",
    "data1.head()"
   ]
  },
  {
   "cell_type": "code",
   "execution_count": 209,
   "metadata": {},
   "outputs": [
    {
     "data": {
      "text/html": [
       "<div>\n",
       "<style scoped>\n",
       "    .dataframe tbody tr th:only-of-type {\n",
       "        vertical-align: middle;\n",
       "    }\n",
       "\n",
       "    .dataframe tbody tr th {\n",
       "        vertical-align: top;\n",
       "    }\n",
       "\n",
       "    .dataframe thead th {\n",
       "        text-align: right;\n",
       "    }\n",
       "</style>\n",
       "<table border=\"1\" class=\"dataframe\">\n",
       "  <thead>\n",
       "    <tr style=\"text-align: right;\">\n",
       "      <th></th>\n",
       "      <th>index</th>\n",
       "      <th>user_id</th>\n",
       "      <th>movie_id</th>\n",
       "      <th>rating</th>\n",
       "      <th>timestamp</th>\n",
       "      <th>gender</th>\n",
       "      <th>age</th>\n",
       "      <th>occupation</th>\n",
       "      <th>zip</th>\n",
       "      <th>title</th>\n",
       "      <th>genres</th>\n",
       "    </tr>\n",
       "  </thead>\n",
       "  <tbody>\n",
       "    <tr>\n",
       "      <th>0</th>\n",
       "      <td>647794</td>\n",
       "      <td>1333</td>\n",
       "      <td>1301</td>\n",
       "      <td>4</td>\n",
       "      <td>974776849</td>\n",
       "      <td>M</td>\n",
       "      <td>25</td>\n",
       "      <td>17</td>\n",
       "      <td>06460</td>\n",
       "      <td>Forbidden Planet (1956)</td>\n",
       "      <td>Sci-Fi</td>\n",
       "    </tr>\n",
       "    <tr>\n",
       "      <th>1</th>\n",
       "      <td>874222</td>\n",
       "      <td>4934</td>\n",
       "      <td>1359</td>\n",
       "      <td>2</td>\n",
       "      <td>1001708447</td>\n",
       "      <td>F</td>\n",
       "      <td>25</td>\n",
       "      <td>0</td>\n",
       "      <td>55108</td>\n",
       "      <td>Jingle All the Way (1996)</td>\n",
       "      <td>Adventure|Children's|Comedy</td>\n",
       "    </tr>\n",
       "    <tr>\n",
       "      <th>2</th>\n",
       "      <td>268189</td>\n",
       "      <td>2928</td>\n",
       "      <td>2291</td>\n",
       "      <td>5</td>\n",
       "      <td>971553681</td>\n",
       "      <td>M</td>\n",
       "      <td>25</td>\n",
       "      <td>2</td>\n",
       "      <td>90068</td>\n",
       "      <td>Edward Scissorhands (1990)</td>\n",
       "      <td>Drama|Romance</td>\n",
       "    </tr>\n",
       "    <tr>\n",
       "      <th>3</th>\n",
       "      <td>755244</td>\n",
       "      <td>4064</td>\n",
       "      <td>2132</td>\n",
       "      <td>4</td>\n",
       "      <td>965476661</td>\n",
       "      <td>M</td>\n",
       "      <td>45</td>\n",
       "      <td>0</td>\n",
       "      <td>20851</td>\n",
       "      <td>Who's Afraid of Virginia Woolf? (1966)</td>\n",
       "      <td>Drama</td>\n",
       "    </tr>\n",
       "    <tr>\n",
       "      <th>4</th>\n",
       "      <td>994341</td>\n",
       "      <td>5795</td>\n",
       "      <td>2326</td>\n",
       "      <td>1</td>\n",
       "      <td>958079755</td>\n",
       "      <td>M</td>\n",
       "      <td>25</td>\n",
       "      <td>1</td>\n",
       "      <td>92688</td>\n",
       "      <td>Shattered Image (1998)</td>\n",
       "      <td>Drama|Thriller</td>\n",
       "    </tr>\n",
       "  </tbody>\n",
       "</table>\n",
       "</div>"
      ],
      "text/plain": [
       "    index  user_id  movie_id  rating   timestamp gender  age  occupation  \\\n",
       "0  647794     1333      1301       4   974776849      M   25          17   \n",
       "1  874222     4934      1359       2  1001708447      F   25           0   \n",
       "2  268189     2928      2291       5   971553681      M   25           2   \n",
       "3  755244     4064      2132       4   965476661      M   45           0   \n",
       "4  994341     5795      2326       1   958079755      M   25           1   \n",
       "\n",
       "     zip                                   title                       genres  \n",
       "0  06460                 Forbidden Planet (1956)                       Sci-Fi  \n",
       "1  55108               Jingle All the Way (1996)  Adventure|Children's|Comedy  \n",
       "2  90068              Edward Scissorhands (1990)                Drama|Romance  \n",
       "3  20851  Who's Afraid of Virginia Woolf? (1966)                        Drama  \n",
       "4  92688                  Shattered Image (1998)               Drama|Thriller  "
      ]
     },
     "execution_count": 209,
     "metadata": {},
     "output_type": "execute_result"
    }
   ],
   "source": [
    "data2.head()"
   ]
  },
  {
   "cell_type": "code",
   "execution_count": 211,
   "metadata": {},
   "outputs": [
    {
     "data": {
      "text/plain": [
       "188"
      ]
     },
     "execution_count": 211,
     "metadata": {},
     "output_type": "execute_result"
    }
   ],
   "source": [
    "len(np.union1d(data1.title, data2.title))"
   ]
  },
  {
   "cell_type": "code",
   "execution_count": 212,
   "metadata": {},
   "outputs": [],
   "source": [
    "arr = np.random.randn(5,5)"
   ]
  },
  {
   "cell_type": "code",
   "execution_count": 215,
   "metadata": {},
   "outputs": [],
   "source": [
    "np.save('arr',arr)   # 하나의 배열"
   ]
  },
  {
   "cell_type": "code",
   "execution_count": 217,
   "metadata": {},
   "outputs": [
    {
     "data": {
      "text/plain": [
       "array([[-0.68372786, -1.8097676 , -0.98166868,  1.06709952,  1.07992861],\n",
       "       [ 0.17600114,  0.12716872, -2.17376077, -0.50586403, -1.08776651],\n",
       "       [ 0.09315039, -1.23150894,  0.22785753,  1.75639328, -0.75058385],\n",
       "       [-0.36207646,  0.01317452,  0.3743189 , -1.84955116, -0.27810508],\n",
       "       [ 0.31784693, -0.35876103, -0.04193944,  1.25794105,  0.62834995]])"
      ]
     },
     "execution_count": 217,
     "metadata": {},
     "output_type": "execute_result"
    },
    {
     "data": {
      "text/plain": [
       "array([[-0.68372786, -1.8097676 , -0.98166868,  1.06709952,  1.07992861],\n",
       "       [ 0.17600114,  0.12716872, -2.17376077, -0.50586403, -1.08776651],\n",
       "       [ 0.09315039, -1.23150894,  0.22785753,  1.75639328, -0.75058385],\n",
       "       [-0.36207646,  0.01317452,  0.3743189 , -1.84955116, -0.27810508],\n",
       "       [ 0.31784693, -0.35876103, -0.04193944,  1.25794105,  0.62834995]])"
      ]
     },
     "execution_count": 217,
     "metadata": {},
     "output_type": "execute_result"
    }
   ],
   "source": [
    "np.load('arr.npy') # 불러오기\n",
    "arr"
   ]
  },
  {
   "cell_type": "code",
   "execution_count": 218,
   "metadata": {},
   "outputs": [
    {
     "ename": "NameError",
     "evalue": "name 'file_naems' is not defined",
     "output_type": "error",
     "traceback": [
      "\u001b[1;31m---------------------------------------------------------------------------\u001b[0m",
      "\u001b[1;31mNameError\u001b[0m                                 Traceback (most recent call last)",
      "\u001b[1;32m<ipython-input-218-cf6d034267bd>\u001b[0m in \u001b[0;36m<module>\u001b[1;34m()\u001b[0m\n\u001b[0;32m      1\u001b[0m \u001b[0mfile_names\u001b[0m \u001b[1;33m=\u001b[0m \u001b[0mglob\u001b[0m\u001b[1;33m.\u001b[0m\u001b[0mglob\u001b[0m\u001b[1;33m(\u001b[0m\u001b[1;34m'*.npy'\u001b[0m\u001b[1;33m)\u001b[0m\u001b[1;33m\u001b[0m\u001b[0m\n\u001b[1;32m----> 2\u001b[1;33m \u001b[0mnp\u001b[0m\u001b[1;33m.\u001b[0m\u001b[0mload\u001b[0m\u001b[1;33m(\u001b[0m\u001b[0mfile_naems\u001b[0m\u001b[1;33m[\u001b[0m\u001b[1;36m0\u001b[0m\u001b[1;33m]\u001b[0m\u001b[1;33m)\u001b[0m\u001b[1;33m\u001b[0m\u001b[0m\n\u001b[0m",
      "\u001b[1;31mNameError\u001b[0m: name 'file_naems' is not defined"
     ]
    }
   ],
   "source": [
    "file_names = glob.glob('*.npy')\n",
    "np.load(file_naems[0])"
   ]
  },
  {
   "cell_type": "code",
   "execution_count": 219,
   "metadata": {},
   "outputs": [],
   "source": [
    "np.savez('multiple_arr', a = arr, b =arr) # 동시에 저장"
   ]
  },
  {
   "cell_type": "code",
   "execution_count": 221,
   "metadata": {},
   "outputs": [
    {
     "data": {
      "text/plain": [
       "array([[-0.68372786, -1.8097676 , -0.98166868,  1.06709952,  1.07992861],\n",
       "       [ 0.17600114,  0.12716872, -2.17376077, -0.50586403, -1.08776651],\n",
       "       [ 0.09315039, -1.23150894,  0.22785753,  1.75639328, -0.75058385],\n",
       "       [-0.36207646,  0.01317452,  0.3743189 , -1.84955116, -0.27810508],\n",
       "       [ 0.31784693, -0.35876103, -0.04193944,  1.25794105,  0.62834995]])"
      ]
     },
     "execution_count": 221,
     "metadata": {},
     "output_type": "execute_result"
    }
   ],
   "source": [
    "aa = np.load('multiple_arr.npz')          # 동시에 꺼내갰겠다.(zip파일 형식)\n",
    "aa['a']"
   ]
  },
  {
   "cell_type": "code",
   "execution_count": 223,
   "metadata": {},
   "outputs": [],
   "source": [
    "np.savetxt('arr.txt',arr, delimiter = ' ')"
   ]
  },
  {
   "cell_type": "code",
   "execution_count": 228,
   "metadata": {},
   "outputs": [
    {
     "data": {
      "text/plain": [
       "array([[-0.68372786, -1.8097676 , -0.98166868,  1.06709952,  1.07992861],\n",
       "       [ 0.17600114,  0.12716872, -2.17376077, -0.50586403, -1.08776651],\n",
       "       [ 0.09315039, -1.23150894,  0.22785753,  1.75639328, -0.75058385],\n",
       "       [-0.36207646,  0.01317452,  0.3743189 , -1.84955116, -0.27810508],\n",
       "       [ 0.31784693, -0.35876103, -0.04193944,  1.25794105,  0.62834995]])"
      ]
     },
     "execution_count": 228,
     "metadata": {},
     "output_type": "execute_result"
    }
   ],
   "source": [
    "np.loadtxt('arr.txt', delimiter = ' ')"
   ]
  },
  {
   "cell_type": "code",
   "execution_count": null,
   "metadata": {},
   "outputs": [],
   "source": []
  },
  {
   "cell_type": "markdown",
   "metadata": {},
   "source": [
    "## 4. Matplotlib: 시각화"
   ]
  },
  {
   "cell_type": "code",
   "execution_count": 257,
   "metadata": {},
   "outputs": [
    {
     "data": {
      "text/plain": [
       "[<matplotlib.lines.Line2D at 0x2259274c668>]"
      ]
     },
     "execution_count": 257,
     "metadata": {},
     "output_type": "execute_result"
    },
    {
     "data": {
      "text/plain": [
       "(array([1., 1., 0., 0., 0., 4., 5., 7., 4., 5., 3., 4., 2., 3., 3., 2., 0.,\n",
       "        3., 2., 1.]),\n",
       " array([-2.3015387 , -2.08144901, -1.86135931, -1.64126962, -1.42117993,\n",
       "        -1.20109024, -0.98100055, -0.76091086, -0.54082116, -0.32073147,\n",
       "        -0.10064178,  0.11944791,  0.3395376 ,  0.55962729,  0.77971699,\n",
       "         0.99980668,  1.21989637,  1.43998606,  1.66007575,  1.88016544,\n",
       "         2.10025514]),\n",
       " <a list of 20 Patch objects>)"
      ]
     },
     "execution_count": 257,
     "metadata": {},
     "output_type": "execute_result"
    },
    {
     "data": {
      "text/plain": [
       "(array([1., 1., 0., 0., 0., 4., 5., 7., 4., 5., 3., 4., 2., 3., 3., 2., 0.,\n",
       "        3., 2., 1.]),\n",
       " array([-1.3015387 , -1.08144901, -0.86135931, -0.64126962, -0.42117993,\n",
       "        -0.20109024,  0.01899945,  0.23908914,  0.45917884,  0.67926853,\n",
       "         0.89935822,  1.11944791,  1.3395376 ,  1.55962729,  1.77971699,\n",
       "         1.99980668,  2.21989637,  2.43998606,  2.66007575,  2.88016544,\n",
       "         3.10025514]),\n",
       " <a list of 20 Patch objects>)"
      ]
     },
     "execution_count": 257,
     "metadata": {},
     "output_type": "execute_result"
    },
    {
     "name": "stderr",
     "output_type": "stream",
     "text": [
      "No handles with labels found to put in legend.\n"
     ]
    },
    {
     "data": {
      "text/plain": [
       "<matplotlib.legend.Legend at 0x2259277e9b0>"
      ]
     },
     "execution_count": 257,
     "metadata": {},
     "output_type": "execute_result"
    },
    {
     "data": {
      "text/plain": [
       "<matplotlib.collections.PathCollection at 0x225927b70b8>"
      ]
     },
     "execution_count": 257,
     "metadata": {},
     "output_type": "execute_result"
    },
    {
     "data": {
      "image/png": "[encoded data removed]",
      "text/plain": [
       "<Figure size 576x576 with 3 Axes>"
      ]
     },
     "metadata": {},
     "output_type": "display_data"
    }
   ],
   "source": [
    "np.random.seed(1)\n",
    "arr = np.random.randn(50)\n",
    "\n",
    "fig = plt.figure(figsize=(8,8))   # 8 x 8로 사이즈 조절\n",
    "ax1 = fig.add_subplot(221)\n",
    "ax2 = fig.add_subplot(222)\n",
    "ax3 = fig.add_subplot(223)\n",
    "\n",
    "plt.plot(arr, 'k--')\n",
    "ax1.hist(arr, bins = 20, color = 'k', alpha = 0.2)   # 첫번째 그림에는 히스토그램  그리기 bins:는 나누기\n",
    "                                                     # alpha 는 투명도\n",
    "\n",
    " \n",
    "ax1.hist(arr+1, bins = 20, color  = 'r', alpha = 0.3)  # 덧붙여서 그릴 수 있다.\n",
    "ax1.legend()   \n",
    "ax2.scatter(np.arange(len(arr)),arr)                 #s 산점도는 x축,y축을 명시해준것.\n",
    "plt.show()"
   ]
  },
  {
   "cell_type": "code",
   "execution_count": null,
   "metadata": {},
   "outputs": [],
   "source": []
  },
  {
   "cell_type": "code",
   "execution_count": 254,
   "metadata": {},
   "outputs": [
    {
     "name": "stderr",
     "output_type": "stream",
     "text": [
      "No handles with labels found to put in legend.\n"
     ]
    },
    {
     "data": {
      "text/plain": [
       "<matplotlib.legend.Legend at 0x2259238c400>"
      ]
     },
     "execution_count": 254,
     "metadata": {},
     "output_type": "execute_result"
    },
    {
     "data": {
      "text/plain": [
       "<matplotlib.collections.PathCollection at 0x2259238cac8>"
      ]
     },
     "execution_count": 254,
     "metadata": {},
     "output_type": "execute_result"
    },
    {
     "data": {
      "image/png": "[encoded data removed]",
      "text/plain": [
       "<Figure size 576x576 with 3 Axes>"
      ]
     },
     "metadata": {},
     "output_type": "display_data"
    }
   ],
   "source": [
    "np.random.seed(1)\n",
    "arr = np.random.randn(1000)\n",
    "\n",
    "fig = plt.figure(figsize=(8,8))   # 8 x 8로 사이즈 조절\n",
    "ax1 = fig.add_subplot(221)\n",
    "ax2 = fig.add_subplot(222)\n",
    "ax3 = fig.add_subplot(223)\n",
    "\n",
    "\n",
    "ax2.scatter(arr, arr,alpha = 0.3)                 # 중앙에 모아버리기.\n",
    "plt.show()"
   ]
  },
  {
   "cell_type": "markdown",
   "metadata": {},
   "source": [
    "범례 만들기"
   ]
  },
  {
   "cell_type": "code",
   "execution_count": 267,
   "metadata": {},
   "outputs": [
    {
     "data": {
      "text/plain": [
       "<matplotlib.axes._subplots.AxesSubplot at 0x22592a13c18>"
      ]
     },
     "execution_count": 267,
     "metadata": {},
     "output_type": "execute_result"
    },
    {
     "data": {
      "text/plain": [
       "(array([1., 1., 0., 0., 0., 4., 5., 7., 4., 5., 3., 4., 2., 3., 3., 2., 0.,\n",
       "        3., 2., 1.]),\n",
       " array([-2.3015387 , -2.08144901, -1.86135931, -1.64126962, -1.42117993,\n",
       "        -1.20109024, -0.98100055, -0.76091086, -0.54082116, -0.32073147,\n",
       "        -0.10064178,  0.11944791,  0.3395376 ,  0.55962729,  0.77971699,\n",
       "         0.99980668,  1.21989637,  1.43998606,  1.66007575,  1.88016544,\n",
       "         2.10025514]),\n",
       " <a list of 20 Patch objects>)"
      ]
     },
     "execution_count": 267,
     "metadata": {},
     "output_type": "execute_result"
    },
    {
     "data": {
      "text/plain": [
       "(array([1., 1., 0., 0., 0., 4., 5., 7., 4., 5., 3., 4., 2., 3., 3., 2., 0.,\n",
       "        3., 2., 1.]),\n",
       " array([-1.3015387 , -1.08144901, -0.86135931, -0.64126962, -0.42117993,\n",
       "        -0.20109024,  0.01899945,  0.23908914,  0.45917884,  0.67926853,\n",
       "         0.89935822,  1.11944791,  1.3395376 ,  1.55962729,  1.77971699,\n",
       "         1.99980668,  2.21989637,  2.43998606,  2.66007575,  2.88016544,\n",
       "         3.10025514]),\n",
       " <a list of 20 Patch objects>)"
      ]
     },
     "execution_count": 267,
     "metadata": {},
     "output_type": "execute_result"
    },
    {
     "data": {
      "text/plain": [
       "<matplotlib.legend.Legend at 0x225a24a3710>"
      ]
     },
     "execution_count": 267,
     "metadata": {},
     "output_type": "execute_result"
    },
    {
     "data": {
      "text/plain": [
       "<matplotlib.axes._subplots.AxesSubplot at 0x225a24a37f0>"
      ]
     },
     "execution_count": 267,
     "metadata": {},
     "output_type": "execute_result"
    },
    {
     "data": {
      "text/plain": [
       "<matplotlib.collections.PathCollection at 0x225a25a2630>"
      ]
     },
     "execution_count": 267,
     "metadata": {},
     "output_type": "execute_result"
    },
    {
     "data": {
      "image/png": "[encoded data removed]",
      "text/plain": [
       "<Figure size 648x648 with 2 Axes>"
      ]
     },
     "metadata": {},
     "output_type": "display_data"
    }
   ],
   "source": [
    "fig = plt.figure(figsize =(9,9))\n",
    "plt.subplot(221)\n",
    "plt.hist(arr,bins = 20, color = 'b', alpha = 0.3, label = 'arr1')\n",
    "plt.hist(arr+1, bins = 20, color = 'r', alpha = 0.4, label = 'arr2')\n",
    "plt.legend()                  # 범례 만들기\n",
    "\n",
    "plt.subplot(222)\n",
    "plt.scatter(arr, arr, alpha = 0.3)\n",
    "plt.show()"
   ]
  },
  {
   "cell_type": "raw",
   "metadata": {},
   "source": [
    "하위 마진 간격조절"
   ]
  },
  {
   "cell_type": "code",
   "execution_count": 269,
   "metadata": {},
   "outputs": [
    {
     "data": {
      "text/plain": [
       "<matplotlib.axes._subplots.AxesSubplot at 0x225a2602eb8>"
      ]
     },
     "execution_count": 269,
     "metadata": {},
     "output_type": "execute_result"
    },
    {
     "data": {
      "text/plain": [
       "(array([1., 1., 0., 0., 0., 4., 5., 7., 4., 5., 3., 4., 2., 3., 3., 2., 0.,\n",
       "        3., 2., 1.]),\n",
       " array([-2.3015387 , -2.08144901, -1.86135931, -1.64126962, -1.42117993,\n",
       "        -1.20109024, -0.98100055, -0.76091086, -0.54082116, -0.32073147,\n",
       "        -0.10064178,  0.11944791,  0.3395376 ,  0.55962729,  0.77971699,\n",
       "         0.99980668,  1.21989637,  1.43998606,  1.66007575,  1.88016544,\n",
       "         2.10025514]),\n",
       " <a list of 20 Patch objects>)"
      ]
     },
     "execution_count": 269,
     "metadata": {},
     "output_type": "execute_result"
    },
    {
     "data": {
      "text/plain": [
       "(array([1., 1., 0., 0., 0., 4., 5., 7., 4., 5., 3., 4., 2., 3., 3., 2., 0.,\n",
       "        3., 2., 1.]),\n",
       " array([-1.3015387 , -1.08144901, -0.86135931, -0.64126962, -0.42117993,\n",
       "        -0.20109024,  0.01899945,  0.23908914,  0.45917884,  0.67926853,\n",
       "         0.89935822,  1.11944791,  1.3395376 ,  1.55962729,  1.77971699,\n",
       "         1.99980668,  2.21989637,  2.43998606,  2.66007575,  2.88016544,\n",
       "         3.10025514]),\n",
       " <a list of 20 Patch objects>)"
      ]
     },
     "execution_count": 269,
     "metadata": {},
     "output_type": "execute_result"
    },
    {
     "data": {
      "text/plain": [
       "<matplotlib.legend.Legend at 0x225a260d278>"
      ]
     },
     "execution_count": 269,
     "metadata": {},
     "output_type": "execute_result"
    },
    {
     "data": {
      "text/plain": [
       "<matplotlib.axes._subplots.AxesSubplot at 0x225a26eb5f8>"
      ]
     },
     "execution_count": 269,
     "metadata": {},
     "output_type": "execute_result"
    },
    {
     "data": {
      "text/plain": [
       "<matplotlib.collections.PathCollection at 0x225a27e95c0>"
      ]
     },
     "execution_count": 269,
     "metadata": {},
     "output_type": "execute_result"
    },
    {
     "data": {
      "image/png": "[encoded data removed]",
      "text/plain": [
       "<Figure size 648x648 with 2 Axes>"
      ]
     },
     "metadata": {},
     "output_type": "display_data"
    }
   ],
   "source": [
    "fig = plt.figure(figsize =(9,9))\n",
    "plt.subplot(221)\n",
    "plt.hist(arr,bins = 20, color = 'b', alpha = 0.3, label = 'arr1')\n",
    "plt.hist(arr+1, bins = 20, color = 'r', alpha = 0.4, label = 'arr2')\n",
    "plt.legend()                  # 범례 만들기\n",
    "\n",
    "\n",
    "plt.subplot(222)\n",
    "plt.scatter(arr, arr, alpha = 0.3)\n",
    "plt.tight_layout()                         # 마진을 타이트 하게 하자.\n",
    "plt.show()"
   ]
  },
  {
   "cell_type": "markdown",
   "metadata": {},
   "source": [
    "\n"
   ]
  },
  {
   "cell_type": "markdown",
   "metadata": {},
   "source": [
    "adjust 함수\n"
   ]
  },
  {
   "cell_type": "code",
   "execution_count": null,
   "metadata": {},
   "outputs": [],
   "source": []
  },
  {
   "cell_type": "code",
   "execution_count": 270,
   "metadata": {},
   "outputs": [
    {
     "data": {
      "text/plain": [
       "<matplotlib.axes._subplots.AxesSubplot at 0x225929c4a20>"
      ]
     },
     "execution_count": 270,
     "metadata": {},
     "output_type": "execute_result"
    },
    {
     "data": {
      "text/plain": [
       "(array([1., 1., 0., 0., 0., 4., 5., 7., 4., 5., 3., 4., 2., 3., 3., 2., 0.,\n",
       "        3., 2., 1.]),\n",
       " array([-2.3015387 , -2.08144901, -1.86135931, -1.64126962, -1.42117993,\n",
       "        -1.20109024, -0.98100055, -0.76091086, -0.54082116, -0.32073147,\n",
       "        -0.10064178,  0.11944791,  0.3395376 ,  0.55962729,  0.77971699,\n",
       "         0.99980668,  1.21989637,  1.43998606,  1.66007575,  1.88016544,\n",
       "         2.10025514]),\n",
       " <a list of 20 Patch objects>)"
      ]
     },
     "execution_count": 270,
     "metadata": {},
     "output_type": "execute_result"
    },
    {
     "data": {
      "text/plain": [
       "(array([1., 1., 0., 0., 0., 4., 5., 7., 4., 5., 3., 4., 2., 3., 3., 2., 0.,\n",
       "        3., 2., 1.]),\n",
       " array([-1.3015387 , -1.08144901, -0.86135931, -0.64126962, -0.42117993,\n",
       "        -0.20109024,  0.01899945,  0.23908914,  0.45917884,  0.67926853,\n",
       "         0.89935822,  1.11944791,  1.3395376 ,  1.55962729,  1.77971699,\n",
       "         1.99980668,  2.21989637,  2.43998606,  2.66007575,  2.88016544,\n",
       "         3.10025514]),\n",
       " <a list of 20 Patch objects>)"
      ]
     },
     "execution_count": 270,
     "metadata": {},
     "output_type": "execute_result"
    },
    {
     "data": {
      "text/plain": [
       "<matplotlib.legend.Legend at 0x225a2a03d30>"
      ]
     },
     "execution_count": 270,
     "metadata": {},
     "output_type": "execute_result"
    },
    {
     "data": {
      "text/plain": [
       "<matplotlib.axes._subplots.AxesSubplot at 0x225a2a03da0>"
      ]
     },
     "execution_count": 270,
     "metadata": {},
     "output_type": "execute_result"
    },
    {
     "data": {
      "text/plain": [
       "<matplotlib.collections.PathCollection at 0x225a2870d30>"
      ]
     },
     "execution_count": 270,
     "metadata": {},
     "output_type": "execute_result"
    },
    {
     "data": {
      "image/png": "[encoded data removed]",
      "text/plain": [
       "<Figure size 648x648 with 2 Axes>"
      ]
     },
     "metadata": {},
     "output_type": "display_data"
    }
   ],
   "source": [
    "fig = plt.figure(figsize =(9,9))\n",
    "plt.subplot(221)\n",
    "plt.hist(arr,bins = 20, color = 'b', alpha = 0.3, label = 'arr1')\n",
    "plt.hist(arr+1, bins = 20, color = 'r', alpha = 0.4, label = 'arr2')\n",
    "plt.legend()                  # 범례 만들기\n",
    "\n",
    "\n",
    "plt.subplot(222)\n",
    "plt.scatter(arr, arr, alpha = 0.3)\n",
    "plt.subplots_adjust(wspace = 0, hspace =0)\n",
    "plt.show()"
   ]
  },
  {
   "cell_type": "code",
   "execution_count": null,
   "metadata": {},
   "outputs": [],
   "source": []
  },
  {
   "cell_type": "markdown",
   "metadata": {},
   "source": [
    "그림을 파일로 저장"
   ]
  },
  {
   "cell_type": "code",
   "execution_count": null,
   "metadata": {},
   "outputs": [],
   "source": []
  },
  {
   "cell_type": "code",
   "execution_count": 275,
   "metadata": {},
   "outputs": [
    {
     "data": {
      "text/plain": [
       "<matplotlib.axes._subplots.AxesSubplot at 0x225a3054d68>"
      ]
     },
     "execution_count": 275,
     "metadata": {},
     "output_type": "execute_result"
    },
    {
     "data": {
      "text/plain": [
       "(array([1., 1., 0., 0., 0., 4., 5., 7., 4., 5., 3., 4., 2., 3., 3., 2., 0.,\n",
       "        3., 2., 1.]),\n",
       " array([-2.3015387 , -2.08144901, -1.86135931, -1.64126962, -1.42117993,\n",
       "        -1.20109024, -0.98100055, -0.76091086, -0.54082116, -0.32073147,\n",
       "        -0.10064178,  0.11944791,  0.3395376 ,  0.55962729,  0.77971699,\n",
       "         0.99980668,  1.21989637,  1.43998606,  1.66007575,  1.88016544,\n",
       "         2.10025514]),\n",
       " <a list of 20 Patch objects>)"
      ]
     },
     "execution_count": 275,
     "metadata": {},
     "output_type": "execute_result"
    },
    {
     "data": {
      "text/plain": [
       "(array([1., 1., 0., 0., 0., 4., 5., 7., 4., 5., 3., 4., 2., 3., 3., 2., 0.,\n",
       "        3., 2., 1.]),\n",
       " array([-1.3015387 , -1.08144901, -0.86135931, -0.64126962, -0.42117993,\n",
       "        -0.20109024,  0.01899945,  0.23908914,  0.45917884,  0.67926853,\n",
       "         0.89935822,  1.11944791,  1.3395376 ,  1.55962729,  1.77971699,\n",
       "         1.99980668,  2.21989637,  2.43998606,  2.66007575,  2.88016544,\n",
       "         3.10025514]),\n",
       " <a list of 20 Patch objects>)"
      ]
     },
     "execution_count": 275,
     "metadata": {},
     "output_type": "execute_result"
    },
    {
     "data": {
      "text/plain": [
       "<matplotlib.legend.Legend at 0x225a3107be0>"
      ]
     },
     "execution_count": 275,
     "metadata": {},
     "output_type": "execute_result"
    },
    {
     "data": {
      "text/plain": [
       "<matplotlib.axes._subplots.AxesSubplot at 0x225a3107cf8>"
      ]
     },
     "execution_count": 275,
     "metadata": {},
     "output_type": "execute_result"
    },
    {
     "data": {
      "text/plain": [
       "<matplotlib.collections.PathCollection at 0x225a3348c50>"
      ]
     },
     "execution_count": 275,
     "metadata": {},
     "output_type": "execute_result"
    },
    {
     "data": {
      "image/png": "[encoded data removed]",
      "text/plain": [
       "<Figure size 648x648 with 2 Axes>"
      ]
     },
     "metadata": {},
     "output_type": "display_data"
    }
   ],
   "source": [
    "fig = plt.figure(figsize =(9,9))\n",
    "plt.subplot(221)\n",
    "plt.hist(arr,bins = 20, color = 'b', alpha = 0.3, label = 'arr1')\n",
    "plt.hist(arr+1, bins = 20, color = 'r', alpha = 0.4, label = 'arr2')\n",
    "plt.legend()                  # 범례 만들기\n",
    "\n",
    "\n",
    "plt.subplot(222)\n",
    "plt.scatter(arr, arr, alpha = 0.3)\n",
    "plt.savefig('figures/fig1.png', dpi = 400, # dpi 높을수록 해상도가 높다. \n",
    "           bbox_inches = 'tight')          # 여백 없애기 옵션\n",
    "plt.show()\n",
    "plt.close()\n"
   ]
  },
  {
   "cell_type": "code",
   "execution_count": null,
   "metadata": {},
   "outputs": [],
   "source": []
  },
  {
   "cell_type": "markdown",
   "metadata": {},
   "source": [
    "색상 카머 선 스타일\n"
   ]
  },
  {
   "cell_type": "code",
   "execution_count": 279,
   "metadata": {},
   "outputs": [
    {
     "data": {
      "text/plain": [
       "[<matplotlib.lines.Line2D at 0x225a34c9d30>]"
      ]
     },
     "execution_count": 279,
     "metadata": {},
     "output_type": "execute_result"
    },
    {
     "data": {
      "image/png": "[encoded data removed]",
      "text/plain": [
       "<Figure size 432x288 with 1 Axes>"
      ]
     },
     "metadata": {},
     "output_type": "display_data"
    }
   ],
   "source": [
    "plt.plot(arr[:100], 'b--')\n",
    "plt.show()"
   ]
  },
  {
   "cell_type": "code",
   "execution_count": null,
   "metadata": {},
   "outputs": [],
   "source": []
  },
  {
   "cell_type": "code",
   "execution_count": 285,
   "metadata": {
    "scrolled": true
   },
   "outputs": [
    {
     "data": {
      "text/html": [
       "<div>\n",
       "<style scoped>\n",
       "    .dataframe tbody tr th:only-of-type {\n",
       "        vertical-align: middle;\n",
       "    }\n",
       "\n",
       "    .dataframe tbody tr th {\n",
       "        vertical-align: top;\n",
       "    }\n",
       "\n",
       "    .dataframe thead th {\n",
       "        text-align: right;\n",
       "    }\n",
       "</style>\n",
       "<table border=\"1\" class=\"dataframe\">\n",
       "  <thead>\n",
       "    <tr style=\"text-align: right;\">\n",
       "      <th></th>\n",
       "      <th>Id</th>\n",
       "      <th>SepalLengthCm</th>\n",
       "      <th>SepalWidthCm</th>\n",
       "      <th>PetalLengthCm</th>\n",
       "      <th>PetalWidthCm</th>\n",
       "      <th>Species</th>\n",
       "    </tr>\n",
       "  </thead>\n",
       "  <tbody>\n",
       "    <tr>\n",
       "      <th>0</th>\n",
       "      <td>1</td>\n",
       "      <td>5.1</td>\n",
       "      <td>3.5</td>\n",
       "      <td>1.4</td>\n",
       "      <td>0.2</td>\n",
       "      <td>Iris-setosa</td>\n",
       "    </tr>\n",
       "    <tr>\n",
       "      <th>1</th>\n",
       "      <td>2</td>\n",
       "      <td>4.9</td>\n",
       "      <td>3.0</td>\n",
       "      <td>1.4</td>\n",
       "      <td>0.2</td>\n",
       "      <td>Iris-setosa</td>\n",
       "    </tr>\n",
       "    <tr>\n",
       "      <th>2</th>\n",
       "      <td>3</td>\n",
       "      <td>4.7</td>\n",
       "      <td>3.2</td>\n",
       "      <td>1.3</td>\n",
       "      <td>0.2</td>\n",
       "      <td>Iris-setosa</td>\n",
       "    </tr>\n",
       "    <tr>\n",
       "      <th>3</th>\n",
       "      <td>4</td>\n",
       "      <td>4.6</td>\n",
       "      <td>3.1</td>\n",
       "      <td>1.5</td>\n",
       "      <td>0.2</td>\n",
       "      <td>Iris-setosa</td>\n",
       "    </tr>\n",
       "    <tr>\n",
       "      <th>4</th>\n",
       "      <td>5</td>\n",
       "      <td>5.0</td>\n",
       "      <td>3.6</td>\n",
       "      <td>1.4</td>\n",
       "      <td>0.2</td>\n",
       "      <td>Iris-setosa</td>\n",
       "    </tr>\n",
       "  </tbody>\n",
       "</table>\n",
       "</div>"
      ],
      "text/plain": [
       "   Id  SepalLengthCm  SepalWidthCm  PetalLengthCm  PetalWidthCm      Species\n",
       "0   1            5.1           3.5            1.4           0.2  Iris-setosa\n",
       "1   2            4.9           3.0            1.4           0.2  Iris-setosa\n",
       "2   3            4.7           3.2            1.3           0.2  Iris-setosa\n",
       "3   4            4.6           3.1            1.5           0.2  Iris-setosa\n",
       "4   5            5.0           3.6            1.4           0.2  Iris-setosa"
      ]
     },
     "execution_count": 285,
     "metadata": {},
     "output_type": "execute_result"
    },
    {
     "data": {
      "text/html": [
       "<div>\n",
       "<style scoped>\n",
       "    .dataframe tbody tr th:only-of-type {\n",
       "        vertical-align: middle;\n",
       "    }\n",
       "\n",
       "    .dataframe tbody tr th {\n",
       "        vertical-align: top;\n",
       "    }\n",
       "\n",
       "    .dataframe thead th {\n",
       "        text-align: right;\n",
       "    }\n",
       "</style>\n",
       "<table border=\"1\" class=\"dataframe\">\n",
       "  <thead>\n",
       "    <tr style=\"text-align: right;\">\n",
       "      <th></th>\n",
       "      <th>Id</th>\n",
       "      <th>SepalLengthCm</th>\n",
       "      <th>SepalWidthCm</th>\n",
       "      <th>PetalLengthCm</th>\n",
       "      <th>PetalWidthCm</th>\n",
       "      <th>Species</th>\n",
       "    </tr>\n",
       "  </thead>\n",
       "  <tbody>\n",
       "    <tr>\n",
       "      <th>0</th>\n",
       "      <td>1</td>\n",
       "      <td>5.1</td>\n",
       "      <td>3.5</td>\n",
       "      <td>1.4</td>\n",
       "      <td>0.2</td>\n",
       "      <td>Iris-setosa</td>\n",
       "    </tr>\n",
       "    <tr>\n",
       "      <th>1</th>\n",
       "      <td>2</td>\n",
       "      <td>4.9</td>\n",
       "      <td>3.0</td>\n",
       "      <td>1.4</td>\n",
       "      <td>0.2</td>\n",
       "      <td>Iris-setosa</td>\n",
       "    </tr>\n",
       "    <tr>\n",
       "      <th>2</th>\n",
       "      <td>3</td>\n",
       "      <td>4.7</td>\n",
       "      <td>3.2</td>\n",
       "      <td>1.3</td>\n",
       "      <td>0.2</td>\n",
       "      <td>Iris-setosa</td>\n",
       "    </tr>\n",
       "    <tr>\n",
       "      <th>3</th>\n",
       "      <td>4</td>\n",
       "      <td>4.6</td>\n",
       "      <td>3.1</td>\n",
       "      <td>1.5</td>\n",
       "      <td>0.2</td>\n",
       "      <td>Iris-setosa</td>\n",
       "    </tr>\n",
       "    <tr>\n",
       "      <th>4</th>\n",
       "      <td>5</td>\n",
       "      <td>5.0</td>\n",
       "      <td>3.6</td>\n",
       "      <td>1.4</td>\n",
       "      <td>0.2</td>\n",
       "      <td>Iris-setosa</td>\n",
       "    </tr>\n",
       "    <tr>\n",
       "      <th>5</th>\n",
       "      <td>6</td>\n",
       "      <td>5.4</td>\n",
       "      <td>3.9</td>\n",
       "      <td>1.7</td>\n",
       "      <td>0.4</td>\n",
       "      <td>Iris-setosa</td>\n",
       "    </tr>\n",
       "    <tr>\n",
       "      <th>6</th>\n",
       "      <td>7</td>\n",
       "      <td>4.6</td>\n",
       "      <td>3.4</td>\n",
       "      <td>1.4</td>\n",
       "      <td>0.3</td>\n",
       "      <td>Iris-setosa</td>\n",
       "    </tr>\n",
       "    <tr>\n",
       "      <th>7</th>\n",
       "      <td>8</td>\n",
       "      <td>5.0</td>\n",
       "      <td>3.4</td>\n",
       "      <td>1.5</td>\n",
       "      <td>0.2</td>\n",
       "      <td>Iris-setosa</td>\n",
       "    </tr>\n",
       "    <tr>\n",
       "      <th>8</th>\n",
       "      <td>9</td>\n",
       "      <td>4.4</td>\n",
       "      <td>2.9</td>\n",
       "      <td>1.4</td>\n",
       "      <td>0.2</td>\n",
       "      <td>Iris-setosa</td>\n",
       "    </tr>\n",
       "    <tr>\n",
       "      <th>9</th>\n",
       "      <td>10</td>\n",
       "      <td>4.9</td>\n",
       "      <td>3.1</td>\n",
       "      <td>1.5</td>\n",
       "      <td>0.1</td>\n",
       "      <td>Iris-setosa</td>\n",
       "    </tr>\n",
       "    <tr>\n",
       "      <th>10</th>\n",
       "      <td>11</td>\n",
       "      <td>5.4</td>\n",
       "      <td>3.7</td>\n",
       "      <td>1.5</td>\n",
       "      <td>0.2</td>\n",
       "      <td>Iris-setosa</td>\n",
       "    </tr>\n",
       "    <tr>\n",
       "      <th>11</th>\n",
       "      <td>12</td>\n",
       "      <td>4.8</td>\n",
       "      <td>3.4</td>\n",
       "      <td>1.6</td>\n",
       "      <td>0.2</td>\n",
       "      <td>Iris-setosa</td>\n",
       "    </tr>\n",
       "    <tr>\n",
       "      <th>12</th>\n",
       "      <td>13</td>\n",
       "      <td>4.8</td>\n",
       "      <td>3.0</td>\n",
       "      <td>1.4</td>\n",
       "      <td>0.1</td>\n",
       "      <td>Iris-setosa</td>\n",
       "    </tr>\n",
       "    <tr>\n",
       "      <th>13</th>\n",
       "      <td>14</td>\n",
       "      <td>4.3</td>\n",
       "      <td>3.0</td>\n",
       "      <td>1.1</td>\n",
       "      <td>0.1</td>\n",
       "      <td>Iris-setosa</td>\n",
       "    </tr>\n",
       "    <tr>\n",
       "      <th>14</th>\n",
       "      <td>15</td>\n",
       "      <td>5.8</td>\n",
       "      <td>4.0</td>\n",
       "      <td>1.2</td>\n",
       "      <td>0.2</td>\n",
       "      <td>Iris-setosa</td>\n",
       "    </tr>\n",
       "    <tr>\n",
       "      <th>15</th>\n",
       "      <td>16</td>\n",
       "      <td>5.7</td>\n",
       "      <td>4.4</td>\n",
       "      <td>1.5</td>\n",
       "      <td>0.4</td>\n",
       "      <td>Iris-setosa</td>\n",
       "    </tr>\n",
       "    <tr>\n",
       "      <th>16</th>\n",
       "      <td>17</td>\n",
       "      <td>5.4</td>\n",
       "      <td>3.9</td>\n",
       "      <td>1.3</td>\n",
       "      <td>0.4</td>\n",
       "      <td>Iris-setosa</td>\n",
       "    </tr>\n",
       "    <tr>\n",
       "      <th>17</th>\n",
       "      <td>18</td>\n",
       "      <td>5.1</td>\n",
       "      <td>3.5</td>\n",
       "      <td>1.4</td>\n",
       "      <td>0.3</td>\n",
       "      <td>Iris-setosa</td>\n",
       "    </tr>\n",
       "    <tr>\n",
       "      <th>18</th>\n",
       "      <td>19</td>\n",
       "      <td>5.7</td>\n",
       "      <td>3.8</td>\n",
       "      <td>1.7</td>\n",
       "      <td>0.3</td>\n",
       "      <td>Iris-setosa</td>\n",
       "    </tr>\n",
       "    <tr>\n",
       "      <th>19</th>\n",
       "      <td>20</td>\n",
       "      <td>5.1</td>\n",
       "      <td>3.8</td>\n",
       "      <td>1.5</td>\n",
       "      <td>0.3</td>\n",
       "      <td>Iris-setosa</td>\n",
       "    </tr>\n",
       "    <tr>\n",
       "      <th>20</th>\n",
       "      <td>21</td>\n",
       "      <td>5.4</td>\n",
       "      <td>3.4</td>\n",
       "      <td>1.7</td>\n",
       "      <td>0.2</td>\n",
       "      <td>Iris-setosa</td>\n",
       "    </tr>\n",
       "    <tr>\n",
       "      <th>21</th>\n",
       "      <td>22</td>\n",
       "      <td>5.1</td>\n",
       "      <td>3.7</td>\n",
       "      <td>1.5</td>\n",
       "      <td>0.4</td>\n",
       "      <td>Iris-setosa</td>\n",
       "    </tr>\n",
       "    <tr>\n",
       "      <th>22</th>\n",
       "      <td>23</td>\n",
       "      <td>4.6</td>\n",
       "      <td>3.6</td>\n",
       "      <td>1.0</td>\n",
       "      <td>0.2</td>\n",
       "      <td>Iris-setosa</td>\n",
       "    </tr>\n",
       "    <tr>\n",
       "      <th>23</th>\n",
       "      <td>24</td>\n",
       "      <td>5.1</td>\n",
       "      <td>3.3</td>\n",
       "      <td>1.7</td>\n",
       "      <td>0.5</td>\n",
       "      <td>Iris-setosa</td>\n",
       "    </tr>\n",
       "    <tr>\n",
       "      <th>24</th>\n",
       "      <td>25</td>\n",
       "      <td>4.8</td>\n",
       "      <td>3.4</td>\n",
       "      <td>1.9</td>\n",
       "      <td>0.2</td>\n",
       "      <td>Iris-setosa</td>\n",
       "    </tr>\n",
       "    <tr>\n",
       "      <th>25</th>\n",
       "      <td>26</td>\n",
       "      <td>5.0</td>\n",
       "      <td>3.0</td>\n",
       "      <td>1.6</td>\n",
       "      <td>0.2</td>\n",
       "      <td>Iris-setosa</td>\n",
       "    </tr>\n",
       "    <tr>\n",
       "      <th>26</th>\n",
       "      <td>27</td>\n",
       "      <td>5.0</td>\n",
       "      <td>3.4</td>\n",
       "      <td>1.6</td>\n",
       "      <td>0.4</td>\n",
       "      <td>Iris-setosa</td>\n",
       "    </tr>\n",
       "    <tr>\n",
       "      <th>27</th>\n",
       "      <td>28</td>\n",
       "      <td>5.2</td>\n",
       "      <td>3.5</td>\n",
       "      <td>1.5</td>\n",
       "      <td>0.2</td>\n",
       "      <td>Iris-setosa</td>\n",
       "    </tr>\n",
       "    <tr>\n",
       "      <th>28</th>\n",
       "      <td>29</td>\n",
       "      <td>5.2</td>\n",
       "      <td>3.4</td>\n",
       "      <td>1.4</td>\n",
       "      <td>0.2</td>\n",
       "      <td>Iris-setosa</td>\n",
       "    </tr>\n",
       "    <tr>\n",
       "      <th>29</th>\n",
       "      <td>30</td>\n",
       "      <td>4.7</td>\n",
       "      <td>3.2</td>\n",
       "      <td>1.6</td>\n",
       "      <td>0.2</td>\n",
       "      <td>Iris-setosa</td>\n",
       "    </tr>\n",
       "    <tr>\n",
       "      <th>...</th>\n",
       "      <td>...</td>\n",
       "      <td>...</td>\n",
       "      <td>...</td>\n",
       "      <td>...</td>\n",
       "      <td>...</td>\n",
       "      <td>...</td>\n",
       "    </tr>\n",
       "    <tr>\n",
       "      <th>120</th>\n",
       "      <td>121</td>\n",
       "      <td>6.9</td>\n",
       "      <td>3.2</td>\n",
       "      <td>5.7</td>\n",
       "      <td>2.3</td>\n",
       "      <td>Iris-virginica</td>\n",
       "    </tr>\n",
       "    <tr>\n",
       "      <th>121</th>\n",
       "      <td>122</td>\n",
       "      <td>5.6</td>\n",
       "      <td>2.8</td>\n",
       "      <td>4.9</td>\n",
       "      <td>2.0</td>\n",
       "      <td>Iris-virginica</td>\n",
       "    </tr>\n",
       "    <tr>\n",
       "      <th>122</th>\n",
       "      <td>123</td>\n",
       "      <td>7.7</td>\n",
       "      <td>2.8</td>\n",
       "      <td>6.7</td>\n",
       "      <td>2.0</td>\n",
       "      <td>Iris-virginica</td>\n",
       "    </tr>\n",
       "    <tr>\n",
       "      <th>123</th>\n",
       "      <td>124</td>\n",
       "      <td>6.3</td>\n",
       "      <td>2.7</td>\n",
       "      <td>4.9</td>\n",
       "      <td>1.8</td>\n",
       "      <td>Iris-virginica</td>\n",
       "    </tr>\n",
       "    <tr>\n",
       "      <th>124</th>\n",
       "      <td>125</td>\n",
       "      <td>6.7</td>\n",
       "      <td>3.3</td>\n",
       "      <td>5.7</td>\n",
       "      <td>2.1</td>\n",
       "      <td>Iris-virginica</td>\n",
       "    </tr>\n",
       "    <tr>\n",
       "      <th>125</th>\n",
       "      <td>126</td>\n",
       "      <td>7.2</td>\n",
       "      <td>3.2</td>\n",
       "      <td>6.0</td>\n",
       "      <td>1.8</td>\n",
       "      <td>Iris-virginica</td>\n",
       "    </tr>\n",
       "    <tr>\n",
       "      <th>126</th>\n",
       "      <td>127</td>\n",
       "      <td>6.2</td>\n",
       "      <td>2.8</td>\n",
       "      <td>4.8</td>\n",
       "      <td>1.8</td>\n",
       "      <td>Iris-virginica</td>\n",
       "    </tr>\n",
       "    <tr>\n",
       "      <th>127</th>\n",
       "      <td>128</td>\n",
       "      <td>6.1</td>\n",
       "      <td>3.0</td>\n",
       "      <td>4.9</td>\n",
       "      <td>1.8</td>\n",
       "      <td>Iris-virginica</td>\n",
       "    </tr>\n",
       "    <tr>\n",
       "      <th>128</th>\n",
       "      <td>129</td>\n",
       "      <td>6.4</td>\n",
       "      <td>2.8</td>\n",
       "      <td>5.6</td>\n",
       "      <td>2.1</td>\n",
       "      <td>Iris-virginica</td>\n",
       "    </tr>\n",
       "    <tr>\n",
       "      <th>129</th>\n",
       "      <td>130</td>\n",
       "      <td>7.2</td>\n",
       "      <td>3.0</td>\n",
       "      <td>5.8</td>\n",
       "      <td>1.6</td>\n",
       "      <td>Iris-virginica</td>\n",
       "    </tr>\n",
       "    <tr>\n",
       "      <th>130</th>\n",
       "      <td>131</td>\n",
       "      <td>7.4</td>\n",
       "      <td>2.8</td>\n",
       "      <td>6.1</td>\n",
       "      <td>1.9</td>\n",
       "      <td>Iris-virginica</td>\n",
       "    </tr>\n",
       "    <tr>\n",
       "      <th>131</th>\n",
       "      <td>132</td>\n",
       "      <td>7.9</td>\n",
       "      <td>3.8</td>\n",
       "      <td>6.4</td>\n",
       "      <td>2.0</td>\n",
       "      <td>Iris-virginica</td>\n",
       "    </tr>\n",
       "    <tr>\n",
       "      <th>132</th>\n",
       "      <td>133</td>\n",
       "      <td>6.4</td>\n",
       "      <td>2.8</td>\n",
       "      <td>5.6</td>\n",
       "      <td>2.2</td>\n",
       "      <td>Iris-virginica</td>\n",
       "    </tr>\n",
       "    <tr>\n",
       "      <th>133</th>\n",
       "      <td>134</td>\n",
       "      <td>6.3</td>\n",
       "      <td>2.8</td>\n",
       "      <td>5.1</td>\n",
       "      <td>1.5</td>\n",
       "      <td>Iris-virginica</td>\n",
       "    </tr>\n",
       "    <tr>\n",
       "      <th>134</th>\n",
       "      <td>135</td>\n",
       "      <td>6.1</td>\n",
       "      <td>2.6</td>\n",
       "      <td>5.6</td>\n",
       "      <td>1.4</td>\n",
       "      <td>Iris-virginica</td>\n",
       "    </tr>\n",
       "    <tr>\n",
       "      <th>135</th>\n",
       "      <td>136</td>\n",
       "      <td>7.7</td>\n",
       "      <td>3.0</td>\n",
       "      <td>6.1</td>\n",
       "      <td>2.3</td>\n",
       "      <td>Iris-virginica</td>\n",
       "    </tr>\n",
       "    <tr>\n",
       "      <th>136</th>\n",
       "      <td>137</td>\n",
       "      <td>6.3</td>\n",
       "      <td>3.4</td>\n",
       "      <td>5.6</td>\n",
       "      <td>2.4</td>\n",
       "      <td>Iris-virginica</td>\n",
       "    </tr>\n",
       "    <tr>\n",
       "      <th>137</th>\n",
       "      <td>138</td>\n",
       "      <td>6.4</td>\n",
       "      <td>3.1</td>\n",
       "      <td>5.5</td>\n",
       "      <td>1.8</td>\n",
       "      <td>Iris-virginica</td>\n",
       "    </tr>\n",
       "    <tr>\n",
       "      <th>138</th>\n",
       "      <td>139</td>\n",
       "      <td>6.0</td>\n",
       "      <td>3.0</td>\n",
       "      <td>4.8</td>\n",
       "      <td>1.8</td>\n",
       "      <td>Iris-virginica</td>\n",
       "    </tr>\n",
       "    <tr>\n",
       "      <th>139</th>\n",
       "      <td>140</td>\n",
       "      <td>6.9</td>\n",
       "      <td>3.1</td>\n",
       "      <td>5.4</td>\n",
       "      <td>2.1</td>\n",
       "      <td>Iris-virginica</td>\n",
       "    </tr>\n",
       "    <tr>\n",
       "      <th>140</th>\n",
       "      <td>141</td>\n",
       "      <td>6.7</td>\n",
       "      <td>3.1</td>\n",
       "      <td>5.6</td>\n",
       "      <td>2.4</td>\n",
       "      <td>Iris-virginica</td>\n",
       "    </tr>\n",
       "    <tr>\n",
       "      <th>141</th>\n",
       "      <td>142</td>\n",
       "      <td>6.9</td>\n",
       "      <td>3.1</td>\n",
       "      <td>5.1</td>\n",
       "      <td>2.3</td>\n",
       "      <td>Iris-virginica</td>\n",
       "    </tr>\n",
       "    <tr>\n",
       "      <th>142</th>\n",
       "      <td>143</td>\n",
       "      <td>5.8</td>\n",
       "      <td>2.7</td>\n",
       "      <td>5.1</td>\n",
       "      <td>1.9</td>\n",
       "      <td>Iris-virginica</td>\n",
       "    </tr>\n",
       "    <tr>\n",
       "      <th>143</th>\n",
       "      <td>144</td>\n",
       "      <td>6.8</td>\n",
       "      <td>3.2</td>\n",
       "      <td>5.9</td>\n",
       "      <td>2.3</td>\n",
       "      <td>Iris-virginica</td>\n",
       "    </tr>\n",
       "    <tr>\n",
       "      <th>144</th>\n",
       "      <td>145</td>\n",
       "      <td>6.7</td>\n",
       "      <td>3.3</td>\n",
       "      <td>5.7</td>\n",
       "      <td>2.5</td>\n",
       "      <td>Iris-virginica</td>\n",
       "    </tr>\n",
       "    <tr>\n",
       "      <th>145</th>\n",
       "      <td>146</td>\n",
       "      <td>6.7</td>\n",
       "      <td>3.0</td>\n",
       "      <td>5.2</td>\n",
       "      <td>2.3</td>\n",
       "      <td>Iris-virginica</td>\n",
       "    </tr>\n",
       "    <tr>\n",
       "      <th>146</th>\n",
       "      <td>147</td>\n",
       "      <td>6.3</td>\n",
       "      <td>2.5</td>\n",
       "      <td>5.0</td>\n",
       "      <td>1.9</td>\n",
       "      <td>Iris-virginica</td>\n",
       "    </tr>\n",
       "    <tr>\n",
       "      <th>147</th>\n",
       "      <td>148</td>\n",
       "      <td>6.5</td>\n",
       "      <td>3.0</td>\n",
       "      <td>5.2</td>\n",
       "      <td>2.0</td>\n",
       "      <td>Iris-virginica</td>\n",
       "    </tr>\n",
       "    <tr>\n",
       "      <th>148</th>\n",
       "      <td>149</td>\n",
       "      <td>6.2</td>\n",
       "      <td>3.4</td>\n",
       "      <td>5.4</td>\n",
       "      <td>2.3</td>\n",
       "      <td>Iris-virginica</td>\n",
       "    </tr>\n",
       "    <tr>\n",
       "      <th>149</th>\n",
       "      <td>150</td>\n",
       "      <td>5.9</td>\n",
       "      <td>3.0</td>\n",
       "      <td>5.1</td>\n",
       "      <td>1.8</td>\n",
       "      <td>Iris-virginica</td>\n",
       "    </tr>\n",
       "  </tbody>\n",
       "</table>\n",
       "<p>150 rows × 6 columns</p>\n",
       "</div>"
      ],
      "text/plain": [
       "      Id  SepalLengthCm  SepalWidthCm  PetalLengthCm  PetalWidthCm  \\\n",
       "0      1            5.1           3.5            1.4           0.2   \n",
       "1      2            4.9           3.0            1.4           0.2   \n",
       "2      3            4.7           3.2            1.3           0.2   \n",
       "3      4            4.6           3.1            1.5           0.2   \n",
       "4      5            5.0           3.6            1.4           0.2   \n",
       "5      6            5.4           3.9            1.7           0.4   \n",
       "6      7            4.6           3.4            1.4           0.3   \n",
       "7      8            5.0           3.4            1.5           0.2   \n",
       "8      9            4.4           2.9            1.4           0.2   \n",
       "9     10            4.9           3.1            1.5           0.1   \n",
       "10    11            5.4           3.7            1.5           0.2   \n",
       "11    12            4.8           3.4            1.6           0.2   \n",
       "12    13            4.8           3.0            1.4           0.1   \n",
       "13    14            4.3           3.0            1.1           0.1   \n",
       "14    15            5.8           4.0            1.2           0.2   \n",
       "15    16            5.7           4.4            1.5           0.4   \n",
       "16    17            5.4           3.9            1.3           0.4   \n",
       "17    18            5.1           3.5            1.4           0.3   \n",
       "18    19            5.7           3.8            1.7           0.3   \n",
       "19    20            5.1           3.8            1.5           0.3   \n",
       "20    21            5.4           3.4            1.7           0.2   \n",
       "21    22            5.1           3.7            1.5           0.4   \n",
       "22    23            4.6           3.6            1.0           0.2   \n",
       "23    24            5.1           3.3            1.7           0.5   \n",
       "24    25            4.8           3.4            1.9           0.2   \n",
       "25    26            5.0           3.0            1.6           0.2   \n",
       "26    27            5.0           3.4            1.6           0.4   \n",
       "27    28            5.2           3.5            1.5           0.2   \n",
       "28    29            5.2           3.4            1.4           0.2   \n",
       "29    30            4.7           3.2            1.6           0.2   \n",
       "..   ...            ...           ...            ...           ...   \n",
       "120  121            6.9           3.2            5.7           2.3   \n",
       "121  122            5.6           2.8            4.9           2.0   \n",
       "122  123            7.7           2.8            6.7           2.0   \n",
       "123  124            6.3           2.7            4.9           1.8   \n",
       "124  125            6.7           3.3            5.7           2.1   \n",
       "125  126            7.2           3.2            6.0           1.8   \n",
       "126  127            6.2           2.8            4.8           1.8   \n",
       "127  128            6.1           3.0            4.9           1.8   \n",
       "128  129            6.4           2.8            5.6           2.1   \n",
       "129  130            7.2           3.0            5.8           1.6   \n",
       "130  131            7.4           2.8            6.1           1.9   \n",
       "131  132            7.9           3.8            6.4           2.0   \n",
       "132  133            6.4           2.8            5.6           2.2   \n",
       "133  134            6.3           2.8            5.1           1.5   \n",
       "134  135            6.1           2.6            5.6           1.4   \n",
       "135  136            7.7           3.0            6.1           2.3   \n",
       "136  137            6.3           3.4            5.6           2.4   \n",
       "137  138            6.4           3.1            5.5           1.8   \n",
       "138  139            6.0           3.0            4.8           1.8   \n",
       "139  140            6.9           3.1            5.4           2.1   \n",
       "140  141            6.7           3.1            5.6           2.4   \n",
       "141  142            6.9           3.1            5.1           2.3   \n",
       "142  143            5.8           2.7            5.1           1.9   \n",
       "143  144            6.8           3.2            5.9           2.3   \n",
       "144  145            6.7           3.3            5.7           2.5   \n",
       "145  146            6.7           3.0            5.2           2.3   \n",
       "146  147            6.3           2.5            5.0           1.9   \n",
       "147  148            6.5           3.0            5.2           2.0   \n",
       "148  149            6.2           3.4            5.4           2.3   \n",
       "149  150            5.9           3.0            5.1           1.8   \n",
       "\n",
       "            Species  \n",
       "0       Iris-setosa  \n",
       "1       Iris-setosa  \n",
       "2       Iris-setosa  \n",
       "3       Iris-setosa  \n",
       "4       Iris-setosa  \n",
       "5       Iris-setosa  \n",
       "6       Iris-setosa  \n",
       "7       Iris-setosa  \n",
       "8       Iris-setosa  \n",
       "9       Iris-setosa  \n",
       "10      Iris-setosa  \n",
       "11      Iris-setosa  \n",
       "12      Iris-setosa  \n",
       "13      Iris-setosa  \n",
       "14      Iris-setosa  \n",
       "15      Iris-setosa  \n",
       "16      Iris-setosa  \n",
       "17      Iris-setosa  \n",
       "18      Iris-setosa  \n",
       "19      Iris-setosa  \n",
       "20      Iris-setosa  \n",
       "21      Iris-setosa  \n",
       "22      Iris-setosa  \n",
       "23      Iris-setosa  \n",
       "24      Iris-setosa  \n",
       "25      Iris-setosa  \n",
       "26      Iris-setosa  \n",
       "27      Iris-setosa  \n",
       "28      Iris-setosa  \n",
       "29      Iris-setosa  \n",
       "..              ...  \n",
       "120  Iris-virginica  \n",
       "121  Iris-virginica  \n",
       "122  Iris-virginica  \n",
       "123  Iris-virginica  \n",
       "124  Iris-virginica  \n",
       "125  Iris-virginica  \n",
       "126  Iris-virginica  \n",
       "127  Iris-virginica  \n",
       "128  Iris-virginica  \n",
       "129  Iris-virginica  \n",
       "130  Iris-virginica  \n",
       "131  Iris-virginica  \n",
       "132  Iris-virginica  \n",
       "133  Iris-virginica  \n",
       "134  Iris-virginica  \n",
       "135  Iris-virginica  \n",
       "136  Iris-virginica  \n",
       "137  Iris-virginica  \n",
       "138  Iris-virginica  \n",
       "139  Iris-virginica  \n",
       "140  Iris-virginica  \n",
       "141  Iris-virginica  \n",
       "142  Iris-virginica  \n",
       "143  Iris-virginica  \n",
       "144  Iris-virginica  \n",
       "145  Iris-virginica  \n",
       "146  Iris-virginica  \n",
       "147  Iris-virginica  \n",
       "148  Iris-virginica  \n",
       "149  Iris-virginica  \n",
       "\n",
       "[150 rows x 6 columns]"
      ]
     },
     "execution_count": 285,
     "metadata": {},
     "output_type": "execute_result"
    }
   ],
   "source": [
    "iris = pd.read_csv('data_iris/Iris.csv')\n",
    "iris.head()\n",
    "iris"
   ]
  },
  {
   "cell_type": "code",
   "execution_count": 283,
   "metadata": {},
   "outputs": [
    {
     "data": {
      "text/plain": [
       "<matplotlib.axes._subplots.AxesSubplot at 0x225a34d28d0>"
      ]
     },
     "execution_count": 283,
     "metadata": {},
     "output_type": "execute_result"
    },
    {
     "data": {
      "image/png": "[encoded data removed]",
      "text/plain": [
       "<Figure size 432x288 with 1 Axes>"
      ]
     },
     "metadata": {},
     "output_type": "display_data"
    }
   ],
   "source": [
    "var = 'SepalLengthCm'\n",
    "iris[var].plot()\n",
    "plt.show()"
   ]
  },
  {
   "cell_type": "code",
   "execution_count": 284,
   "metadata": {},
   "outputs": [
    {
     "data": {
      "text/plain": [
       "<matplotlib.axes._subplots.AxesSubplot at 0x225a3447908>"
      ]
     },
     "execution_count": 284,
     "metadata": {},
     "output_type": "execute_result"
    },
    {
     "data": {
      "text/plain": [
       "<matplotlib.axes._subplots.AxesSubplot at 0x225a3447908>"
      ]
     },
     "execution_count": 284,
     "metadata": {},
     "output_type": "execute_result"
    },
    {
     "data": {
      "text/plain": [
       "<matplotlib.axes._subplots.AxesSubplot at 0x225a3447908>"
      ]
     },
     "execution_count": 284,
     "metadata": {},
     "output_type": "execute_result"
    },
    {
     "data": {
      "image/png": "[encoded data removed]",
      "text/plain": [
       "<Figure size 432x288 with 1 Axes>"
      ]
     },
     "metadata": {},
     "output_type": "display_data"
    }
   ],
   "source": [
    "for key, data in iris.groupby('Species'):  # 가로축이 index, 세로축이 그 값.\n",
    "    data[var].plot()\n",
    "plt.show()"
   ]
  },
  {
   "cell_type": "markdown",
   "metadata": {},
   "source": [
    "범례 적용시키기"
   ]
  },
  {
   "cell_type": "code",
   "execution_count": 291,
   "metadata": {},
   "outputs": [
    {
     "data": {
      "text/plain": [
       "<matplotlib.axes._subplots.AxesSubplot at 0x225a380d1d0>"
      ]
     },
     "execution_count": 291,
     "metadata": {},
     "output_type": "execute_result"
    },
    {
     "data": {
      "text/plain": [
       "<matplotlib.axes._subplots.AxesSubplot at 0x225a380d1d0>"
      ]
     },
     "execution_count": 291,
     "metadata": {},
     "output_type": "execute_result"
    },
    {
     "data": {
      "text/plain": [
       "<matplotlib.axes._subplots.AxesSubplot at 0x225a380d1d0>"
      ]
     },
     "execution_count": 291,
     "metadata": {},
     "output_type": "execute_result"
    },
    {
     "data": {
      "text/plain": [
       "Text(0.5,1,'Comparison of SepalLengthCm for each species')"
      ]
     },
     "execution_count": 291,
     "metadata": {},
     "output_type": "execute_result"
    },
    {
     "data": {
      "text/plain": [
       "<matplotlib.legend.Legend at 0x225a3630390>"
      ]
     },
     "execution_count": 291,
     "metadata": {},
     "output_type": "execute_result"
    },
    {
     "data": {
      "image/png": "[encoded data removed]",
      "text/plain": [
       "<Figure size 432x288 with 1 Axes>"
      ]
     },
     "metadata": {},
     "output_type": "display_data"
    }
   ],
   "source": [
    "for key, data in iris.groupby('Species'): \n",
    "    data = data.reset_index()              # 종마다 리셋시키기.\n",
    "    data[var].plot(label= 'Plot for '+key)   # 범례 적용하기\n",
    "plt.title('Comparison of ' + var +' for each species')\n",
    "plt.legend()    \n",
    "plt.show()"
   ]
  },
  {
   "cell_type": "code",
   "execution_count": null,
   "metadata": {},
   "outputs": [],
   "source": []
  },
  {
   "cell_type": "code",
   "execution_count": null,
   "metadata": {},
   "outputs": [],
   "source": []
  },
  {
   "cell_type": "markdown",
   "metadata": {},
   "source": [
    "범례 밖에 적용시키기"
   ]
  },
  {
   "cell_type": "code",
   "execution_count": 292,
   "metadata": {},
   "outputs": [
    {
     "data": {
      "text/plain": [
       "<matplotlib.axes._subplots.AxesSubplot at 0x225a36a8630>"
      ]
     },
     "execution_count": 292,
     "metadata": {},
     "output_type": "execute_result"
    },
    {
     "data": {
      "text/plain": [
       "<matplotlib.axes._subplots.AxesSubplot at 0x225a36a8630>"
      ]
     },
     "execution_count": 292,
     "metadata": {},
     "output_type": "execute_result"
    },
    {
     "data": {
      "text/plain": [
       "<matplotlib.axes._subplots.AxesSubplot at 0x225a36a8630>"
      ]
     },
     "execution_count": 292,
     "metadata": {},
     "output_type": "execute_result"
    },
    {
     "data": {
      "text/plain": [
       "<matplotlib.legend.Legend at 0x225a3849f98>"
      ]
     },
     "execution_count": 292,
     "metadata": {},
     "output_type": "execute_result"
    },
    {
     "data": {
      "image/png": "[encoded data removed]",
      "text/plain": [
       "<Figure size 432x288 with 1 Axes>"
      ]
     },
     "metadata": {},
     "output_type": "display_data"
    }
   ],
   "source": [
    "for key, data in iris.groupby('Species'): \n",
    "    data = data.reset_index()            \n",
    "    data[var].plot(label= 'Plot for '+key)   \n",
    "\n",
    "plt.legend(loc = 'center left', bbox_to_anchor = (1.0, 0.5))  # 박스 밖에 범레 적용시키기\n",
    "plt.show()"
   ]
  },
  {
   "cell_type": "code",
   "execution_count": null,
   "metadata": {},
   "outputs": [],
   "source": []
  },
  {
   "cell_type": "markdown",
   "metadata": {},
   "source": [
    "## Seaborn 라이브러리 ! (자주쓰인다)"
   ]
  },
  {
   "cell_type": "markdown",
   "metadata": {},
   "source": [
    "좀더 이쁘게 보이는 형태"
   ]
  },
  {
   "cell_type": "code",
   "execution_count": 293,
   "metadata": {},
   "outputs": [],
   "source": [
    "import seaborn as sns "
   ]
  },
  {
   "cell_type": "code",
   "execution_count": 294,
   "metadata": {},
   "outputs": [
    {
     "name": "stderr",
     "output_type": "stream",
     "text": [
      "C:\\Users\\renz\\Anaconda3\\lib\\site-packages\\matplotlib\\axes\\_axes.py:6462: UserWarning: The 'normed' kwarg is deprecated, and has been replaced by the 'density' kwarg.\n",
      "  warnings.warn(\"The 'normed' kwarg is deprecated, and has been \"\n",
      "C:\\Users\\renz\\Anaconda3\\lib\\site-packages\\matplotlib\\axes\\_axes.py:6462: UserWarning: The 'normed' kwarg is deprecated, and has been replaced by the 'density' kwarg.\n",
      "  warnings.warn(\"The 'normed' kwarg is deprecated, and has been \"\n"
     ]
    },
    {
     "data": {
      "text/plain": [
       "<seaborn.axisgrid.JointGrid at 0x225a4310828>"
      ]
     },
     "execution_count": 294,
     "metadata": {},
     "output_type": "execute_result"
    },
    {
     "data": {
      "image/png": "[encoded data removed]",
      "text/plain": [
       "<Figure size 360x360 with 3 Axes>"
      ]
     },
     "metadata": {},
     "output_type": "display_data"
    }
   ],
   "source": [
    "sns.jointplot(x = 'SepalLengthCm',y = 'SepalWidthCm', data = iris, size =5)  # 히스토그램동시에 그려줌\n",
    "plt.show()   "
   ]
  },
  {
   "cell_type": "markdown",
   "metadata": {},
   "source": [
    "세 변수간의 관계를 보고 싶다."
   ]
  },
  {
   "cell_type": "code",
   "execution_count": 296,
   "metadata": {},
   "outputs": [
    {
     "data": {
      "text/plain": [
       "<seaborn.axisgrid.FacetGrid at 0x225a37dd2b0>"
      ]
     },
     "execution_count": 296,
     "metadata": {},
     "output_type": "execute_result"
    },
    {
     "data": {
      "image/png": "[encoded data removed]",
      "text/plain": [
       "<Figure size 463.5x360 with 1 Axes>"
      ]
     },
     "metadata": {},
     "output_type": "display_data"
    }
   ],
   "source": [
    "sns.FacetGrid(iris, hue = 'Species', size =5).map(plt.scatter, 'SepalLengthCm', 'SepalWidthCm') \\\n",
    ".add_legend()\n",
    "plt.show()"
   ]
  },
  {
   "cell_type": "code",
   "execution_count": 297,
   "metadata": {},
   "outputs": [
    {
     "data": {
      "text/plain": [
       "<matplotlib.axes._subplots.AxesSubplot at 0x225a453e470>"
      ]
     },
     "execution_count": 297,
     "metadata": {},
     "output_type": "execute_result"
    },
    {
     "data": {
      "image/png": "[encoded data removed]",
      "text/plain": [
       "<Figure size 432x288 with 1 Axes>"
      ]
     },
     "metadata": {},
     "output_type": "display_data"
    }
   ],
   "source": [
    "sns.boxplot(x = 'Species', y = 'PetalLengthCm', data = iris)\n",
    "plt.show()"
   ]
  },
  {
   "cell_type": "markdown",
   "metadata": {},
   "source": [
    "관측된 point들을 boxplot에 나타나내고 싶을때 -> stripplot / Jitter = True"
   ]
  },
  {
   "cell_type": "code",
   "execution_count": 298,
   "metadata": {},
   "outputs": [
    {
     "data": {
      "image/png": "[encoded data removed]",
      "text/plain": [
       "<Figure size 432x288 with 1 Axes>"
      ]
     },
     "metadata": {},
     "output_type": "display_data"
    }
   ],
   "source": [
    "ax = sns.boxplot(x = 'Species', y = 'PetalLengthCm', data = iris)\n",
    "\n",
    "ax = sns.stripplot(x = 'Species', y = 'PetalLengthCm', data = iris, jitter =True,\n",
    "                  edgecolor = 'gray')\n",
    "plt.show()"
   ]
  },
  {
   "cell_type": "code",
   "execution_count": 300,
   "metadata": {},
   "outputs": [
    {
     "data": {
      "text/plain": [
       "<seaborn.axisgrid.PairGrid at 0x2258cd470f0>"
      ]
     },
     "execution_count": 300,
     "metadata": {},
     "output_type": "execute_result"
    },
    {
     "data": {
      "image/png": "[encoded data removed]",
      "text/plain": [
       "<Figure size 967.5x864 with 20 Axes>"
      ]
     },
     "metadata": {},
     "output_type": "display_data"
    }
   ],
   "source": [
    "sns.pairplot(iris.drop(\"Id\", axis=1),\n",
    "            hue=\"Species\", size=3)\n",
    "# diagonal (대각선)은 스스로를 plot하는거기때문에 의미가 없다.\n",
    "sns.pairplot(iris.drop(\"Id\", axis=1),\n",
    "            hue=\"Species\", size=3)\n",
    "# diagonal (대각선)은 스스로를 plot하는거기때문에 의미가 없다.\n",
    "plt.show()  plt.show()  "
   ]
  },
  {
   "cell_type": "code",
   "execution_count": 301,
   "metadata": {},
   "outputs": [
    {
     "data": {
      "text/plain": [
       "<seaborn.axisgrid.PairGrid at 0x2258d4195c0>"
      ]
     },
     "execution_count": 301,
     "metadata": {},
     "output_type": "execute_result"
    },
    {
     "data": {
      "image/png": "[encoded data removed]",
      "text/plain": [
       "<Figure size 967.5x864 with 20 Axes>"
      ]
     },
     "metadata": {},
     "output_type": "display_data"
    }
   ],
   "source": [
    "sns.pairplot(iris.drop(\"Id\", axis=1),\n",
    "            hue=\"Species\", size=3, diag_kind = 'kde') # kernel density estimation :kde..라는게 있다.\n",
    "plt.show()  \n",
    "\n"
   ]
  },
  {
   "cell_type": "code",
   "execution_count": null,
   "metadata": {},
   "outputs": [],
   "source": []
  }
 ],
 "metadata": {
  "kernelspec": {
   "display_name": "Python 3",
   "language": "python",
   "name": "python3"
  },
  "language_info": {
   "codemirror_mode": {
    "name": "ipython",
    "version": 3
   },
   "file_extension": ".py",
   "mimetype": "text/x-python",
   "name": "python",
   "nbconvert_exporter": "python",
   "pygments_lexer": "ipython3",
   "version": "3.6.5"
  }
 },
 "nbformat": 4,
 "nbformat_minor": 2
}
